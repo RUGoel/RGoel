{
  "cells": [
    {
      "cell_type": "code",
      "execution_count": null,
      "metadata": {
        "id": "BDGWPHowY32C"
      },
      "outputs": [],
      "source": [
        "\n",
        "import numpy as np \n",
        "import pandas as pd \n",
        "\n",
        "\n",
        "import os\n",
        "for dirname, _, filenames in os.walk('/content/drive/MyDrive/hsd'):\n",
        "    for filename in filenames:\n",
        "        print(os.path.join(dirname, filename))\n",
        "\n"
      ]
    },
    {
      "cell_type": "code",
      "execution_count": null,
      "metadata": {
        "id": "6fD4Isn7K4Ek",
        "colab": {
          "base_uri": "https://localhost:8080/"
        },
        "outputId": "fd849c6e-45d6-407a-fe00-6cf3eab961ac"
      },
      "outputs": [
        {
          "output_type": "stream",
          "name": "stdout",
          "text": [
            "Mounted at /content/drive\n"
          ]
        }
      ],
      "source": [
        "from google.colab import drive\n",
        "drive.mount('/content/drive')"
      ]
    },
    {
      "cell_type": "code",
      "execution_count": null,
      "metadata": {
        "id": "veRQFRW5Y32F"
      },
      "outputs": [],
      "source": [
        "df_twitter=pd.read_csv(\"/content/drive/MyDrive/trainn.csv\")"
      ]
    },
    {
      "cell_type": "code",
      "execution_count": null,
      "metadata": {
        "colab": {
          "base_uri": "https://localhost:8080/",
          "height": 206
        },
        "id": "1DC_hn49Y32G",
        "outputId": "c6958739-bfb7-4f80-a6f0-4dfafad0737c"
      },
      "outputs": [
        {
          "output_type": "execute_result",
          "data": {
            "text/plain": [
              "   id  label                                              tweet\n",
              "0   1      0   @user when a father is dysfunctional and is s...\n",
              "1   2      0  @user @user thanks for #lyft credit i can't us...\n",
              "2   3      0                                bihday your majesty\n",
              "3   4      0  #model   i love u take with u all the time in ...\n",
              "4   5      0             factsguide: society now    #motivation"
            ],
            "text/html": [
              "\n",
              "  <div id=\"df-a00dabb5-a166-427c-9076-104dc4d2e8a2\">\n",
              "    <div class=\"colab-df-container\">\n",
              "      <div>\n",
              "<style scoped>\n",
              "    .dataframe tbody tr th:only-of-type {\n",
              "        vertical-align: middle;\n",
              "    }\n",
              "\n",
              "    .dataframe tbody tr th {\n",
              "        vertical-align: top;\n",
              "    }\n",
              "\n",
              "    .dataframe thead th {\n",
              "        text-align: right;\n",
              "    }\n",
              "</style>\n",
              "<table border=\"1\" class=\"dataframe\">\n",
              "  <thead>\n",
              "    <tr style=\"text-align: right;\">\n",
              "      <th></th>\n",
              "      <th>id</th>\n",
              "      <th>label</th>\n",
              "      <th>tweet</th>\n",
              "    </tr>\n",
              "  </thead>\n",
              "  <tbody>\n",
              "    <tr>\n",
              "      <th>0</th>\n",
              "      <td>1</td>\n",
              "      <td>0</td>\n",
              "      <td>@user when a father is dysfunctional and is s...</td>\n",
              "    </tr>\n",
              "    <tr>\n",
              "      <th>1</th>\n",
              "      <td>2</td>\n",
              "      <td>0</td>\n",
              "      <td>@user @user thanks for #lyft credit i can't us...</td>\n",
              "    </tr>\n",
              "    <tr>\n",
              "      <th>2</th>\n",
              "      <td>3</td>\n",
              "      <td>0</td>\n",
              "      <td>bihday your majesty</td>\n",
              "    </tr>\n",
              "    <tr>\n",
              "      <th>3</th>\n",
              "      <td>4</td>\n",
              "      <td>0</td>\n",
              "      <td>#model   i love u take with u all the time in ...</td>\n",
              "    </tr>\n",
              "    <tr>\n",
              "      <th>4</th>\n",
              "      <td>5</td>\n",
              "      <td>0</td>\n",
              "      <td>factsguide: society now    #motivation</td>\n",
              "    </tr>\n",
              "  </tbody>\n",
              "</table>\n",
              "</div>\n",
              "      <button class=\"colab-df-convert\" onclick=\"convertToInteractive('df-a00dabb5-a166-427c-9076-104dc4d2e8a2')\"\n",
              "              title=\"Convert this dataframe to an interactive table.\"\n",
              "              style=\"display:none;\">\n",
              "        \n",
              "  <svg xmlns=\"http://www.w3.org/2000/svg\" height=\"24px\"viewBox=\"0 0 24 24\"\n",
              "       width=\"24px\">\n",
              "    <path d=\"M0 0h24v24H0V0z\" fill=\"none\"/>\n",
              "    <path d=\"M18.56 5.44l.94 2.06.94-2.06 2.06-.94-2.06-.94-.94-2.06-.94 2.06-2.06.94zm-11 1L8.5 8.5l.94-2.06 2.06-.94-2.06-.94L8.5 2.5l-.94 2.06-2.06.94zm10 10l.94 2.06.94-2.06 2.06-.94-2.06-.94-.94-2.06-.94 2.06-2.06.94z\"/><path d=\"M17.41 7.96l-1.37-1.37c-.4-.4-.92-.59-1.43-.59-.52 0-1.04.2-1.43.59L10.3 9.45l-7.72 7.72c-.78.78-.78 2.05 0 2.83L4 21.41c.39.39.9.59 1.41.59.51 0 1.02-.2 1.41-.59l7.78-7.78 2.81-2.81c.8-.78.8-2.07 0-2.86zM5.41 20L4 18.59l7.72-7.72 1.47 1.35L5.41 20z\"/>\n",
              "  </svg>\n",
              "      </button>\n",
              "      \n",
              "  <style>\n",
              "    .colab-df-container {\n",
              "      display:flex;\n",
              "      flex-wrap:wrap;\n",
              "      gap: 12px;\n",
              "    }\n",
              "\n",
              "    .colab-df-convert {\n",
              "      background-color: #E8F0FE;\n",
              "      border: none;\n",
              "      border-radius: 50%;\n",
              "      cursor: pointer;\n",
              "      display: none;\n",
              "      fill: #1967D2;\n",
              "      height: 32px;\n",
              "      padding: 0 0 0 0;\n",
              "      width: 32px;\n",
              "    }\n",
              "\n",
              "    .colab-df-convert:hover {\n",
              "      background-color: #E2EBFA;\n",
              "      box-shadow: 0px 1px 2px rgba(60, 64, 67, 0.3), 0px 1px 3px 1px rgba(60, 64, 67, 0.15);\n",
              "      fill: #174EA6;\n",
              "    }\n",
              "\n",
              "    [theme=dark] .colab-df-convert {\n",
              "      background-color: #3B4455;\n",
              "      fill: #D2E3FC;\n",
              "    }\n",
              "\n",
              "    [theme=dark] .colab-df-convert:hover {\n",
              "      background-color: #434B5C;\n",
              "      box-shadow: 0px 1px 3px 1px rgba(0, 0, 0, 0.15);\n",
              "      filter: drop-shadow(0px 1px 2px rgba(0, 0, 0, 0.3));\n",
              "      fill: #FFFFFF;\n",
              "    }\n",
              "  </style>\n",
              "\n",
              "      <script>\n",
              "        const buttonEl =\n",
              "          document.querySelector('#df-a00dabb5-a166-427c-9076-104dc4d2e8a2 button.colab-df-convert');\n",
              "        buttonEl.style.display =\n",
              "          google.colab.kernel.accessAllowed ? 'block' : 'none';\n",
              "\n",
              "        async function convertToInteractive(key) {\n",
              "          const element = document.querySelector('#df-a00dabb5-a166-427c-9076-104dc4d2e8a2');\n",
              "          const dataTable =\n",
              "            await google.colab.kernel.invokeFunction('convertToInteractive',\n",
              "                                                     [key], {});\n",
              "          if (!dataTable) return;\n",
              "\n",
              "          const docLinkHtml = 'Like what you see? Visit the ' +\n",
              "            '<a target=\"_blank\" href=https://colab.research.google.com/notebooks/data_table.ipynb>data table notebook</a>'\n",
              "            + ' to learn more about interactive tables.';\n",
              "          element.innerHTML = '';\n",
              "          dataTable['output_type'] = 'display_data';\n",
              "          await google.colab.output.renderOutput(dataTable, element);\n",
              "          const docLink = document.createElement('div');\n",
              "          docLink.innerHTML = docLinkHtml;\n",
              "          element.appendChild(docLink);\n",
              "        }\n",
              "      </script>\n",
              "    </div>\n",
              "  </div>\n",
              "  "
            ]
          },
          "metadata": {},
          "execution_count": 4
        }
      ],
      "source": [
        "df_twitter.head()"
      ]
    },
    {
      "cell_type": "code",
      "execution_count": null,
      "metadata": {
        "colab": {
          "base_uri": "https://localhost:8080/",
          "height": 183
        },
        "id": "0KOgvQieY32G",
        "outputId": "438b2d91-19b7-4a1b-b7db-5f125ac76a89"
      },
      "outputs": [
        {
          "output_type": "error",
          "ename": "TypeError",
          "evalue": "ignored",
          "traceback": [
            "\u001b[0;31m---------------------------------------------------------------------------\u001b[0m",
            "\u001b[0;31mTypeError\u001b[0m                                 Traceback (most recent call last)",
            "\u001b[0;32m<ipython-input-5-0cb6e9ef61ab>\u001b[0m in \u001b[0;36m<cell line: 2>\u001b[0;34m()\u001b[0m\n\u001b[1;32m      1\u001b[0m \u001b[0;32mimport\u001b[0m \u001b[0mseaborn\u001b[0m \u001b[0;32mas\u001b[0m \u001b[0msns\u001b[0m\u001b[0;34m\u001b[0m\u001b[0;34m\u001b[0m\u001b[0m\n\u001b[0;32m----> 2\u001b[0;31m \u001b[0msns\u001b[0m\u001b[0;34m.\u001b[0m\u001b[0mcountplot\u001b[0m\u001b[0;34m(\u001b[0m\u001b[0;34m'label'\u001b[0m\u001b[0;34m,\u001b[0m\u001b[0mdata\u001b[0m\u001b[0;34m=\u001b[0m\u001b[0mdf_twitter\u001b[0m\u001b[0;34m)\u001b[0m\u001b[0;34m\u001b[0m\u001b[0;34m\u001b[0m\u001b[0m\n\u001b[0m",
            "\u001b[0;31mTypeError\u001b[0m: countplot() got multiple values for argument 'data'"
          ]
        }
      ],
      "source": [
        "import seaborn as sns\n",
        "sns.countplot('label',data=df_twitter)"
      ]
    },
    {
      "cell_type": "code",
      "execution_count": null,
      "metadata": {
        "colab": {
          "base_uri": "https://localhost:8080/"
        },
        "id": "NE1IjOc-Y32H",
        "outputId": "4dfef87c-8dc7-479f-dfd5-b8ede559f7b9"
      },
      "outputs": [
        {
          "output_type": "execute_result",
          "data": {
            "text/plain": [
              "(31962, 3)"
            ]
          },
          "metadata": {},
          "execution_count": 6
        }
      ],
      "source": [
        "df_twitter.shape"
      ]
    },
    {
      "cell_type": "code",
      "execution_count": null,
      "metadata": {
        "colab": {
          "base_uri": "https://localhost:8080/"
        },
        "id": "HttBD2F_Y32H",
        "outputId": "b869858c-ff8d-454f-9a88-586e468aef6a"
      },
      "outputs": [
        {
          "output_type": "execute_result",
          "data": {
            "text/plain": [
              "id       0\n",
              "label    0\n",
              "tweet    0\n",
              "dtype: int64"
            ]
          },
          "metadata": {},
          "execution_count": 7
        }
      ],
      "source": [
        "df_twitter.isnull().sum()"
      ]
    },
    {
      "cell_type": "code",
      "execution_count": null,
      "metadata": {
        "id": "FPXp669lY32I"
      },
      "outputs": [],
      "source": [
        "df_twitter.drop('id',axis=1,inplace=True)"
      ]
    },
    {
      "cell_type": "code",
      "execution_count": null,
      "metadata": {
        "id": "zkkp4UUPY32I"
      },
      "outputs": [],
      "source": [
        "df_offensive=pd.read_csv(\"/content/drive/MyDrive/labeled_data.csv\")"
      ]
    },
    {
      "cell_type": "code",
      "execution_count": null,
      "metadata": {
        "colab": {
          "base_uri": "https://localhost:8080/",
          "height": 206
        },
        "id": "6Jh3ihc0Y32J",
        "outputId": "86a82837-a97f-4f5d-de31-7d57dc205501"
      },
      "outputs": [
        {
          "output_type": "execute_result",
          "data": {
            "text/plain": [
              "   Unnamed: 0  count  hate_speech  offensive_language  neither  class  \\\n",
              "0           0      3            0                   0        3      2   \n",
              "1           1      3            0                   3        0      1   \n",
              "2           2      3            0                   3        0      1   \n",
              "3           3      3            0                   2        1      1   \n",
              "4           4      6            0                   6        0      1   \n",
              "\n",
              "                                               tweet  \n",
              "0  !!! RT @mayasolovely: As a woman you shouldn't...  \n",
              "1  !!!!! RT @mleew17: boy dats cold...tyga dwn ba...  \n",
              "2  !!!!!!! RT @UrKindOfBrand Dawg!!!! RT @80sbaby...  \n",
              "3  !!!!!!!!! RT @C_G_Anderson: @viva_based she lo...  \n",
              "4  !!!!!!!!!!!!! RT @ShenikaRoberts: The shit you...  "
            ],
            "text/html": [
              "\n",
              "  <div id=\"df-a3f832b7-94d8-4031-befa-3d6a400b8770\">\n",
              "    <div class=\"colab-df-container\">\n",
              "      <div>\n",
              "<style scoped>\n",
              "    .dataframe tbody tr th:only-of-type {\n",
              "        vertical-align: middle;\n",
              "    }\n",
              "\n",
              "    .dataframe tbody tr th {\n",
              "        vertical-align: top;\n",
              "    }\n",
              "\n",
              "    .dataframe thead th {\n",
              "        text-align: right;\n",
              "    }\n",
              "</style>\n",
              "<table border=\"1\" class=\"dataframe\">\n",
              "  <thead>\n",
              "    <tr style=\"text-align: right;\">\n",
              "      <th></th>\n",
              "      <th>Unnamed: 0</th>\n",
              "      <th>count</th>\n",
              "      <th>hate_speech</th>\n",
              "      <th>offensive_language</th>\n",
              "      <th>neither</th>\n",
              "      <th>class</th>\n",
              "      <th>tweet</th>\n",
              "    </tr>\n",
              "  </thead>\n",
              "  <tbody>\n",
              "    <tr>\n",
              "      <th>0</th>\n",
              "      <td>0</td>\n",
              "      <td>3</td>\n",
              "      <td>0</td>\n",
              "      <td>0</td>\n",
              "      <td>3</td>\n",
              "      <td>2</td>\n",
              "      <td>!!! RT @mayasolovely: As a woman you shouldn't...</td>\n",
              "    </tr>\n",
              "    <tr>\n",
              "      <th>1</th>\n",
              "      <td>1</td>\n",
              "      <td>3</td>\n",
              "      <td>0</td>\n",
              "      <td>3</td>\n",
              "      <td>0</td>\n",
              "      <td>1</td>\n",
              "      <td>!!!!! RT @mleew17: boy dats cold...tyga dwn ba...</td>\n",
              "    </tr>\n",
              "    <tr>\n",
              "      <th>2</th>\n",
              "      <td>2</td>\n",
              "      <td>3</td>\n",
              "      <td>0</td>\n",
              "      <td>3</td>\n",
              "      <td>0</td>\n",
              "      <td>1</td>\n",
              "      <td>!!!!!!! RT @UrKindOfBrand Dawg!!!! RT @80sbaby...</td>\n",
              "    </tr>\n",
              "    <tr>\n",
              "      <th>3</th>\n",
              "      <td>3</td>\n",
              "      <td>3</td>\n",
              "      <td>0</td>\n",
              "      <td>2</td>\n",
              "      <td>1</td>\n",
              "      <td>1</td>\n",
              "      <td>!!!!!!!!! RT @C_G_Anderson: @viva_based she lo...</td>\n",
              "    </tr>\n",
              "    <tr>\n",
              "      <th>4</th>\n",
              "      <td>4</td>\n",
              "      <td>6</td>\n",
              "      <td>0</td>\n",
              "      <td>6</td>\n",
              "      <td>0</td>\n",
              "      <td>1</td>\n",
              "      <td>!!!!!!!!!!!!! RT @ShenikaRoberts: The shit you...</td>\n",
              "    </tr>\n",
              "  </tbody>\n",
              "</table>\n",
              "</div>\n",
              "      <button class=\"colab-df-convert\" onclick=\"convertToInteractive('df-a3f832b7-94d8-4031-befa-3d6a400b8770')\"\n",
              "              title=\"Convert this dataframe to an interactive table.\"\n",
              "              style=\"display:none;\">\n",
              "        \n",
              "  <svg xmlns=\"http://www.w3.org/2000/svg\" height=\"24px\"viewBox=\"0 0 24 24\"\n",
              "       width=\"24px\">\n",
              "    <path d=\"M0 0h24v24H0V0z\" fill=\"none\"/>\n",
              "    <path d=\"M18.56 5.44l.94 2.06.94-2.06 2.06-.94-2.06-.94-.94-2.06-.94 2.06-2.06.94zm-11 1L8.5 8.5l.94-2.06 2.06-.94-2.06-.94L8.5 2.5l-.94 2.06-2.06.94zm10 10l.94 2.06.94-2.06 2.06-.94-2.06-.94-.94-2.06-.94 2.06-2.06.94z\"/><path d=\"M17.41 7.96l-1.37-1.37c-.4-.4-.92-.59-1.43-.59-.52 0-1.04.2-1.43.59L10.3 9.45l-7.72 7.72c-.78.78-.78 2.05 0 2.83L4 21.41c.39.39.9.59 1.41.59.51 0 1.02-.2 1.41-.59l7.78-7.78 2.81-2.81c.8-.78.8-2.07 0-2.86zM5.41 20L4 18.59l7.72-7.72 1.47 1.35L5.41 20z\"/>\n",
              "  </svg>\n",
              "      </button>\n",
              "      \n",
              "  <style>\n",
              "    .colab-df-container {\n",
              "      display:flex;\n",
              "      flex-wrap:wrap;\n",
              "      gap: 12px;\n",
              "    }\n",
              "\n",
              "    .colab-df-convert {\n",
              "      background-color: #E8F0FE;\n",
              "      border: none;\n",
              "      border-radius: 50%;\n",
              "      cursor: pointer;\n",
              "      display: none;\n",
              "      fill: #1967D2;\n",
              "      height: 32px;\n",
              "      padding: 0 0 0 0;\n",
              "      width: 32px;\n",
              "    }\n",
              "\n",
              "    .colab-df-convert:hover {\n",
              "      background-color: #E2EBFA;\n",
              "      box-shadow: 0px 1px 2px rgba(60, 64, 67, 0.3), 0px 1px 3px 1px rgba(60, 64, 67, 0.15);\n",
              "      fill: #174EA6;\n",
              "    }\n",
              "\n",
              "    [theme=dark] .colab-df-convert {\n",
              "      background-color: #3B4455;\n",
              "      fill: #D2E3FC;\n",
              "    }\n",
              "\n",
              "    [theme=dark] .colab-df-convert:hover {\n",
              "      background-color: #434B5C;\n",
              "      box-shadow: 0px 1px 3px 1px rgba(0, 0, 0, 0.15);\n",
              "      filter: drop-shadow(0px 1px 2px rgba(0, 0, 0, 0.3));\n",
              "      fill: #FFFFFF;\n",
              "    }\n",
              "  </style>\n",
              "\n",
              "      <script>\n",
              "        const buttonEl =\n",
              "          document.querySelector('#df-a3f832b7-94d8-4031-befa-3d6a400b8770 button.colab-df-convert');\n",
              "        buttonEl.style.display =\n",
              "          google.colab.kernel.accessAllowed ? 'block' : 'none';\n",
              "\n",
              "        async function convertToInteractive(key) {\n",
              "          const element = document.querySelector('#df-a3f832b7-94d8-4031-befa-3d6a400b8770');\n",
              "          const dataTable =\n",
              "            await google.colab.kernel.invokeFunction('convertToInteractive',\n",
              "                                                     [key], {});\n",
              "          if (!dataTable) return;\n",
              "\n",
              "          const docLinkHtml = 'Like what you see? Visit the ' +\n",
              "            '<a target=\"_blank\" href=https://colab.research.google.com/notebooks/data_table.ipynb>data table notebook</a>'\n",
              "            + ' to learn more about interactive tables.';\n",
              "          element.innerHTML = '';\n",
              "          dataTable['output_type'] = 'display_data';\n",
              "          await google.colab.output.renderOutput(dataTable, element);\n",
              "          const docLink = document.createElement('div');\n",
              "          docLink.innerHTML = docLinkHtml;\n",
              "          element.appendChild(docLink);\n",
              "        }\n",
              "      </script>\n",
              "    </div>\n",
              "  </div>\n",
              "  "
            ]
          },
          "metadata": {},
          "execution_count": 10
        }
      ],
      "source": [
        "df_offensive.head()"
      ]
    },
    {
      "cell_type": "code",
      "execution_count": null,
      "metadata": {
        "colab": {
          "base_uri": "https://localhost:8080/"
        },
        "id": "gmKOiXIzY32J",
        "outputId": "56eeb9eb-c979-4ad6-e73f-ae10ada0fa79"
      },
      "outputs": [
        {
          "output_type": "execute_result",
          "data": {
            "text/plain": [
              "(24783, 7)"
            ]
          },
          "metadata": {},
          "execution_count": 11
        }
      ],
      "source": [
        "df_offensive.shape"
      ]
    },
    {
      "cell_type": "code",
      "execution_count": null,
      "metadata": {
        "colab": {
          "base_uri": "https://localhost:8080/"
        },
        "id": "lbwLc3TrY32K",
        "outputId": "7db18928-9cfb-4974-84b2-5bcf754d9e16"
      },
      "outputs": [
        {
          "output_type": "execute_result",
          "data": {
            "text/plain": [
              "Unnamed: 0            0\n",
              "count                 0\n",
              "hate_speech           0\n",
              "offensive_language    0\n",
              "neither               0\n",
              "class                 0\n",
              "tweet                 0\n",
              "dtype: int64"
            ]
          },
          "metadata": {},
          "execution_count": 12
        }
      ],
      "source": [
        "df_offensive.isnull().sum()"
      ]
    },
    {
      "cell_type": "code",
      "execution_count": null,
      "metadata": {
        "id": "fG1gwrHhY32K"
      },
      "outputs": [],
      "source": [
        "df_offensive.drop(['Unnamed: 0','count','hate_speech','offensive_language','neither'],axis=1,inplace=True)"
      ]
    },
    {
      "cell_type": "code",
      "execution_count": null,
      "metadata": {
        "colab": {
          "base_uri": "https://localhost:8080/",
          "height": 363
        },
        "id": "CNBg7NtJY32K",
        "outputId": "c3aea466-b76b-47c7-9785-8e4e671fde89"
      },
      "outputs": [
        {
          "output_type": "execute_result",
          "data": {
            "text/plain": [
              "   class                                              tweet\n",
              "0      2  !!! RT @mayasolovely: As a woman you shouldn't...\n",
              "1      1  !!!!! RT @mleew17: boy dats cold...tyga dwn ba...\n",
              "2      1  !!!!!!! RT @UrKindOfBrand Dawg!!!! RT @80sbaby...\n",
              "3      1  !!!!!!!!! RT @C_G_Anderson: @viva_based she lo...\n",
              "4      1  !!!!!!!!!!!!! RT @ShenikaRoberts: The shit you...\n",
              "5      1  !!!!!!!!!!!!!!!!!!\"@T_Madison_x: The shit just...\n",
              "6      1  !!!!!!\"@__BrighterDays: I can not just sit up ...\n",
              "7      1  !!!!&#8220;@selfiequeenbri: cause I'm tired of...\n",
              "8      1  \" &amp; you might not get ya bitch back &amp; ...\n",
              "9      1  \" @rhythmixx_ :hobbies include: fighting Maria..."
            ],
            "text/html": [
              "\n",
              "  <div id=\"df-9978021d-ffcf-42cf-81ad-11019c9a8151\">\n",
              "    <div class=\"colab-df-container\">\n",
              "      <div>\n",
              "<style scoped>\n",
              "    .dataframe tbody tr th:only-of-type {\n",
              "        vertical-align: middle;\n",
              "    }\n",
              "\n",
              "    .dataframe tbody tr th {\n",
              "        vertical-align: top;\n",
              "    }\n",
              "\n",
              "    .dataframe thead th {\n",
              "        text-align: right;\n",
              "    }\n",
              "</style>\n",
              "<table border=\"1\" class=\"dataframe\">\n",
              "  <thead>\n",
              "    <tr style=\"text-align: right;\">\n",
              "      <th></th>\n",
              "      <th>class</th>\n",
              "      <th>tweet</th>\n",
              "    </tr>\n",
              "  </thead>\n",
              "  <tbody>\n",
              "    <tr>\n",
              "      <th>0</th>\n",
              "      <td>2</td>\n",
              "      <td>!!! RT @mayasolovely: As a woman you shouldn't...</td>\n",
              "    </tr>\n",
              "    <tr>\n",
              "      <th>1</th>\n",
              "      <td>1</td>\n",
              "      <td>!!!!! RT @mleew17: boy dats cold...tyga dwn ba...</td>\n",
              "    </tr>\n",
              "    <tr>\n",
              "      <th>2</th>\n",
              "      <td>1</td>\n",
              "      <td>!!!!!!! RT @UrKindOfBrand Dawg!!!! RT @80sbaby...</td>\n",
              "    </tr>\n",
              "    <tr>\n",
              "      <th>3</th>\n",
              "      <td>1</td>\n",
              "      <td>!!!!!!!!! RT @C_G_Anderson: @viva_based she lo...</td>\n",
              "    </tr>\n",
              "    <tr>\n",
              "      <th>4</th>\n",
              "      <td>1</td>\n",
              "      <td>!!!!!!!!!!!!! RT @ShenikaRoberts: The shit you...</td>\n",
              "    </tr>\n",
              "    <tr>\n",
              "      <th>5</th>\n",
              "      <td>1</td>\n",
              "      <td>!!!!!!!!!!!!!!!!!!\"@T_Madison_x: The shit just...</td>\n",
              "    </tr>\n",
              "    <tr>\n",
              "      <th>6</th>\n",
              "      <td>1</td>\n",
              "      <td>!!!!!!\"@__BrighterDays: I can not just sit up ...</td>\n",
              "    </tr>\n",
              "    <tr>\n",
              "      <th>7</th>\n",
              "      <td>1</td>\n",
              "      <td>!!!!&amp;#8220;@selfiequeenbri: cause I'm tired of...</td>\n",
              "    </tr>\n",
              "    <tr>\n",
              "      <th>8</th>\n",
              "      <td>1</td>\n",
              "      <td>\" &amp;amp; you might not get ya bitch back &amp;amp; ...</td>\n",
              "    </tr>\n",
              "    <tr>\n",
              "      <th>9</th>\n",
              "      <td>1</td>\n",
              "      <td>\" @rhythmixx_ :hobbies include: fighting Maria...</td>\n",
              "    </tr>\n",
              "  </tbody>\n",
              "</table>\n",
              "</div>\n",
              "      <button class=\"colab-df-convert\" onclick=\"convertToInteractive('df-9978021d-ffcf-42cf-81ad-11019c9a8151')\"\n",
              "              title=\"Convert this dataframe to an interactive table.\"\n",
              "              style=\"display:none;\">\n",
              "        \n",
              "  <svg xmlns=\"http://www.w3.org/2000/svg\" height=\"24px\"viewBox=\"0 0 24 24\"\n",
              "       width=\"24px\">\n",
              "    <path d=\"M0 0h24v24H0V0z\" fill=\"none\"/>\n",
              "    <path d=\"M18.56 5.44l.94 2.06.94-2.06 2.06-.94-2.06-.94-.94-2.06-.94 2.06-2.06.94zm-11 1L8.5 8.5l.94-2.06 2.06-.94-2.06-.94L8.5 2.5l-.94 2.06-2.06.94zm10 10l.94 2.06.94-2.06 2.06-.94-2.06-.94-.94-2.06-.94 2.06-2.06.94z\"/><path d=\"M17.41 7.96l-1.37-1.37c-.4-.4-.92-.59-1.43-.59-.52 0-1.04.2-1.43.59L10.3 9.45l-7.72 7.72c-.78.78-.78 2.05 0 2.83L4 21.41c.39.39.9.59 1.41.59.51 0 1.02-.2 1.41-.59l7.78-7.78 2.81-2.81c.8-.78.8-2.07 0-2.86zM5.41 20L4 18.59l7.72-7.72 1.47 1.35L5.41 20z\"/>\n",
              "  </svg>\n",
              "      </button>\n",
              "      \n",
              "  <style>\n",
              "    .colab-df-container {\n",
              "      display:flex;\n",
              "      flex-wrap:wrap;\n",
              "      gap: 12px;\n",
              "    }\n",
              "\n",
              "    .colab-df-convert {\n",
              "      background-color: #E8F0FE;\n",
              "      border: none;\n",
              "      border-radius: 50%;\n",
              "      cursor: pointer;\n",
              "      display: none;\n",
              "      fill: #1967D2;\n",
              "      height: 32px;\n",
              "      padding: 0 0 0 0;\n",
              "      width: 32px;\n",
              "    }\n",
              "\n",
              "    .colab-df-convert:hover {\n",
              "      background-color: #E2EBFA;\n",
              "      box-shadow: 0px 1px 2px rgba(60, 64, 67, 0.3), 0px 1px 3px 1px rgba(60, 64, 67, 0.15);\n",
              "      fill: #174EA6;\n",
              "    }\n",
              "\n",
              "    [theme=dark] .colab-df-convert {\n",
              "      background-color: #3B4455;\n",
              "      fill: #D2E3FC;\n",
              "    }\n",
              "\n",
              "    [theme=dark] .colab-df-convert:hover {\n",
              "      background-color: #434B5C;\n",
              "      box-shadow: 0px 1px 3px 1px rgba(0, 0, 0, 0.15);\n",
              "      filter: drop-shadow(0px 1px 2px rgba(0, 0, 0, 0.3));\n",
              "      fill: #FFFFFF;\n",
              "    }\n",
              "  </style>\n",
              "\n",
              "      <script>\n",
              "        const buttonEl =\n",
              "          document.querySelector('#df-9978021d-ffcf-42cf-81ad-11019c9a8151 button.colab-df-convert');\n",
              "        buttonEl.style.display =\n",
              "          google.colab.kernel.accessAllowed ? 'block' : 'none';\n",
              "\n",
              "        async function convertToInteractive(key) {\n",
              "          const element = document.querySelector('#df-9978021d-ffcf-42cf-81ad-11019c9a8151');\n",
              "          const dataTable =\n",
              "            await google.colab.kernel.invokeFunction('convertToInteractive',\n",
              "                                                     [key], {});\n",
              "          if (!dataTable) return;\n",
              "\n",
              "          const docLinkHtml = 'Like what you see? Visit the ' +\n",
              "            '<a target=\"_blank\" href=https://colab.research.google.com/notebooks/data_table.ipynb>data table notebook</a>'\n",
              "            + ' to learn more about interactive tables.';\n",
              "          element.innerHTML = '';\n",
              "          dataTable['output_type'] = 'display_data';\n",
              "          await google.colab.output.renderOutput(dataTable, element);\n",
              "          const docLink = document.createElement('div');\n",
              "          docLink.innerHTML = docLinkHtml;\n",
              "          element.appendChild(docLink);\n",
              "        }\n",
              "      </script>\n",
              "    </div>\n",
              "  </div>\n",
              "  "
            ]
          },
          "metadata": {},
          "execution_count": 14
        }
      ],
      "source": [
        "df_offensive.head(10)"
      ]
    },
    {
      "cell_type": "code",
      "execution_count": null,
      "metadata": {
        "colab": {
          "base_uri": "https://localhost:8080/"
        },
        "id": "QWSb7d92Y32L",
        "outputId": "02d2c2ed-52db-40dd-db3b-51ad93483acc"
      },
      "outputs": [
        {
          "output_type": "execute_result",
          "data": {
            "text/plain": [
              "array([2, 1, 0])"
            ]
          },
          "metadata": {},
          "execution_count": 15
        }
      ],
      "source": [
        "df_offensive['class'].unique()"
      ]
    },
    {
      "cell_type": "code",
      "execution_count": null,
      "metadata": {
        "colab": {
          "base_uri": "https://localhost:8080/",
          "height": 165
        },
        "id": "cKMzX_X5Y32L",
        "outputId": "e81c447d-7e7b-4c91-9d9e-0540e0e22670"
      },
      "outputs": [
        {
          "ename": "TypeError",
          "evalue": "ignored",
          "output_type": "error",
          "traceback": [
            "\u001b[0;31m---------------------------------------------------------------------------\u001b[0m",
            "\u001b[0;31mTypeError\u001b[0m                                 Traceback (most recent call last)",
            "\u001b[0;32m<ipython-input-25-0d05309f4ff1>\u001b[0m in \u001b[0;36m<module>\u001b[0;34m\u001b[0m\n\u001b[0;32m----> 1\u001b[0;31m \u001b[0msns\u001b[0m\u001b[0;34m.\u001b[0m\u001b[0mcountplot\u001b[0m\u001b[0;34m(\u001b[0m\u001b[0;34m'class'\u001b[0m\u001b[0;34m,\u001b[0m\u001b[0mdata\u001b[0m\u001b[0;34m=\u001b[0m\u001b[0mdf_offensive\u001b[0m\u001b[0;34m)\u001b[0m\u001b[0;34m\u001b[0m\u001b[0;34m\u001b[0m\u001b[0m\n\u001b[0m",
            "\u001b[0;31mTypeError\u001b[0m: countplot() got multiple values for argument 'data'"
          ]
        }
      ],
      "source": [
        "sns.countplot('class',data=df_offensive)"
      ]
    },
    {
      "cell_type": "code",
      "execution_count": null,
      "metadata": {
        "colab": {
          "base_uri": "https://localhost:8080/"
        },
        "id": "m0gq_W1nY32L",
        "outputId": "59876121-fa08-402b-e06d-59cb8d230fb4"
      },
      "outputs": [
        {
          "output_type": "stream",
          "name": "stderr",
          "text": [
            "<ipython-input-16-ecec8f69341f>:1: SettingWithCopyWarning: \n",
            "A value is trying to be set on a copy of a slice from a DataFrame.\n",
            "Try using .loc[row_indexer,col_indexer] = value instead\n",
            "\n",
            "See the caveats in the documentation: https://pandas.pydata.org/pandas-docs/stable/user_guide/indexing.html#returning-a-view-versus-a-copy\n",
            "  df_offensive[df_offensive['class']==0]['class']=1\n"
          ]
        }
      ],
      "source": [
        "df_offensive[df_offensive['class']==0]['class']=1"
      ]
    },
    {
      "cell_type": "code",
      "execution_count": null,
      "metadata": {
        "colab": {
          "base_uri": "https://localhost:8080/",
          "height": 206
        },
        "id": "-FEEMnB0Y32M",
        "outputId": "835db9cd-e49f-4a10-d549-b06abf372c41"
      },
      "outputs": [
        {
          "output_type": "execute_result",
          "data": {
            "text/plain": [
              "   class                                              tweet\n",
              "0      2  !!! RT @mayasolovely: As a woman you shouldn't...\n",
              "1      1  !!!!! RT @mleew17: boy dats cold...tyga dwn ba...\n",
              "2      1  !!!!!!! RT @UrKindOfBrand Dawg!!!! RT @80sbaby...\n",
              "3      1  !!!!!!!!! RT @C_G_Anderson: @viva_based she lo...\n",
              "4      1  !!!!!!!!!!!!! RT @ShenikaRoberts: The shit you..."
            ],
            "text/html": [
              "\n",
              "  <div id=\"df-473ac258-2ce2-48d9-94f5-72675b27441c\">\n",
              "    <div class=\"colab-df-container\">\n",
              "      <div>\n",
              "<style scoped>\n",
              "    .dataframe tbody tr th:only-of-type {\n",
              "        vertical-align: middle;\n",
              "    }\n",
              "\n",
              "    .dataframe tbody tr th {\n",
              "        vertical-align: top;\n",
              "    }\n",
              "\n",
              "    .dataframe thead th {\n",
              "        text-align: right;\n",
              "    }\n",
              "</style>\n",
              "<table border=\"1\" class=\"dataframe\">\n",
              "  <thead>\n",
              "    <tr style=\"text-align: right;\">\n",
              "      <th></th>\n",
              "      <th>class</th>\n",
              "      <th>tweet</th>\n",
              "    </tr>\n",
              "  </thead>\n",
              "  <tbody>\n",
              "    <tr>\n",
              "      <th>0</th>\n",
              "      <td>2</td>\n",
              "      <td>!!! RT @mayasolovely: As a woman you shouldn't...</td>\n",
              "    </tr>\n",
              "    <tr>\n",
              "      <th>1</th>\n",
              "      <td>1</td>\n",
              "      <td>!!!!! RT @mleew17: boy dats cold...tyga dwn ba...</td>\n",
              "    </tr>\n",
              "    <tr>\n",
              "      <th>2</th>\n",
              "      <td>1</td>\n",
              "      <td>!!!!!!! RT @UrKindOfBrand Dawg!!!! RT @80sbaby...</td>\n",
              "    </tr>\n",
              "    <tr>\n",
              "      <th>3</th>\n",
              "      <td>1</td>\n",
              "      <td>!!!!!!!!! RT @C_G_Anderson: @viva_based she lo...</td>\n",
              "    </tr>\n",
              "    <tr>\n",
              "      <th>4</th>\n",
              "      <td>1</td>\n",
              "      <td>!!!!!!!!!!!!! RT @ShenikaRoberts: The shit you...</td>\n",
              "    </tr>\n",
              "  </tbody>\n",
              "</table>\n",
              "</div>\n",
              "      <button class=\"colab-df-convert\" onclick=\"convertToInteractive('df-473ac258-2ce2-48d9-94f5-72675b27441c')\"\n",
              "              title=\"Convert this dataframe to an interactive table.\"\n",
              "              style=\"display:none;\">\n",
              "        \n",
              "  <svg xmlns=\"http://www.w3.org/2000/svg\" height=\"24px\"viewBox=\"0 0 24 24\"\n",
              "       width=\"24px\">\n",
              "    <path d=\"M0 0h24v24H0V0z\" fill=\"none\"/>\n",
              "    <path d=\"M18.56 5.44l.94 2.06.94-2.06 2.06-.94-2.06-.94-.94-2.06-.94 2.06-2.06.94zm-11 1L8.5 8.5l.94-2.06 2.06-.94-2.06-.94L8.5 2.5l-.94 2.06-2.06.94zm10 10l.94 2.06.94-2.06 2.06-.94-2.06-.94-.94-2.06-.94 2.06-2.06.94z\"/><path d=\"M17.41 7.96l-1.37-1.37c-.4-.4-.92-.59-1.43-.59-.52 0-1.04.2-1.43.59L10.3 9.45l-7.72 7.72c-.78.78-.78 2.05 0 2.83L4 21.41c.39.39.9.59 1.41.59.51 0 1.02-.2 1.41-.59l7.78-7.78 2.81-2.81c.8-.78.8-2.07 0-2.86zM5.41 20L4 18.59l7.72-7.72 1.47 1.35L5.41 20z\"/>\n",
              "  </svg>\n",
              "      </button>\n",
              "      \n",
              "  <style>\n",
              "    .colab-df-container {\n",
              "      display:flex;\n",
              "      flex-wrap:wrap;\n",
              "      gap: 12px;\n",
              "    }\n",
              "\n",
              "    .colab-df-convert {\n",
              "      background-color: #E8F0FE;\n",
              "      border: none;\n",
              "      border-radius: 50%;\n",
              "      cursor: pointer;\n",
              "      display: none;\n",
              "      fill: #1967D2;\n",
              "      height: 32px;\n",
              "      padding: 0 0 0 0;\n",
              "      width: 32px;\n",
              "    }\n",
              "\n",
              "    .colab-df-convert:hover {\n",
              "      background-color: #E2EBFA;\n",
              "      box-shadow: 0px 1px 2px rgba(60, 64, 67, 0.3), 0px 1px 3px 1px rgba(60, 64, 67, 0.15);\n",
              "      fill: #174EA6;\n",
              "    }\n",
              "\n",
              "    [theme=dark] .colab-df-convert {\n",
              "      background-color: #3B4455;\n",
              "      fill: #D2E3FC;\n",
              "    }\n",
              "\n",
              "    [theme=dark] .colab-df-convert:hover {\n",
              "      background-color: #434B5C;\n",
              "      box-shadow: 0px 1px 3px 1px rgba(0, 0, 0, 0.15);\n",
              "      filter: drop-shadow(0px 1px 2px rgba(0, 0, 0, 0.3));\n",
              "      fill: #FFFFFF;\n",
              "    }\n",
              "  </style>\n",
              "\n",
              "      <script>\n",
              "        const buttonEl =\n",
              "          document.querySelector('#df-473ac258-2ce2-48d9-94f5-72675b27441c button.colab-df-convert');\n",
              "        buttonEl.style.display =\n",
              "          google.colab.kernel.accessAllowed ? 'block' : 'none';\n",
              "\n",
              "        async function convertToInteractive(key) {\n",
              "          const element = document.querySelector('#df-473ac258-2ce2-48d9-94f5-72675b27441c');\n",
              "          const dataTable =\n",
              "            await google.colab.kernel.invokeFunction('convertToInteractive',\n",
              "                                                     [key], {});\n",
              "          if (!dataTable) return;\n",
              "\n",
              "          const docLinkHtml = 'Like what you see? Visit the ' +\n",
              "            '<a target=\"_blank\" href=https://colab.research.google.com/notebooks/data_table.ipynb>data table notebook</a>'\n",
              "            + ' to learn more about interactive tables.';\n",
              "          element.innerHTML = '';\n",
              "          dataTable['output_type'] = 'display_data';\n",
              "          await google.colab.output.renderOutput(dataTable, element);\n",
              "          const docLink = document.createElement('div');\n",
              "          docLink.innerHTML = docLinkHtml;\n",
              "          element.appendChild(docLink);\n",
              "        }\n",
              "      </script>\n",
              "    </div>\n",
              "  </div>\n",
              "  "
            ]
          },
          "metadata": {},
          "execution_count": 17
        }
      ],
      "source": [
        "df_offensive.head(5)"
      ]
    },
    {
      "cell_type": "code",
      "execution_count": null,
      "metadata": {
        "colab": {
          "base_uri": "https://localhost:8080/"
        },
        "id": "OhrzLfomY32M",
        "outputId": "eb9d23de-a5b3-4f80-e4e2-920bdd1f1c06"
      },
      "outputs": [
        {
          "output_type": "execute_result",
          "data": {
            "text/plain": [
              "array([2, 1, 0])"
            ]
          },
          "metadata": {},
          "execution_count": 18
        }
      ],
      "source": [
        "df_offensive['class'].unique()"
      ]
    },
    {
      "cell_type": "code",
      "execution_count": null,
      "metadata": {
        "colab": {
          "base_uri": "https://localhost:8080/",
          "height": 424
        },
        "id": "BXpy26j-Y32M",
        "outputId": "5e3a1a8f-1f51-4cff-e290-bcde52279ccb"
      },
      "outputs": [
        {
          "output_type": "execute_result",
          "data": {
            "text/plain": [
              "       class                                              tweet\n",
              "85         0  \"@Blackman38Tide: @WhaleLookyHere @HowdyDowdy1...\n",
              "89         0  \"@CB_Baby24: @white_thunduh alsarabsss\" hes a ...\n",
              "110        0  \"@DevilGrimz: @VigxRArts you're fucking gay, b...\n",
              "184        0  \"@MarkRoundtreeJr: LMFAOOOO I HATE BLACK PEOPL...\n",
              "202        0  \"@NoChillPaz: \"At least I'm not a nigger\" http...\n",
              "...      ...                                                ...\n",
              "24576      0                this guy is the biggest faggot omfg\n",
              "24685      0  which one of these names is more offensive kik...\n",
              "24751      0         you a pussy ass nigga and I know it nigga.\n",
              "24776      0                                 you're all niggers\n",
              "24777      0  you're such a retard i hope you get type 2 dia...\n",
              "\n",
              "[1430 rows x 2 columns]"
            ],
            "text/html": [
              "\n",
              "  <div id=\"df-299545a2-7aec-4674-8026-79412671b19d\">\n",
              "    <div class=\"colab-df-container\">\n",
              "      <div>\n",
              "<style scoped>\n",
              "    .dataframe tbody tr th:only-of-type {\n",
              "        vertical-align: middle;\n",
              "    }\n",
              "\n",
              "    .dataframe tbody tr th {\n",
              "        vertical-align: top;\n",
              "    }\n",
              "\n",
              "    .dataframe thead th {\n",
              "        text-align: right;\n",
              "    }\n",
              "</style>\n",
              "<table border=\"1\" class=\"dataframe\">\n",
              "  <thead>\n",
              "    <tr style=\"text-align: right;\">\n",
              "      <th></th>\n",
              "      <th>class</th>\n",
              "      <th>tweet</th>\n",
              "    </tr>\n",
              "  </thead>\n",
              "  <tbody>\n",
              "    <tr>\n",
              "      <th>85</th>\n",
              "      <td>0</td>\n",
              "      <td>\"@Blackman38Tide: @WhaleLookyHere @HowdyDowdy1...</td>\n",
              "    </tr>\n",
              "    <tr>\n",
              "      <th>89</th>\n",
              "      <td>0</td>\n",
              "      <td>\"@CB_Baby24: @white_thunduh alsarabsss\" hes a ...</td>\n",
              "    </tr>\n",
              "    <tr>\n",
              "      <th>110</th>\n",
              "      <td>0</td>\n",
              "      <td>\"@DevilGrimz: @VigxRArts you're fucking gay, b...</td>\n",
              "    </tr>\n",
              "    <tr>\n",
              "      <th>184</th>\n",
              "      <td>0</td>\n",
              "      <td>\"@MarkRoundtreeJr: LMFAOOOO I HATE BLACK PEOPL...</td>\n",
              "    </tr>\n",
              "    <tr>\n",
              "      <th>202</th>\n",
              "      <td>0</td>\n",
              "      <td>\"@NoChillPaz: \"At least I'm not a nigger\" http...</td>\n",
              "    </tr>\n",
              "    <tr>\n",
              "      <th>...</th>\n",
              "      <td>...</td>\n",
              "      <td>...</td>\n",
              "    </tr>\n",
              "    <tr>\n",
              "      <th>24576</th>\n",
              "      <td>0</td>\n",
              "      <td>this guy is the biggest faggot omfg</td>\n",
              "    </tr>\n",
              "    <tr>\n",
              "      <th>24685</th>\n",
              "      <td>0</td>\n",
              "      <td>which one of these names is more offensive kik...</td>\n",
              "    </tr>\n",
              "    <tr>\n",
              "      <th>24751</th>\n",
              "      <td>0</td>\n",
              "      <td>you a pussy ass nigga and I know it nigga.</td>\n",
              "    </tr>\n",
              "    <tr>\n",
              "      <th>24776</th>\n",
              "      <td>0</td>\n",
              "      <td>you're all niggers</td>\n",
              "    </tr>\n",
              "    <tr>\n",
              "      <th>24777</th>\n",
              "      <td>0</td>\n",
              "      <td>you're such a retard i hope you get type 2 dia...</td>\n",
              "    </tr>\n",
              "  </tbody>\n",
              "</table>\n",
              "<p>1430 rows × 2 columns</p>\n",
              "</div>\n",
              "      <button class=\"colab-df-convert\" onclick=\"convertToInteractive('df-299545a2-7aec-4674-8026-79412671b19d')\"\n",
              "              title=\"Convert this dataframe to an interactive table.\"\n",
              "              style=\"display:none;\">\n",
              "        \n",
              "  <svg xmlns=\"http://www.w3.org/2000/svg\" height=\"24px\"viewBox=\"0 0 24 24\"\n",
              "       width=\"24px\">\n",
              "    <path d=\"M0 0h24v24H0V0z\" fill=\"none\"/>\n",
              "    <path d=\"M18.56 5.44l.94 2.06.94-2.06 2.06-.94-2.06-.94-.94-2.06-.94 2.06-2.06.94zm-11 1L8.5 8.5l.94-2.06 2.06-.94-2.06-.94L8.5 2.5l-.94 2.06-2.06.94zm10 10l.94 2.06.94-2.06 2.06-.94-2.06-.94-.94-2.06-.94 2.06-2.06.94z\"/><path d=\"M17.41 7.96l-1.37-1.37c-.4-.4-.92-.59-1.43-.59-.52 0-1.04.2-1.43.59L10.3 9.45l-7.72 7.72c-.78.78-.78 2.05 0 2.83L4 21.41c.39.39.9.59 1.41.59.51 0 1.02-.2 1.41-.59l7.78-7.78 2.81-2.81c.8-.78.8-2.07 0-2.86zM5.41 20L4 18.59l7.72-7.72 1.47 1.35L5.41 20z\"/>\n",
              "  </svg>\n",
              "      </button>\n",
              "      \n",
              "  <style>\n",
              "    .colab-df-container {\n",
              "      display:flex;\n",
              "      flex-wrap:wrap;\n",
              "      gap: 12px;\n",
              "    }\n",
              "\n",
              "    .colab-df-convert {\n",
              "      background-color: #E8F0FE;\n",
              "      border: none;\n",
              "      border-radius: 50%;\n",
              "      cursor: pointer;\n",
              "      display: none;\n",
              "      fill: #1967D2;\n",
              "      height: 32px;\n",
              "      padding: 0 0 0 0;\n",
              "      width: 32px;\n",
              "    }\n",
              "\n",
              "    .colab-df-convert:hover {\n",
              "      background-color: #E2EBFA;\n",
              "      box-shadow: 0px 1px 2px rgba(60, 64, 67, 0.3), 0px 1px 3px 1px rgba(60, 64, 67, 0.15);\n",
              "      fill: #174EA6;\n",
              "    }\n",
              "\n",
              "    [theme=dark] .colab-df-convert {\n",
              "      background-color: #3B4455;\n",
              "      fill: #D2E3FC;\n",
              "    }\n",
              "\n",
              "    [theme=dark] .colab-df-convert:hover {\n",
              "      background-color: #434B5C;\n",
              "      box-shadow: 0px 1px 3px 1px rgba(0, 0, 0, 0.15);\n",
              "      filter: drop-shadow(0px 1px 2px rgba(0, 0, 0, 0.3));\n",
              "      fill: #FFFFFF;\n",
              "    }\n",
              "  </style>\n",
              "\n",
              "      <script>\n",
              "        const buttonEl =\n",
              "          document.querySelector('#df-299545a2-7aec-4674-8026-79412671b19d button.colab-df-convert');\n",
              "        buttonEl.style.display =\n",
              "          google.colab.kernel.accessAllowed ? 'block' : 'none';\n",
              "\n",
              "        async function convertToInteractive(key) {\n",
              "          const element = document.querySelector('#df-299545a2-7aec-4674-8026-79412671b19d');\n",
              "          const dataTable =\n",
              "            await google.colab.kernel.invokeFunction('convertToInteractive',\n",
              "                                                     [key], {});\n",
              "          if (!dataTable) return;\n",
              "\n",
              "          const docLinkHtml = 'Like what you see? Visit the ' +\n",
              "            '<a target=\"_blank\" href=https://colab.research.google.com/notebooks/data_table.ipynb>data table notebook</a>'\n",
              "            + ' to learn more about interactive tables.';\n",
              "          element.innerHTML = '';\n",
              "          dataTable['output_type'] = 'display_data';\n",
              "          await google.colab.output.renderOutput(dataTable, element);\n",
              "          const docLink = document.createElement('div');\n",
              "          docLink.innerHTML = docLinkHtml;\n",
              "          element.appendChild(docLink);\n",
              "        }\n",
              "      </script>\n",
              "    </div>\n",
              "  </div>\n",
              "  "
            ]
          },
          "metadata": {},
          "execution_count": 19
        }
      ],
      "source": [
        "df_offensive[df_offensive['class']==0]"
      ]
    },
    {
      "cell_type": "code",
      "execution_count": null,
      "metadata": {
        "id": "PsLsB-28Y32N"
      },
      "outputs": [],
      "source": [
        "df_offensive[\"class\"].replace({0: 1}, inplace=True)"
      ]
    },
    {
      "cell_type": "code",
      "execution_count": null,
      "metadata": {
        "colab": {
          "base_uri": "https://localhost:8080/"
        },
        "id": "7cF6Y--8Y32N",
        "outputId": "44028fff-8d4d-44ed-a4c6-852647b29e59"
      },
      "outputs": [
        {
          "output_type": "execute_result",
          "data": {
            "text/plain": [
              "array([2, 1])"
            ]
          },
          "metadata": {},
          "execution_count": 21
        }
      ],
      "source": [
        "df_offensive['class'].unique()"
      ]
    },
    {
      "cell_type": "code",
      "execution_count": null,
      "metadata": {
        "colab": {
          "base_uri": "https://localhost:8080/",
          "height": 165
        },
        "id": "WmPE_5NdY32N",
        "outputId": "e8048118-f467-42ab-f60c-344ad501246c"
      },
      "outputs": [
        {
          "output_type": "error",
          "ename": "TypeError",
          "evalue": "ignored",
          "traceback": [
            "\u001b[0;31m---------------------------------------------------------------------------\u001b[0m",
            "\u001b[0;31mTypeError\u001b[0m                                 Traceback (most recent call last)",
            "\u001b[0;32m<ipython-input-22-0d05309f4ff1>\u001b[0m in \u001b[0;36m<cell line: 1>\u001b[0;34m()\u001b[0m\n\u001b[0;32m----> 1\u001b[0;31m \u001b[0msns\u001b[0m\u001b[0;34m.\u001b[0m\u001b[0mcountplot\u001b[0m\u001b[0;34m(\u001b[0m\u001b[0;34m'class'\u001b[0m\u001b[0;34m,\u001b[0m\u001b[0mdata\u001b[0m\u001b[0;34m=\u001b[0m\u001b[0mdf_offensive\u001b[0m\u001b[0;34m)\u001b[0m\u001b[0;34m\u001b[0m\u001b[0;34m\u001b[0m\u001b[0m\n\u001b[0m",
            "\u001b[0;31mTypeError\u001b[0m: countplot() got multiple values for argument 'data'"
          ]
        }
      ],
      "source": [
        "sns.countplot('class',data=df_offensive)"
      ]
    },
    {
      "cell_type": "code",
      "execution_count": null,
      "metadata": {
        "colab": {
          "base_uri": "https://localhost:8080/",
          "height": 49
        },
        "id": "RcQQZgziY32N",
        "outputId": "b366bc4d-905f-4300-fd9f-3f4052f15252"
      },
      "outputs": [
        {
          "output_type": "execute_result",
          "data": {
            "text/plain": [
              "Empty DataFrame\n",
              "Columns: [class, tweet]\n",
              "Index: []"
            ],
            "text/html": [
              "\n",
              "  <div id=\"df-ad1c209e-9875-4aba-805f-462c1ac891de\">\n",
              "    <div class=\"colab-df-container\">\n",
              "      <div>\n",
              "<style scoped>\n",
              "    .dataframe tbody tr th:only-of-type {\n",
              "        vertical-align: middle;\n",
              "    }\n",
              "\n",
              "    .dataframe tbody tr th {\n",
              "        vertical-align: top;\n",
              "    }\n",
              "\n",
              "    .dataframe thead th {\n",
              "        text-align: right;\n",
              "    }\n",
              "</style>\n",
              "<table border=\"1\" class=\"dataframe\">\n",
              "  <thead>\n",
              "    <tr style=\"text-align: right;\">\n",
              "      <th></th>\n",
              "      <th>class</th>\n",
              "      <th>tweet</th>\n",
              "    </tr>\n",
              "  </thead>\n",
              "  <tbody>\n",
              "  </tbody>\n",
              "</table>\n",
              "</div>\n",
              "      <button class=\"colab-df-convert\" onclick=\"convertToInteractive('df-ad1c209e-9875-4aba-805f-462c1ac891de')\"\n",
              "              title=\"Convert this dataframe to an interactive table.\"\n",
              "              style=\"display:none;\">\n",
              "        \n",
              "  <svg xmlns=\"http://www.w3.org/2000/svg\" height=\"24px\"viewBox=\"0 0 24 24\"\n",
              "       width=\"24px\">\n",
              "    <path d=\"M0 0h24v24H0V0z\" fill=\"none\"/>\n",
              "    <path d=\"M18.56 5.44l.94 2.06.94-2.06 2.06-.94-2.06-.94-.94-2.06-.94 2.06-2.06.94zm-11 1L8.5 8.5l.94-2.06 2.06-.94-2.06-.94L8.5 2.5l-.94 2.06-2.06.94zm10 10l.94 2.06.94-2.06 2.06-.94-2.06-.94-.94-2.06-.94 2.06-2.06.94z\"/><path d=\"M17.41 7.96l-1.37-1.37c-.4-.4-.92-.59-1.43-.59-.52 0-1.04.2-1.43.59L10.3 9.45l-7.72 7.72c-.78.78-.78 2.05 0 2.83L4 21.41c.39.39.9.59 1.41.59.51 0 1.02-.2 1.41-.59l7.78-7.78 2.81-2.81c.8-.78.8-2.07 0-2.86zM5.41 20L4 18.59l7.72-7.72 1.47 1.35L5.41 20z\"/>\n",
              "  </svg>\n",
              "      </button>\n",
              "      \n",
              "  <style>\n",
              "    .colab-df-container {\n",
              "      display:flex;\n",
              "      flex-wrap:wrap;\n",
              "      gap: 12px;\n",
              "    }\n",
              "\n",
              "    .colab-df-convert {\n",
              "      background-color: #E8F0FE;\n",
              "      border: none;\n",
              "      border-radius: 50%;\n",
              "      cursor: pointer;\n",
              "      display: none;\n",
              "      fill: #1967D2;\n",
              "      height: 32px;\n",
              "      padding: 0 0 0 0;\n",
              "      width: 32px;\n",
              "    }\n",
              "\n",
              "    .colab-df-convert:hover {\n",
              "      background-color: #E2EBFA;\n",
              "      box-shadow: 0px 1px 2px rgba(60, 64, 67, 0.3), 0px 1px 3px 1px rgba(60, 64, 67, 0.15);\n",
              "      fill: #174EA6;\n",
              "    }\n",
              "\n",
              "    [theme=dark] .colab-df-convert {\n",
              "      background-color: #3B4455;\n",
              "      fill: #D2E3FC;\n",
              "    }\n",
              "\n",
              "    [theme=dark] .colab-df-convert:hover {\n",
              "      background-color: #434B5C;\n",
              "      box-shadow: 0px 1px 3px 1px rgba(0, 0, 0, 0.15);\n",
              "      filter: drop-shadow(0px 1px 2px rgba(0, 0, 0, 0.3));\n",
              "      fill: #FFFFFF;\n",
              "    }\n",
              "  </style>\n",
              "\n",
              "      <script>\n",
              "        const buttonEl =\n",
              "          document.querySelector('#df-ad1c209e-9875-4aba-805f-462c1ac891de button.colab-df-convert');\n",
              "        buttonEl.style.display =\n",
              "          google.colab.kernel.accessAllowed ? 'block' : 'none';\n",
              "\n",
              "        async function convertToInteractive(key) {\n",
              "          const element = document.querySelector('#df-ad1c209e-9875-4aba-805f-462c1ac891de');\n",
              "          const dataTable =\n",
              "            await google.colab.kernel.invokeFunction('convertToInteractive',\n",
              "                                                     [key], {});\n",
              "          if (!dataTable) return;\n",
              "\n",
              "          const docLinkHtml = 'Like what you see? Visit the ' +\n",
              "            '<a target=\"_blank\" href=https://colab.research.google.com/notebooks/data_table.ipynb>data table notebook</a>'\n",
              "            + ' to learn more about interactive tables.';\n",
              "          element.innerHTML = '';\n",
              "          dataTable['output_type'] = 'display_data';\n",
              "          await google.colab.output.renderOutput(dataTable, element);\n",
              "          const docLink = document.createElement('div');\n",
              "          docLink.innerHTML = docLinkHtml;\n",
              "          element.appendChild(docLink);\n",
              "        }\n",
              "      </script>\n",
              "    </div>\n",
              "  </div>\n",
              "  "
            ]
          },
          "metadata": {},
          "execution_count": 23
        }
      ],
      "source": [
        "df_offensive[df_offensive['class']==0]"
      ]
    },
    {
      "cell_type": "code",
      "execution_count": null,
      "metadata": {
        "id": "-jKSc-IsY32O"
      },
      "outputs": [],
      "source": [
        "df_offensive[\"class\"].replace({2: 0}, inplace=True)"
      ]
    },
    {
      "cell_type": "code",
      "execution_count": null,
      "metadata": {
        "colab": {
          "base_uri": "https://localhost:8080/",
          "height": 351
        },
        "id": "6ogCjbboY32O",
        "outputId": "ba57c2c7-6d07-47ae-bb2d-84fe0f04275d"
      },
      "outputs": [
        {
          "name": "stderr",
          "output_type": "stream",
          "text": [
            "/usr/local/lib/python3.8/dist-packages/seaborn/_decorators.py:36: FutureWarning: Pass the following variable as a keyword arg: x. From version 0.12, the only valid positional argument will be `data`, and passing other arguments without an explicit keyword will result in an error or misinterpretation.\n",
            "  warnings.warn(\n"
          ]
        },
        {
          "data": {
            "text/plain": [
              "<AxesSubplot:xlabel='class', ylabel='count'>"
            ]
          },
          "execution_count": 25,
          "metadata": {},
          "output_type": "execute_result"
        },
        {
          "data": {
            "image/png": "[encoded data removed]",
            "text/plain": [
              "<Figure size 432x288 with 1 Axes>"
            ]
          },
          "metadata": {},
          "output_type": "display_data"
        }
      ],
      "source": [
        "sns.countplot('class',data=df_offensive)"
      ]
    },
    {
      "cell_type": "code",
      "execution_count": null,
      "metadata": {
        "id": "FOmjNiVUY32O"
      },
      "outputs": [],
      "source": [
        "df_offensive.rename(columns ={'class':'label'}, inplace = True)\n",
        "   "
      ]
    },
    {
      "cell_type": "code",
      "execution_count": null,
      "metadata": {
        "colab": {
          "base_uri": "https://localhost:8080/",
          "height": 206
        },
        "id": "Pxrc1SSwY32O",
        "outputId": "bd9ba171-2dd4-4c77-de03-342342b83187"
      },
      "outputs": [
        {
          "output_type": "execute_result",
          "data": {
            "text/plain": [
              "   label                                              tweet\n",
              "0      0  !!! RT @mayasolovely: As a woman you shouldn't...\n",
              "1      1  !!!!! RT @mleew17: boy dats cold...tyga dwn ba...\n",
              "2      1  !!!!!!! RT @UrKindOfBrand Dawg!!!! RT @80sbaby...\n",
              "3      1  !!!!!!!!! RT @C_G_Anderson: @viva_based she lo...\n",
              "4      1  !!!!!!!!!!!!! RT @ShenikaRoberts: The shit you..."
            ],
            "text/html": [
              "\n",
              "  <div id=\"df-74a64236-964b-4b38-bfb1-69d770cc5a1b\">\n",
              "    <div class=\"colab-df-container\">\n",
              "      <div>\n",
              "<style scoped>\n",
              "    .dataframe tbody tr th:only-of-type {\n",
              "        vertical-align: middle;\n",
              "    }\n",
              "\n",
              "    .dataframe tbody tr th {\n",
              "        vertical-align: top;\n",
              "    }\n",
              "\n",
              "    .dataframe thead th {\n",
              "        text-align: right;\n",
              "    }\n",
              "</style>\n",
              "<table border=\"1\" class=\"dataframe\">\n",
              "  <thead>\n",
              "    <tr style=\"text-align: right;\">\n",
              "      <th></th>\n",
              "      <th>label</th>\n",
              "      <th>tweet</th>\n",
              "    </tr>\n",
              "  </thead>\n",
              "  <tbody>\n",
              "    <tr>\n",
              "      <th>0</th>\n",
              "      <td>0</td>\n",
              "      <td>!!! RT @mayasolovely: As a woman you shouldn't...</td>\n",
              "    </tr>\n",
              "    <tr>\n",
              "      <th>1</th>\n",
              "      <td>1</td>\n",
              "      <td>!!!!! RT @mleew17: boy dats cold...tyga dwn ba...</td>\n",
              "    </tr>\n",
              "    <tr>\n",
              "      <th>2</th>\n",
              "      <td>1</td>\n",
              "      <td>!!!!!!! RT @UrKindOfBrand Dawg!!!! RT @80sbaby...</td>\n",
              "    </tr>\n",
              "    <tr>\n",
              "      <th>3</th>\n",
              "      <td>1</td>\n",
              "      <td>!!!!!!!!! RT @C_G_Anderson: @viva_based she lo...</td>\n",
              "    </tr>\n",
              "    <tr>\n",
              "      <th>4</th>\n",
              "      <td>1</td>\n",
              "      <td>!!!!!!!!!!!!! RT @ShenikaRoberts: The shit you...</td>\n",
              "    </tr>\n",
              "  </tbody>\n",
              "</table>\n",
              "</div>\n",
              "      <button class=\"colab-df-convert\" onclick=\"convertToInteractive('df-74a64236-964b-4b38-bfb1-69d770cc5a1b')\"\n",
              "              title=\"Convert this dataframe to an interactive table.\"\n",
              "              style=\"display:none;\">\n",
              "        \n",
              "  <svg xmlns=\"http://www.w3.org/2000/svg\" height=\"24px\"viewBox=\"0 0 24 24\"\n",
              "       width=\"24px\">\n",
              "    <path d=\"M0 0h24v24H0V0z\" fill=\"none\"/>\n",
              "    <path d=\"M18.56 5.44l.94 2.06.94-2.06 2.06-.94-2.06-.94-.94-2.06-.94 2.06-2.06.94zm-11 1L8.5 8.5l.94-2.06 2.06-.94-2.06-.94L8.5 2.5l-.94 2.06-2.06.94zm10 10l.94 2.06.94-2.06 2.06-.94-2.06-.94-.94-2.06-.94 2.06-2.06.94z\"/><path d=\"M17.41 7.96l-1.37-1.37c-.4-.4-.92-.59-1.43-.59-.52 0-1.04.2-1.43.59L10.3 9.45l-7.72 7.72c-.78.78-.78 2.05 0 2.83L4 21.41c.39.39.9.59 1.41.59.51 0 1.02-.2 1.41-.59l7.78-7.78 2.81-2.81c.8-.78.8-2.07 0-2.86zM5.41 20L4 18.59l7.72-7.72 1.47 1.35L5.41 20z\"/>\n",
              "  </svg>\n",
              "      </button>\n",
              "      \n",
              "  <style>\n",
              "    .colab-df-container {\n",
              "      display:flex;\n",
              "      flex-wrap:wrap;\n",
              "      gap: 12px;\n",
              "    }\n",
              "\n",
              "    .colab-df-convert {\n",
              "      background-color: #E8F0FE;\n",
              "      border: none;\n",
              "      border-radius: 50%;\n",
              "      cursor: pointer;\n",
              "      display: none;\n",
              "      fill: #1967D2;\n",
              "      height: 32px;\n",
              "      padding: 0 0 0 0;\n",
              "      width: 32px;\n",
              "    }\n",
              "\n",
              "    .colab-df-convert:hover {\n",
              "      background-color: #E2EBFA;\n",
              "      box-shadow: 0px 1px 2px rgba(60, 64, 67, 0.3), 0px 1px 3px 1px rgba(60, 64, 67, 0.15);\n",
              "      fill: #174EA6;\n",
              "    }\n",
              "\n",
              "    [theme=dark] .colab-df-convert {\n",
              "      background-color: #3B4455;\n",
              "      fill: #D2E3FC;\n",
              "    }\n",
              "\n",
              "    [theme=dark] .colab-df-convert:hover {\n",
              "      background-color: #434B5C;\n",
              "      box-shadow: 0px 1px 3px 1px rgba(0, 0, 0, 0.15);\n",
              "      filter: drop-shadow(0px 1px 2px rgba(0, 0, 0, 0.3));\n",
              "      fill: #FFFFFF;\n",
              "    }\n",
              "  </style>\n",
              "\n",
              "      <script>\n",
              "        const buttonEl =\n",
              "          document.querySelector('#df-74a64236-964b-4b38-bfb1-69d770cc5a1b button.colab-df-convert');\n",
              "        buttonEl.style.display =\n",
              "          google.colab.kernel.accessAllowed ? 'block' : 'none';\n",
              "\n",
              "        async function convertToInteractive(key) {\n",
              "          const element = document.querySelector('#df-74a64236-964b-4b38-bfb1-69d770cc5a1b');\n",
              "          const dataTable =\n",
              "            await google.colab.kernel.invokeFunction('convertToInteractive',\n",
              "                                                     [key], {});\n",
              "          if (!dataTable) return;\n",
              "\n",
              "          const docLinkHtml = 'Like what you see? Visit the ' +\n",
              "            '<a target=\"_blank\" href=https://colab.research.google.com/notebooks/data_table.ipynb>data table notebook</a>'\n",
              "            + ' to learn more about interactive tables.';\n",
              "          element.innerHTML = '';\n",
              "          dataTable['output_type'] = 'display_data';\n",
              "          await google.colab.output.renderOutput(dataTable, element);\n",
              "          const docLink = document.createElement('div');\n",
              "          docLink.innerHTML = docLinkHtml;\n",
              "          element.appendChild(docLink);\n",
              "        }\n",
              "      </script>\n",
              "    </div>\n",
              "  </div>\n",
              "  "
            ]
          },
          "metadata": {},
          "execution_count": 26
        }
      ],
      "source": [
        "df_offensive.head()"
      ]
    },
    {
      "cell_type": "code",
      "execution_count": null,
      "metadata": {
        "colab": {
          "base_uri": "https://localhost:8080/",
          "height": 35
        },
        "id": "3VfxI3TtY32O",
        "outputId": "9836b73a-0a90-4c9c-8fd7-fa33c3589252"
      },
      "outputs": [
        {
          "output_type": "execute_result",
          "data": {
            "text/plain": [
              "\"!!! RT @mayasolovely: As a woman you shouldn't complain about cleaning up your house. &amp; as a man you should always take the trash out...\""
            ],
            "application/vnd.google.colaboratory.intrinsic+json": {
              "type": "string"
            }
          },
          "metadata": {},
          "execution_count": 27
        }
      ],
      "source": [
        "df_offensive.iloc[0]['tweet']"
      ]
    },
    {
      "cell_type": "code",
      "execution_count": null,
      "metadata": {
        "colab": {
          "base_uri": "https://localhost:8080/",
          "height": 35
        },
        "id": "CXQnkpJDY32P",
        "outputId": "550b2c3c-c868-4c63-cdee-02d8634aa455"
      },
      "outputs": [
        {
          "output_type": "execute_result",
          "data": {
            "text/plain": [
              "'!!!!!!!!!!!!!!!!!!\"@T_Madison_x: The shit just blows me..claim you so faithful and down for somebody but still fucking with hoes! &#128514;&#128514;&#128514;\"'"
            ],
            "application/vnd.google.colaboratory.intrinsic+json": {
              "type": "string"
            }
          },
          "metadata": {},
          "execution_count": 28
        }
      ],
      "source": [
        "df_offensive.iloc[5]['tweet']"
      ]
    },
    {
      "cell_type": "code",
      "execution_count": null,
      "metadata": {
        "id": "obeSPLjzY32P"
      },
      "outputs": [],
      "source": [
        "frame=[df_twitter,df_offensive]\n",
        "df = pd.concat(frame)"
      ]
    },
    {
      "cell_type": "code",
      "execution_count": null,
      "metadata": {
        "colab": {
          "base_uri": "https://localhost:8080/",
          "height": 206
        },
        "id": "GthMh9zxY32P",
        "outputId": "844c0350-00f2-487e-faa1-9450a091a1a3"
      },
      "outputs": [
        {
          "output_type": "execute_result",
          "data": {
            "text/plain": [
              "   label                                              tweet\n",
              "0      0   @user when a father is dysfunctional and is s...\n",
              "1      0  @user @user thanks for #lyft credit i can't us...\n",
              "2      0                                bihday your majesty\n",
              "3      0  #model   i love u take with u all the time in ...\n",
              "4      0             factsguide: society now    #motivation"
            ],
            "text/html": [
              "\n",
              "  <div id=\"df-49b099af-4741-47c6-8c31-2847192b1e80\">\n",
              "    <div class=\"colab-df-container\">\n",
              "      <div>\n",
              "<style scoped>\n",
              "    .dataframe tbody tr th:only-of-type {\n",
              "        vertical-align: middle;\n",
              "    }\n",
              "\n",
              "    .dataframe tbody tr th {\n",
              "        vertical-align: top;\n",
              "    }\n",
              "\n",
              "    .dataframe thead th {\n",
              "        text-align: right;\n",
              "    }\n",
              "</style>\n",
              "<table border=\"1\" class=\"dataframe\">\n",
              "  <thead>\n",
              "    <tr style=\"text-align: right;\">\n",
              "      <th></th>\n",
              "      <th>label</th>\n",
              "      <th>tweet</th>\n",
              "    </tr>\n",
              "  </thead>\n",
              "  <tbody>\n",
              "    <tr>\n",
              "      <th>0</th>\n",
              "      <td>0</td>\n",
              "      <td>@user when a father is dysfunctional and is s...</td>\n",
              "    </tr>\n",
              "    <tr>\n",
              "      <th>1</th>\n",
              "      <td>0</td>\n",
              "      <td>@user @user thanks for #lyft credit i can't us...</td>\n",
              "    </tr>\n",
              "    <tr>\n",
              "      <th>2</th>\n",
              "      <td>0</td>\n",
              "      <td>bihday your majesty</td>\n",
              "    </tr>\n",
              "    <tr>\n",
              "      <th>3</th>\n",
              "      <td>0</td>\n",
              "      <td>#model   i love u take with u all the time in ...</td>\n",
              "    </tr>\n",
              "    <tr>\n",
              "      <th>4</th>\n",
              "      <td>0</td>\n",
              "      <td>factsguide: society now    #motivation</td>\n",
              "    </tr>\n",
              "  </tbody>\n",
              "</table>\n",
              "</div>\n",
              "      <button class=\"colab-df-convert\" onclick=\"convertToInteractive('df-49b099af-4741-47c6-8c31-2847192b1e80')\"\n",
              "              title=\"Convert this dataframe to an interactive table.\"\n",
              "              style=\"display:none;\">\n",
              "        \n",
              "  <svg xmlns=\"http://www.w3.org/2000/svg\" height=\"24px\"viewBox=\"0 0 24 24\"\n",
              "       width=\"24px\">\n",
              "    <path d=\"M0 0h24v24H0V0z\" fill=\"none\"/>\n",
              "    <path d=\"M18.56 5.44l.94 2.06.94-2.06 2.06-.94-2.06-.94-.94-2.06-.94 2.06-2.06.94zm-11 1L8.5 8.5l.94-2.06 2.06-.94-2.06-.94L8.5 2.5l-.94 2.06-2.06.94zm10 10l.94 2.06.94-2.06 2.06-.94-2.06-.94-.94-2.06-.94 2.06-2.06.94z\"/><path d=\"M17.41 7.96l-1.37-1.37c-.4-.4-.92-.59-1.43-.59-.52 0-1.04.2-1.43.59L10.3 9.45l-7.72 7.72c-.78.78-.78 2.05 0 2.83L4 21.41c.39.39.9.59 1.41.59.51 0 1.02-.2 1.41-.59l7.78-7.78 2.81-2.81c.8-.78.8-2.07 0-2.86zM5.41 20L4 18.59l7.72-7.72 1.47 1.35L5.41 20z\"/>\n",
              "  </svg>\n",
              "      </button>\n",
              "      \n",
              "  <style>\n",
              "    .colab-df-container {\n",
              "      display:flex;\n",
              "      flex-wrap:wrap;\n",
              "      gap: 12px;\n",
              "    }\n",
              "\n",
              "    .colab-df-convert {\n",
              "      background-color: #E8F0FE;\n",
              "      border: none;\n",
              "      border-radius: 50%;\n",
              "      cursor: pointer;\n",
              "      display: none;\n",
              "      fill: #1967D2;\n",
              "      height: 32px;\n",
              "      padding: 0 0 0 0;\n",
              "      width: 32px;\n",
              "    }\n",
              "\n",
              "    .colab-df-convert:hover {\n",
              "      background-color: #E2EBFA;\n",
              "      box-shadow: 0px 1px 2px rgba(60, 64, 67, 0.3), 0px 1px 3px 1px rgba(60, 64, 67, 0.15);\n",
              "      fill: #174EA6;\n",
              "    }\n",
              "\n",
              "    [theme=dark] .colab-df-convert {\n",
              "      background-color: #3B4455;\n",
              "      fill: #D2E3FC;\n",
              "    }\n",
              "\n",
              "    [theme=dark] .colab-df-convert:hover {\n",
              "      background-color: #434B5C;\n",
              "      box-shadow: 0px 1px 3px 1px rgba(0, 0, 0, 0.15);\n",
              "      filter: drop-shadow(0px 1px 2px rgba(0, 0, 0, 0.3));\n",
              "      fill: #FFFFFF;\n",
              "    }\n",
              "  </style>\n",
              "\n",
              "      <script>\n",
              "        const buttonEl =\n",
              "          document.querySelector('#df-49b099af-4741-47c6-8c31-2847192b1e80 button.colab-df-convert');\n",
              "        buttonEl.style.display =\n",
              "          google.colab.kernel.accessAllowed ? 'block' : 'none';\n",
              "\n",
              "        async function convertToInteractive(key) {\n",
              "          const element = document.querySelector('#df-49b099af-4741-47c6-8c31-2847192b1e80');\n",
              "          const dataTable =\n",
              "            await google.colab.kernel.invokeFunction('convertToInteractive',\n",
              "                                                     [key], {});\n",
              "          if (!dataTable) return;\n",
              "\n",
              "          const docLinkHtml = 'Like what you see? Visit the ' +\n",
              "            '<a target=\"_blank\" href=https://colab.research.google.com/notebooks/data_table.ipynb>data table notebook</a>'\n",
              "            + ' to learn more about interactive tables.';\n",
              "          element.innerHTML = '';\n",
              "          dataTable['output_type'] = 'display_data';\n",
              "          await google.colab.output.renderOutput(dataTable, element);\n",
              "          const docLink = document.createElement('div');\n",
              "          docLink.innerHTML = docLinkHtml;\n",
              "          element.appendChild(docLink);\n",
              "        }\n",
              "      </script>\n",
              "    </div>\n",
              "  </div>\n",
              "  "
            ]
          },
          "metadata": {},
          "execution_count": 30
        }
      ],
      "source": [
        "df.head()"
      ]
    },
    {
      "cell_type": "code",
      "execution_count": null,
      "metadata": {
        "colab": {
          "base_uri": "https://localhost:8080/",
          "height": 352
        },
        "id": "XWTHYMq_Y32P",
        "outputId": "44aa2d6e-3da7-4f69-e723-8e0f9bdf15a9"
      },
      "outputs": [
        {
          "name": "stderr",
          "output_type": "stream",
          "text": [
            "/usr/local/lib/python3.8/dist-packages/seaborn/_decorators.py:36: FutureWarning: Pass the following variable as a keyword arg: x. From version 0.12, the only valid positional argument will be `data`, and passing other arguments without an explicit keyword will result in an error or misinterpretation.\n",
            "  warnings.warn(\n"
          ]
        },
        {
          "data": {
            "text/plain": [
              "<AxesSubplot:xlabel='label', ylabel='count'>"
            ]
          },
          "execution_count": 32,
          "metadata": {},
          "output_type": "execute_result"
        },
        {
          "data": {
            "image/png": "[encoded data removed]",
            "text/plain": [
              "<Figure size 432x288 with 1 Axes>"
            ]
          },
          "metadata": {},
          "output_type": "display_data"
        }
      ],
      "source": [
        "sns.countplot('label',data=df)"
      ]
    },
    {
      "cell_type": "code",
      "execution_count": null,
      "metadata": {
        "colab": {
          "base_uri": "https://localhost:8080/"
        },
        "id": "RGaqiuJJY32P",
        "outputId": "86f76442-bac0-4ded-9579-852ee21c6197"
      },
      "outputs": [
        {
          "output_type": "execute_result",
          "data": {
            "text/plain": [
              "(56745, 2)"
            ]
          },
          "metadata": {},
          "execution_count": 31
        }
      ],
      "source": [
        "df.shape"
      ]
    },
    {
      "cell_type": "code",
      "execution_count": null,
      "metadata": {
        "colab": {
          "base_uri": "https://localhost:8080/"
        },
        "id": "gSI8FYJIY32P",
        "outputId": "4dc3be5a-3321-493c-fce5-49eaff388ca9"
      },
      "outputs": [
        {
          "output_type": "stream",
          "name": "stderr",
          "text": [
            "[nltk_data] Downloading package stopwords to /root/nltk_data...\n",
            "[nltk_data]   Unzipping corpora/stopwords.zip.\n"
          ]
        }
      ],
      "source": [
        "import re\n",
        "import nltk\n",
        "nltk.download('stopwords')\n",
        "stemmer = nltk.SnowballStemmer(\"english\")\n",
        "from nltk.corpus import stopwords\n",
        "import string\n",
        "stopword=set(stopwords.words('english'))\n"
      ]
    },
    {
      "cell_type": "code",
      "execution_count": null,
      "metadata": {
        "id": "oCXJp9-rY32Q"
      },
      "outputs": [],
      "source": [
        "def clean_text(text):\n",
        "    text = str(text).lower()\n",
        "    text = re.sub('\\[.*?\\]', '', text)\n",
        "    text = re.sub('https?://\\S+|www\\.\\S+', '', text)\n",
        "    text = re.sub('<.*?>+', '', text)\n",
        "    text = re.sub('[%s]' % re.escape(string.punctuation), '', text)\n",
        "    text = re.sub('\\n', '', text)\n",
        "    text = re.sub('\\w*\\d\\w*', '', text)\n",
        "    text = [word for word in text.split(' ') if word not in stopword]\n",
        "    text=\" \".join(text)\n",
        "    text = [stemmer.stem(word) for word in text.split(' ')]\n",
        "    text=\" \".join(text)\n",
        "    return text"
      ]
    },
    {
      "cell_type": "code",
      "execution_count": null,
      "metadata": {
        "id": "Wn1MRJ1SY32Q"
      },
      "outputs": [],
      "source": [
        "df['tweet']=df['tweet'].apply(clean_text)"
      ]
    },
    {
      "cell_type": "code",
      "execution_count": null,
      "metadata": {
        "colab": {
          "base_uri": "https://localhost:8080/",
          "height": 206
        },
        "id": "Ro0XQZiVY32Q",
        "outputId": "8a3d0212-15f2-4b6b-b0ea-b97af09bccdd"
      },
      "outputs": [
        {
          "output_type": "execute_result",
          "data": {
            "text/plain": [
              "   label                                              tweet\n",
              "0      0   user father dysfunct selfish drag kid dysfunc...\n",
              "1      0  user user thank lyft credit cant use caus dont...\n",
              "2      0                                     bihday majesti\n",
              "3      0  model   love u take u time urð± ððð...\n",
              "4      0                         factsguid societi    motiv"
            ],
            "text/html": [
              "\n",
              "  <div id=\"df-5e1a0070-3911-40b0-bb86-da3c0ef11aa1\">\n",
              "    <div class=\"colab-df-container\">\n",
              "      <div>\n",
              "<style scoped>\n",
              "    .dataframe tbody tr th:only-of-type {\n",
              "        vertical-align: middle;\n",
              "    }\n",
              "\n",
              "    .dataframe tbody tr th {\n",
              "        vertical-align: top;\n",
              "    }\n",
              "\n",
              "    .dataframe thead th {\n",
              "        text-align: right;\n",
              "    }\n",
              "</style>\n",
              "<table border=\"1\" class=\"dataframe\">\n",
              "  <thead>\n",
              "    <tr style=\"text-align: right;\">\n",
              "      <th></th>\n",
              "      <th>label</th>\n",
              "      <th>tweet</th>\n",
              "    </tr>\n",
              "  </thead>\n",
              "  <tbody>\n",
              "    <tr>\n",
              "      <th>0</th>\n",
              "      <td>0</td>\n",
              "      <td>user father dysfunct selfish drag kid dysfunc...</td>\n",
              "    </tr>\n",
              "    <tr>\n",
              "      <th>1</th>\n",
              "      <td>0</td>\n",
              "      <td>user user thank lyft credit cant use caus dont...</td>\n",
              "    </tr>\n",
              "    <tr>\n",
              "      <th>2</th>\n",
              "      <td>0</td>\n",
              "      <td>bihday majesti</td>\n",
              "    </tr>\n",
              "    <tr>\n",
              "      <th>3</th>\n",
              "      <td>0</td>\n",
              "      <td>model   love u take u time urð± ððð...</td>\n",
              "    </tr>\n",
              "    <tr>\n",
              "      <th>4</th>\n",
              "      <td>0</td>\n",
              "      <td>factsguid societi    motiv</td>\n",
              "    </tr>\n",
              "  </tbody>\n",
              "</table>\n",
              "</div>\n",
              "      <button class=\"colab-df-convert\" onclick=\"convertToInteractive('df-5e1a0070-3911-40b0-bb86-da3c0ef11aa1')\"\n",
              "              title=\"Convert this dataframe to an interactive table.\"\n",
              "              style=\"display:none;\">\n",
              "        \n",
              "  <svg xmlns=\"http://www.w3.org/2000/svg\" height=\"24px\"viewBox=\"0 0 24 24\"\n",
              "       width=\"24px\">\n",
              "    <path d=\"M0 0h24v24H0V0z\" fill=\"none\"/>\n",
              "    <path d=\"M18.56 5.44l.94 2.06.94-2.06 2.06-.94-2.06-.94-.94-2.06-.94 2.06-2.06.94zm-11 1L8.5 8.5l.94-2.06 2.06-.94-2.06-.94L8.5 2.5l-.94 2.06-2.06.94zm10 10l.94 2.06.94-2.06 2.06-.94-2.06-.94-.94-2.06-.94 2.06-2.06.94z\"/><path d=\"M17.41 7.96l-1.37-1.37c-.4-.4-.92-.59-1.43-.59-.52 0-1.04.2-1.43.59L10.3 9.45l-7.72 7.72c-.78.78-.78 2.05 0 2.83L4 21.41c.39.39.9.59 1.41.59.51 0 1.02-.2 1.41-.59l7.78-7.78 2.81-2.81c.8-.78.8-2.07 0-2.86zM5.41 20L4 18.59l7.72-7.72 1.47 1.35L5.41 20z\"/>\n",
              "  </svg>\n",
              "      </button>\n",
              "      \n",
              "  <style>\n",
              "    .colab-df-container {\n",
              "      display:flex;\n",
              "      flex-wrap:wrap;\n",
              "      gap: 12px;\n",
              "    }\n",
              "\n",
              "    .colab-df-convert {\n",
              "      background-color: #E8F0FE;\n",
              "      border: none;\n",
              "      border-radius: 50%;\n",
              "      cursor: pointer;\n",
              "      display: none;\n",
              "      fill: #1967D2;\n",
              "      height: 32px;\n",
              "      padding: 0 0 0 0;\n",
              "      width: 32px;\n",
              "    }\n",
              "\n",
              "    .colab-df-convert:hover {\n",
              "      background-color: #E2EBFA;\n",
              "      box-shadow: 0px 1px 2px rgba(60, 64, 67, 0.3), 0px 1px 3px 1px rgba(60, 64, 67, 0.15);\n",
              "      fill: #174EA6;\n",
              "    }\n",
              "\n",
              "    [theme=dark] .colab-df-convert {\n",
              "      background-color: #3B4455;\n",
              "      fill: #D2E3FC;\n",
              "    }\n",
              "\n",
              "    [theme=dark] .colab-df-convert:hover {\n",
              "      background-color: #434B5C;\n",
              "      box-shadow: 0px 1px 3px 1px rgba(0, 0, 0, 0.15);\n",
              "      filter: drop-shadow(0px 1px 2px rgba(0, 0, 0, 0.3));\n",
              "      fill: #FFFFFF;\n",
              "    }\n",
              "  </style>\n",
              "\n",
              "      <script>\n",
              "        const buttonEl =\n",
              "          document.querySelector('#df-5e1a0070-3911-40b0-bb86-da3c0ef11aa1 button.colab-df-convert');\n",
              "        buttonEl.style.display =\n",
              "          google.colab.kernel.accessAllowed ? 'block' : 'none';\n",
              "\n",
              "        async function convertToInteractive(key) {\n",
              "          const element = document.querySelector('#df-5e1a0070-3911-40b0-bb86-da3c0ef11aa1');\n",
              "          const dataTable =\n",
              "            await google.colab.kernel.invokeFunction('convertToInteractive',\n",
              "                                                     [key], {});\n",
              "          if (!dataTable) return;\n",
              "\n",
              "          const docLinkHtml = 'Like what you see? Visit the ' +\n",
              "            '<a target=\"_blank\" href=https://colab.research.google.com/notebooks/data_table.ipynb>data table notebook</a>'\n",
              "            + ' to learn more about interactive tables.';\n",
              "          element.innerHTML = '';\n",
              "          dataTable['output_type'] = 'display_data';\n",
              "          await google.colab.output.renderOutput(dataTable, element);\n",
              "          const docLink = document.createElement('div');\n",
              "          docLink.innerHTML = docLinkHtml;\n",
              "          element.appendChild(docLink);\n",
              "        }\n",
              "      </script>\n",
              "    </div>\n",
              "  </div>\n",
              "  "
            ]
          },
          "metadata": {},
          "execution_count": 35
        }
      ],
      "source": [
        "df.head()"
      ]
    },
    {
      "cell_type": "code",
      "execution_count": null,
      "metadata": {
        "id": "z9PzJagyY32Q"
      },
      "outputs": [],
      "source": [
        "from wordcloud import WordCloud, STOPWORDS\n",
        "import matplotlib.pyplot as plt\n",
        "import pandas as pd\n",
        "  "
      ]
    },
    {
      "cell_type": "code",
      "execution_count": null,
      "metadata": {
        "id": "Jp-QJKdCY32Q"
      },
      "outputs": [],
      "source": [
        "def make_wordcloud(df):\n",
        "    comment_words=\"\"\n",
        "    for val in df.tweet: \n",
        "        val = str(val).lower()\n",
        "\n",
        "      \n",
        "        comment_words += \" \".join(val)+\" \"\n",
        "    print(comment_words[0:100])\n",
        "    wordcloud = WordCloud(width = 800, height = 800,\n",
        "                background_color ='white',\n",
        "                stopwords = stopwords,min_font_size = 10).generate(comment_words)\n",
        "  \n",
        "    plt.figure(figsize = (8, 8), facecolor = None)\n",
        "    plt.imshow(wordcloud)\n",
        "    plt.axis(\"off\")\n",
        "    plt.tight_layout(pad = 0)\n",
        "\n",
        "    plt.show()"
      ]
    },
    {
      "cell_type": "code",
      "execution_count": null,
      "metadata": {
        "id": "iYVx-BSGY32R"
      },
      "outputs": [],
      "source": [
        "# make_wordcloud(df[df['label']==0])"
      ]
    },
    {
      "cell_type": "code",
      "execution_count": null,
      "metadata": {
        "id": "fE5I_j7CY32R"
      },
      "outputs": [],
      "source": [
        "x=df['tweet']\n",
        "y=df['label']"
      ]
    },
    {
      "cell_type": "code",
      "execution_count": null,
      "metadata": {
        "colab": {
          "base_uri": "https://localhost:8080/"
        },
        "id": "yYtOxfagY32R",
        "outputId": "81d26ade-18ac-4ee1-f3b8-72b4cc1455e6"
      },
      "outputs": [
        {
          "output_type": "stream",
          "name": "stdout",
          "text": [
            "42558 42558\n",
            "14187 14187\n"
          ]
        }
      ],
      "source": [
        "from sklearn.model_selection import train_test_split\n",
        "\n",
        "x_train, x_test, y_train, y_test = train_test_split(x, y, random_state=42)\n",
        "print(len(x_train), len(y_train))\n",
        "print(len(x_test), len(y_test))"
      ]
    },
    {
      "cell_type": "code",
      "execution_count": null,
      "metadata": {
        "id": "2XKhv2rOY32R"
      },
      "outputs": [],
      "source": [
        "from sklearn.feature_extraction.text import CountVectorizer\n",
        "\n",
        "count = CountVectorizer(stop_words='english', ngram_range=(1,5))\n",
        "x_train_vectorizer=count.fit_transform(x_train)"
      ]
    },
    {
      "cell_type": "code",
      "execution_count": null,
      "metadata": {
        "id": "pVOjpfhFY32R"
      },
      "outputs": [],
      "source": [
        "x_test_vectorizer=count.transform(x_test)\n",
        "# x_train_vectorizer.toarray()\n"
      ]
    },
    {
      "cell_type": "code",
      "execution_count": null,
      "metadata": {
        "colab": {
          "base_uri": "https://localhost:8080/"
        },
        "collapsed": true,
        "id": "hLtxruL_Y32R",
        "outputId": "d73fc361-c24f-452e-f9c5-afa464ced1d7"
      },
      "outputs": [
        {
          "output_type": "execute_result",
          "data": {
            "text/plain": [
              "{'pictur': 496965,\n",
              " 'galleri': 244789,\n",
              " 'live': 386374,\n",
              " 'blackcavali': 78353,\n",
              " 'caucasian': 105699,\n",
              " 'webcam': 750931,\n",
              " 'pictur galleri': 497099,\n",
              " 'galleri live': 244792,\n",
              " 'live blackcavali': 386462,\n",
              " 'blackcavali caucasian': 78354,\n",
              " 'caucasian webcam': 105705,\n",
              " 'pictur galleri live': 497100,\n",
              " 'galleri live blackcavali': 244793,\n",
              " 'live blackcavali caucasian': 386463,\n",
              " 'blackcavali caucasian webcam': 78355,\n",
              " 'pictur galleri live blackcavali': 497101,\n",
              " 'galleri live blackcavali caucasian': 244794,\n",
              " 'live blackcavali caucasian webcam': 386464,\n",
              " 'pictur galleri live blackcavali caucasian': 497102,\n",
              " 'galleri live blackcavali caucasian webcam': 244795,\n",
              " 'shoutout': 600018,\n",
              " 'everybodi': 198100,\n",
              " 'follow': 226779,\n",
              " 'nicca': 455780,\n",
              " 'shoutout everybodi': 600045,\n",
              " 'everybodi follow': 198226,\n",
              " 'follow nicca': 227264,\n",
              " 'shoutout everybodi follow': 600046,\n",
              " 'everybodi follow nicca': 198227,\n",
              " 'shoutout everybodi follow nicca': 600047,\n",
              " 'user': 703467,\n",
              " 'bet': 56640,\n",
              " 'second': 586131,\n",
              " 'goal': 255394,\n",
              " 'bottler': 85661,\n",
              " 'user user': 724712,\n",
              " 'user bet': 705466,\n",
              " 'bet second': 56813,\n",
              " 'second goal': 586194,\n",
              " 'goal bottler': 255408,\n",
              " 'user user bet': 724992,\n",
              " 'user bet second': 705479,\n",
              " 'bet second goal': 56814,\n",
              " 'second goal bottler': 586195,\n",
              " 'user user bet second': 724997,\n",
              " 'user bet second goal': 705480,\n",
              " 'bet second goal bottler': 56815,\n",
              " 'user user bet second goal': 724998,\n",
              " 'user bet second goal bottler': 705481,\n",
              " 'tattoosleev': 649673,\n",
              " 'gorilla': 263283,\n",
              " 'simul': 602796,\n",
              " 'need': 448086,\n",
              " 'adapt': 4027,\n",
              " 'environ': 194474,\n",
              " 'tear': 651817,\n",
              " 'citi': 117676,\n",
              " 'tattoosleev gorilla': 649674,\n",
              " 'gorilla simul': 263331,\n",
              " 'simul need': 602807,\n",
              " 'need adapt': 448100,\n",
              " 'adapt environ': 4028,\n",
              " 'environ need': 194487,\n",
              " 'need tear': 449697,\n",
              " 'tear citi': 651834,\n",
              " 'tattoosleev gorilla simul': 649675,\n",
              " 'gorilla simul need': 263332,\n",
              " 'simul need adapt': 602808,\n",
              " 'need adapt environ': 448101,\n",
              " 'adapt environ need': 4029,\n",
              " 'environ need tear': 194488,\n",
              " 'need tear citi': 449698,\n",
              " 'tattoosleev gorilla simul need': 649676,\n",
              " 'gorilla simul need adapt': 263333,\n",
              " 'simul need adapt environ': 602809,\n",
              " 'need adapt environ need': 448102,\n",
              " 'adapt environ need tear': 4030,\n",
              " 'environ need tear citi': 194489,\n",
              " 'tattoosleev gorilla simul need adapt': 649677,\n",
              " 'gorilla simul need adapt environ': 263334,\n",
              " 'simul need adapt environ need': 602810,\n",
              " 'need adapt environ need tear': 448103,\n",
              " 'adapt environ need tear citi': 4031,\n",
              " 'boy': 87102,\n",
              " 'ryanbowersob': 573405,\n",
              " 'got': 263467,\n",
              " 'hoe': 300275,\n",
              " 'boy ryanbowersob': 87736,\n",
              " 'ryanbowersob got': 573406,\n",
              " 'got hoe': 264878,\n",
              " 'boy ryanbowersob got': 87737,\n",
              " 'ryanbowersob got hoe': 573407,\n",
              " 'boy ryanbowersob got hoe': 87738,\n",
              " 'hate': 286834,\n",
              " 'aliv': 11793,\n",
              " 'hater': 288324,\n",
              " 'orlandounit': 480071,\n",
              " 'hate aliv': 286847,\n",
              " 'aliv hater': 11819,\n",
              " 'hater orlandounit': 288353,\n",
              " 'hate aliv hater': 286848,\n",
              " 'aliv hater orlandounit': 11820,\n",
              " 'hate aliv hater orlandounit': 286849,\n",
              " 'book': 83638,\n",
              " 'endur': 192647,\n",
              " 'convict': 131799,\n",
              " 'fred': 231715,\n",
              " 'korematsu': 359709,\n",
              " 'amp': 17807,\n",
              " 'quest': 523179,\n",
              " 'justic': 348074,\n",
              " 'humanright': 313763,\n",
              " 'htâ': 312750,\n",
              " 'book endur': 83763,\n",
              " 'endur convict': 192648,\n",
              " 'convict fred': 131800,\n",
              " 'fred korematsu': 231716,\n",
              " 'korematsu amp': 359710,\n",
              " 'amp quest': 20910,\n",
              " 'quest justic': 523182,\n",
              " 'justic humanright': 348091,\n",
              " 'humanright htâ': 313772,\n",
              " 'book endur convict': 83764,\n",
              " 'endur convict fred': 192649,\n",
              " 'convict fred korematsu': 131801,\n",
              " 'fred korematsu amp': 231717,\n",
              " 'korematsu amp quest': 359711,\n",
              " 'amp quest justic': 20911,\n",
              " 'quest justic humanright': 523183,\n",
              " 'justic humanright htâ': 348092,\n",
              " 'book endur convict fred': 83765,\n",
              " 'endur convict fred korematsu': 192650,\n",
              " 'convict fred korematsu amp': 131802,\n",
              " 'fred korematsu amp quest': 231718,\n",
              " 'korematsu amp quest justic': 359712,\n",
              " 'amp quest justic humanright': 20912,\n",
              " 'quest justic humanright htâ': 523184,\n",
              " 'book endur convict fred korematsu': 83766,\n",
              " 'endur convict fred korematsu amp': 192651,\n",
              " 'convict fred korematsu amp quest': 131803,\n",
              " 'fred korematsu amp quest justic': 231719,\n",
              " 'korematsu amp quest justic humanright': 359713,\n",
              " 'amp quest justic humanright htâ': 20913,\n",
              " 'reason': 534139,\n",
              " 'gun': 274775,\n",
              " 'lobbi': 389383,\n",
              " 'senat': 588901,\n",
              " 'pay': 487451,\n",
              " 'repdem': 540092,\n",
              " 'make': 408681,\n",
              " 'sure': 642475,\n",
              " 'continu': 131159,\n",
              " 'billion': 62281,\n",
              " 'industri': 329647,\n",
              " 'user reason': 719765,\n",
              " 'reason gun': 534265,\n",
              " 'gun lobbi': 274981,\n",
              " 'lobbi senat': 389401,\n",
              " 'senat pay': 588912,\n",
              " 'pay senat': 487954,\n",
              " 'senat repdem': 588924,\n",
              " 'repdem make': 540093,\n",
              " 'make sure': 411300,\n",
              " 'sure continu': 642555,\n",
              " 'continu make': 131228,\n",
              " 'make billion': 408879,\n",
              " 'billion gun': 62287,\n",
              " 'gun industri': 274937,\n",
              " 'user reason gun': 719775,\n",
              " 'reason gun lobbi': 534266,\n",
              " 'gun lobbi senat': 274985,\n",
              " 'lobbi senat pay': 389402,\n",
              " 'senat pay senat': 588913,\n",
              " 'pay senat repdem': 487955,\n",
              " 'senat repdem make': 588925,\n",
              " 'repdem make sure': 540094,\n",
              " 'make sure continu': 411316,\n",
              " 'sure continu make': 642556,\n",
              " 'continu make billion': 131229,\n",
              " 'make billion gun': 408880,\n",
              " 'billion gun industri': 62288,\n",
              " 'user reason gun lobbi': 719776,\n",
              " 'reason gun lobbi senat': 534267,\n",
              " 'gun lobbi senat pay': 274986,\n",
              " 'lobbi senat pay senat': 389403,\n",
              " 'senat pay senat repdem': 588914,\n",
              " 'pay senat repdem make': 487956,\n",
              " 'senat repdem make sure': 588926,\n",
              " 'repdem make sure continu': 540095,\n",
              " 'make sure continu make': 411317,\n",
              " 'sure continu make billion': 642557,\n",
              " 'continu make billion gun': 131230,\n",
              " 'make billion gun industri': 408881,\n",
              " 'user reason gun lobbi senat': 719777,\n",
              " 'reason gun lobbi senat pay': 534268,\n",
              " 'gun lobbi senat pay senat': 274987,\n",
              " 'lobbi senat pay senat repdem': 389404,\n",
              " 'senat pay senat repdem make': 588915,\n",
              " 'pay senat repdem make sure': 487957,\n",
              " 'senat repdem make sure continu': 588927,\n",
              " 'repdem make sure continu make': 540096,\n",
              " 'make sure continu make billion': 411318,\n",
              " 'sure continu make billion gun': 642558,\n",
              " 'continu make billion gun industri': 131231,\n",
              " 'dinner': 167626,\n",
              " 'friend': 234464,\n",
              " 'steak': 628490,\n",
              " 'shop': 598886,\n",
              " 'disappoint': 168587,\n",
              " 'yummi': 788522,\n",
              " 'nice': 456274,\n",
              " 'theâ': 661391,\n",
              " 'dinner friend': 167677,\n",
              " 'friend steak': 235695,\n",
              " 'steak shop': 628542,\n",
              " 'shop disappoint': 598938,\n",
              " 'disappoint yummi': 168728,\n",
              " 'yummi nice': 788576,\n",
              " 'nice theâ': 456751,\n",
              " 'dinner friend steak': 167681,\n",
              " 'friend steak shop': 235696,\n",
              " 'steak shop disappoint': 628543,\n",
              " 'shop disappoint yummi': 598939,\n",
              " 'disappoint yummi nice': 168729,\n",
              " 'yummi nice theâ': 788577,\n",
              " 'dinner friend steak shop': 167682,\n",
              " 'friend steak shop disappoint': 235697,\n",
              " 'steak shop disappoint yummi': 628544,\n",
              " 'shop disappoint yummi nice': 598940,\n",
              " 'disappoint yummi nice theâ': 168730,\n",
              " 'dinner friend steak shop disappoint': 167683,\n",
              " 'friend steak shop disappoint yummi': 235698,\n",
              " 'steak shop disappoint yummi nice': 628545,\n",
              " 'shop disappoint yummi nice theâ': 598941,\n",
              " 'buy': 98133,\n",
              " 'record': 535254,\n",
              " 'main': 408247,\n",
              " 'rap': 527638,\n",
              " 'album': 10970,\n",
              " 'discog': 168807,\n",
              " 'hiphop': 298432,\n",
              " 'lps': 404801,\n",
              " 'forsal': 230255,\n",
              " 'music': 442265,\n",
              " 'love': 398001,\n",
              " 'ebay': 187414,\n",
              " 'buy record': 98483,\n",
              " 'record main': 535328,\n",
              " 'main rap': 408403,\n",
              " 'rap album': 527640,\n",
              " 'album discog': 10995,\n",
              " 'discog rap': 168808,\n",
              " 'rap hiphop': 527687,\n",
              " 'hiphop lps': 298451,\n",
              " 'lps record': 404802,\n",
              " 'record forsal': 535288,\n",
              " 'forsal music': 230256,\n",
              " 'music love': 442612,\n",
              " 'love ebay': 399259,\n",
              " 'buy record main': 98484,\n",
              " 'record main rap': 535329,\n",
              " 'main rap album': 408404,\n",
              " 'rap album discog': 527641,\n",
              " 'album discog rap': 10996,\n",
              " 'discog rap hiphop': 168809,\n",
              " 'rap hiphop lps': 527688,\n",
              " 'hiphop lps record': 298452,\n",
              " 'lps record forsal': 404803,\n",
              " 'record forsal music': 535289,\n",
              " 'forsal music love': 230257,\n",
              " 'music love ebay': 442619,\n",
              " 'buy record main rap': 98485,\n",
              " 'record main rap album': 535330,\n",
              " 'main rap album discog': 408405,\n",
              " 'rap album discog rap': 527642,\n",
              " 'album discog rap hiphop': 10997,\n",
              " 'discog rap hiphop lps': 168810,\n",
              " 'rap hiphop lps record': 527689,\n",
              " 'hiphop lps record forsal': 298453,\n",
              " 'lps record forsal music': 404804,\n",
              " 'record forsal music love': 535290,\n",
              " 'forsal music love ebay': 230258,\n",
              " 'buy record main rap album': 98486,\n",
              " 'record main rap album discog': 535331,\n",
              " 'main rap album discog rap': 408406,\n",
              " 'rap album discog rap hiphop': 527643,\n",
              " 'album discog rap hiphop lps': 10998,\n",
              " 'discog rap hiphop lps record': 168811,\n",
              " 'rap hiphop lps record forsal': 527690,\n",
              " 'hiphop lps record forsal music': 298454,\n",
              " 'lps record forsal music love': 404805,\n",
              " 'record forsal music love ebay': 535291,\n",
              " 'bossdog': 85322,\n",
              " 'bossdog user': 85323,\n",
              " 'bossdog user user': 85324,\n",
              " 'rt': 551149,\n",
              " 'dadonherself': 146656,\n",
              " 'nigga': 457518,\n",
              " 'fuck': 236939,\n",
              " 'pretti': 512407,\n",
              " 'girl': 251227,\n",
              " 'head': 289945,\n",
              " 'right': 545348,\n",
              " 'ho': 299893,\n",
              " 'pair': 483602,\n",
              " 'good': 259544,\n",
              " 'panti': 484412,\n",
              " 'rt dadonherself': 554809,\n",
              " 'dadonherself nigga': 146657,\n",
              " 'nigga fuck': 458615,\n",
              " 'fuck pretti': 239368,\n",
              " 'pretti girl': 512610,\n",
              " 'girl head': 252052,\n",
              " 'head right': 290361,\n",
              " 'right ho': 545761,\n",
              " 'ho got': 299960,\n",
              " 'got pair': 265766,\n",
              " 'pair good': 483630,\n",
              " 'good panti': 261178,\n",
              " 'rt dadonherself nigga': 554810,\n",
              " 'dadonherself nigga fuck': 146658,\n",
              " 'nigga fuck pretti': 458663,\n",
              " 'fuck pretti girl': 239369,\n",
              " 'pretti girl head': 512611,\n",
              " 'girl head right': 252053,\n",
              " 'head right ho': 290362,\n",
              " 'right ho got': 545762,\n",
              " 'ho got pair': 299964,\n",
              " 'got pair good': 265767,\n",
              " 'pair good panti': 483631,\n",
              " 'rt dadonherself nigga fuck': 554811,\n",
              " 'dadonherself nigga fuck pretti': 146659,\n",
              " 'nigga fuck pretti girl': 458664,\n",
              " 'fuck pretti girl head': 239370,\n",
              " 'pretti girl head right': 512612,\n",
              " 'girl head right ho': 252054,\n",
              " 'head right ho got': 290363,\n",
              " 'right ho got pair': 545763,\n",
              " 'ho got pair good': 299965,\n",
              " 'got pair good panti': 265768,\n",
              " 'rt dadonherself nigga fuck pretti': 554812,\n",
              " 'dadonherself nigga fuck pretti girl': 146660,\n",
              " 'nigga fuck pretti girl head': 458665,\n",
              " 'fuck pretti girl head right': 239371,\n",
              " 'pretti girl head right ho': 512613,\n",
              " 'girl head right ho got': 252055,\n",
              " 'head right ho got pair': 290364,\n",
              " 'right ho got pair good': 545764,\n",
              " 'ho got pair good panti': 299966,\n",
              " 'yeeeaaahhh': 782364,\n",
              " 'wattpad': 748038,\n",
              " 'yeeeaaahhh wattpad': 782365,\n",
              " 'kelseyyvirginia': 350244,\n",
              " 'caylanashle': 106854,\n",
              " 'look': 392867,\n",
              " 'bitch': 64163,\n",
              " 'want': 742472,\n",
              " 'gramat': 268925,\n",
              " 'correct': 133556,\n",
              " 'kelseyyvirginia caylanashle': 350245,\n",
              " 'caylanashle look': 106859,\n",
              " 'look bitch': 393104,\n",
              " 'bitch want': 75749,\n",
              " 'want gramat': 743370,\n",
              " 'gramat correct': 268926,\n",
              " 'kelseyyvirginia caylanashle look': 350246,\n",
              " 'caylanashle look bitch': 106860,\n",
              " 'look bitch want': 393146,\n",
              " 'bitch want gramat': 75801,\n",
              " 'want gramat correct': 743371,\n",
              " 'kelseyyvirginia caylanashle look bitch': 350247,\n",
              " 'caylanashle look bitch want': 106861,\n",
              " 'look bitch want gramat': 393147,\n",
              " 'bitch want gramat correct': 75802,\n",
              " 'kelseyyvirginia caylanashle look bitch want': 350248,\n",
              " 'caylanashle look bitch want gramat': 106862,\n",
              " 'look bitch want gramat correct': 393148,\n",
              " 'gabrielleheaton': 244491,\n",
              " 'rt gabrielleheaton': 557014,\n",
              " 'gotta': 267097,\n",
              " 'remind': 539516,\n",
              " 'da': 144716,\n",
              " 'phone': 494768,\n",
              " 'sometim': 616273,\n",
              " 'cuz': 143978,\n",
              " 'sidetrack': 601492,\n",
              " 'bad': 42133,\n",
              " 'den': 161357,\n",
              " 'mad': 407002,\n",
              " 'meet': 422107,\n",
              " 'em': 190329,\n",
              " 'gotta remind': 267654,\n",
              " 'remind da': 539559,\n",
              " 'da phone': 145159,\n",
              " 'phone sometim': 495061,\n",
              " 'sometim cuz': 616310,\n",
              " 'cuz sidetrack': 144339,\n",
              " 'sidetrack bad': 601493,\n",
              " 'bad bitch': 42204,\n",
              " 'bitch den': 66795,\n",
              " 'den mad': 161392,\n",
              " 'mad cuz': 407112,\n",
              " 'cuz meet': 144248,\n",
              " 'meet em': 422200,\n",
              " 'gotta remind da': 267658,\n",
              " 'remind da phone': 539560,\n",
              " 'da phone sometim': 145160,\n",
              " 'phone sometim cuz': 495062,\n",
              " 'sometim cuz sidetrack': 616311,\n",
              " 'cuz sidetrack bad': 144340,\n",
              " 'sidetrack bad bitch': 601494,\n",
              " 'bad bitch den': 42276,\n",
              " 'bitch den mad': 66796,\n",
              " 'den mad cuz': 161393,\n",
              " 'mad cuz meet': 407124,\n",
              " 'cuz meet em': 144249,\n",
              " 'gotta remind da phone': 267659,\n",
              " 'remind da phone sometim': 539561,\n",
              " 'da phone sometim cuz': 145161,\n",
              " 'phone sometim cuz sidetrack': 495063,\n",
              " 'sometim cuz sidetrack bad': 616312,\n",
              " 'cuz sidetrack bad bitch': 144341,\n",
              " 'sidetrack bad bitch den': 601495,\n",
              " 'bad bitch den mad': 42277,\n",
              " 'bitch den mad cuz': 66797,\n",
              " 'den mad cuz meet': 161394,\n",
              " 'mad cuz meet em': 407125,\n",
              " 'gotta remind da phone sometim': 267660,\n",
              " 'remind da phone sometim cuz': 539562,\n",
              " 'da phone sometim cuz sidetrack': 145162,\n",
              " 'phone sometim cuz sidetrack bad': 495064,\n",
              " 'sometim cuz sidetrack bad bitch': 616313,\n",
              " 'cuz sidetrack bad bitch den': 144342,\n",
              " 'sidetrack bad bitch den mad': 601496,\n",
              " 'bad bitch den mad cuz': 42278,\n",
              " 'bitch den mad cuz meet': 66798,\n",
              " 'den mad cuz meet em': 161395,\n",
              " 'englandbailey': 193139,\n",
              " 'happi': 281124,\n",
              " 'birthday': 63778,\n",
              " 'nicest': 456890,\n",
              " 'faggot': 205954,\n",
              " 'rt englandbailey': 556097,\n",
              " 'englandbailey happi': 193140,\n",
              " 'happi birthday': 281622,\n",
              " 'birthday nicest': 63891,\n",
              " 'nicest faggot': 456891,\n",
              " 'rt englandbailey happi': 556098,\n",
              " 'englandbailey happi birthday': 193141,\n",
              " 'happi birthday nicest': 281689,\n",
              " 'birthday nicest faggot': 63892,\n",
              " 'rt englandbailey happi birthday': 556099,\n",
              " 'englandbailey happi birthday nicest': 193142,\n",
              " 'happi birthday nicest faggot': 281690,\n",
              " 'rt englandbailey happi birthday nicest': 556100,\n",
              " 'englandbailey happi birthday nicest faggot': 193143,\n",
              " 'theyloveblaq': 661005,\n",
              " 'joselin': 345640,\n",
              " 'sneak': 612330,\n",
              " 'athea': 35970,\n",
              " 'dont': 173608,\n",
              " 'like': 375362,\n",
              " 'come': 124706,\n",
              " 'sit': 604875,\n",
              " 'yo': 784455,\n",
              " 'ass': 33046,\n",
              " 'onnat': 476446,\n",
              " 'couch': 134095,\n",
              " 'rt theyloveblaq': 568694,\n",
              " 'theyloveblaq joselin': 661006,\n",
              " 'joselin sneak': 345647,\n",
              " 'sneak athea': 612331,\n",
              " 'athea bitch': 35971,\n",
              " 'bitch dont': 66984,\n",
              " 'dont like': 175578,\n",
              " 'like come': 376633,\n",
              " 'come like': 125545,\n",
              " 'like amp': 375487,\n",
              " 'amp sit': 21323,\n",
              " 'sit yo': 605178,\n",
              " 'yo ass': 784468,\n",
              " 'ass onnat': 34516,\n",
              " 'onnat couch': 476447,\n",
              " 'rt theyloveblaq joselin': 568695,\n",
              " 'theyloveblaq joselin sneak': 661007,\n",
              " 'joselin sneak athea': 345648,\n",
              " 'sneak athea bitch': 612332,\n",
              " 'athea bitch dont': 35972,\n",
              " 'bitch dont like': 67086,\n",
              " 'dont like come': 175610,\n",
              " 'like come like': 376640,\n",
              " 'come like amp': 125546,\n",
              " 'like amp sit': 375497,\n",
              " 'amp sit yo': 21328,\n",
              " 'sit yo ass': 605179,\n",
              " 'yo ass onnat': 784485,\n",
              " 'ass onnat couch': 34517,\n",
              " 'rt theyloveblaq joselin sneak': 568696,\n",
              " 'theyloveblaq joselin sneak athea': 661008,\n",
              " 'joselin sneak athea bitch': 345649,\n",
              " 'sneak athea bitch dont': 612333,\n",
              " 'athea bitch dont like': 35973,\n",
              " 'bitch dont like come': 67090,\n",
              " 'dont like come like': 175611,\n",
              " 'like come like amp': 376641,\n",
              " 'come like amp sit': 125547,\n",
              " 'like amp sit yo': 375498,\n",
              " 'amp sit yo ass': 21329,\n",
              " 'sit yo ass onnat': 605180,\n",
              " 'yo ass onnat couch': 784486,\n",
              " 'rt theyloveblaq joselin sneak athea': 568697,\n",
              " 'theyloveblaq joselin sneak athea bitch': 661009,\n",
              " 'joselin sneak athea bitch dont': 345650,\n",
              " 'sneak athea bitch dont like': 612334,\n",
              " 'athea bitch dont like come': 35974,\n",
              " 'bitch dont like come like': 67091,\n",
              " 'dont like come like amp': 175612,\n",
              " 'like come like amp sit': 376642,\n",
              " 'come like amp sit yo': 125548,\n",
              " 'like amp sit yo ass': 375499,\n",
              " 'amp sit yo ass onnat': 21330,\n",
              " 'sit yo ass onnat couch': 605181,\n",
              " 'movi': 439832,\n",
              " 'aint': 8068,\n",
              " 'star': 625932,\n",
              " 'extra': 203241,\n",
              " 'pride': 513308,\n",
              " 'movi everybodi': 439916,\n",
              " 'everybodi aint': 198105,\n",
              " 'aint star': 9610,\n",
              " 'star need': 626064,\n",
              " 'need star': 449541,\n",
              " 'star extra': 625975,\n",
              " 'extra hate': 203278,\n",
              " 'hate hoe': 287456,\n",
              " 'hoe pride': 303397,\n",
              " 'movi everybodi aint': 439917,\n",
              " 'everybodi aint star': 198109,\n",
              " 'aint star need': 9611,\n",
              " 'star need star': 626065,\n",
              " 'need star extra': 449542,\n",
              " 'star extra hate': 625976,\n",
              " 'extra hate hoe': 203279,\n",
              " 'hate hoe pride': 287473,\n",
              " 'movi everybodi aint star': 439918,\n",
              " 'everybodi aint star need': 198110,\n",
              " 'aint star need star': 9612,\n",
              " 'star need star extra': 626066,\n",
              " 'need star extra hate': 449543,\n",
              " 'star extra hate hoe': 625977,\n",
              " 'extra hate hoe pride': 203280,\n",
              " 'movi everybodi aint star need': 439919,\n",
              " 'everybodi aint star need star': 198111,\n",
              " 'aint star need star extra': 9613,\n",
              " 'star need star extra hate': 626067,\n",
              " 'need star extra hate hoe': 449544,\n",
              " 'star extra hate hoe pride': 625978,\n",
              " 'gottaluvlexci': 267846,\n",
              " 'myhipsdntli': 443874,\n",
              " 'tight': 668700,\n",
              " 'pant': 484336,\n",
              " 'loud': 397745,\n",
              " 'color': 123951,\n",
              " 'fag': 205657,\n",
              " 'rt gottaluvlexci': 557364,\n",
              " 'gottaluvlexci rt': 267847,\n",
              " 'rt myhipsdntli': 563330,\n",
              " 'myhipsdntli tight': 443875,\n",
              " 'tight pant': 668746,\n",
              " 'pant loud': 484371,\n",
              " 'loud color': 397752,\n",
              " 'color look': 124249,\n",
              " 'look like': 394074,\n",
              " 'like fag': 377399,\n",
              " 'rt gottaluvlexci rt': 557365,\n",
              " 'gottaluvlexci rt myhipsdntli': 267848,\n",
              " 'rt myhipsdntli tight': 563331,\n",
              " 'myhipsdntli tight pant': 443876,\n",
              " 'tight pant loud': 668747,\n",
              " 'pant loud color': 484372,\n",
              " 'loud color look': 397753,\n",
              " 'color look like': 124250,\n",
              " 'look like fag': 394290,\n",
              " 'rt gottaluvlexci rt myhipsdntli': 557366,\n",
              " 'gottaluvlexci rt myhipsdntli tight': 267849,\n",
              " 'rt myhipsdntli tight pant': 563332,\n",
              " 'myhipsdntli tight pant loud': 443877,\n",
              " 'tight pant loud color': 668748,\n",
              " 'pant loud color look': 484373,\n",
              " 'loud color look like': 397754,\n",
              " 'color look like fag': 124251,\n",
              " 'rt gottaluvlexci rt myhipsdntli tight': 557367,\n",
              " 'gottaluvlexci rt myhipsdntli tight pant': 267850,\n",
              " 'rt myhipsdntli tight pant loud': 563333,\n",
              " 'myhipsdntli tight pant loud color': 443878,\n",
              " 'tight pant loud color look': 668749,\n",
              " 'pant loud color look like': 484374,\n",
              " 'loud color look like fag': 397755,\n",
              " 'nochillpaz': 464573,\n",
              " 'say': 579863,\n",
              " 'broke': 92540,\n",
              " 'rt nochillpaz': 563851,\n",
              " 'nochillpaz bitch': 464574,\n",
              " 'bitch say': 73290,\n",
              " 'say broke': 580105,\n",
              " 'rt nochillpaz bitch': 563852,\n",
              " 'nochillpaz bitch say': 464576,\n",
              " 'bitch say broke': 73298,\n",
              " 'rt nochillpaz bitch say': 563854,\n",
              " 'nochillpaz bitch say broke': 464577,\n",
              " 'rt nochillpaz bitch say broke': 563855,\n",
              " 'aww': 39947,\n",
              " 'yeah': 780270,\n",
              " 'bing': 62435,\n",
              " 'bong': 83357,\n",
              " 'aww yeah': 39989,\n",
              " 'yeah good': 780488,\n",
              " 'good bing': 259656,\n",
              " 'bing bong': 62440,\n",
              " 'bong bing': 83358,\n",
              " 'aww yeah good': 39990,\n",
              " 'yeah good bing': 780489,\n",
              " 'good bing bong': 259657,\n",
              " 'bing bong bing': 62441,\n",
              " 'bong bing bong': 83359,\n",
              " 'aww yeah good bing': 39991,\n",
              " 'yeah good bing bong': 780490,\n",
              " 'good bing bong bing': 259658,\n",
              " 'bing bong bing bong': 62442,\n",
              " 'aww yeah good bing bong': 39992,\n",
              " 'yeah good bing bong bing': 780491,\n",
              " 'good bing bong bing bong': 259659,\n",
              " 'count': 134280,\n",
              " 'day': 151374,\n",
              " 'spring': 623447,\n",
              " 'memori': 423307,\n",
              " 'flower': 225583,\n",
              " 'vine': 735330,\n",
              " 'dont count': 174203,\n",
              " 'count day': 134327,\n",
              " 'day make': 154141,\n",
              " 'make day': 409221,\n",
              " 'day count': 152160,\n",
              " 'count spring': 134436,\n",
              " 'spring memori': 623483,\n",
              " 'memori flower': 423347,\n",
              " 'flower vine': 225840,\n",
              " 'vine user': 735417,\n",
              " 'dont count day': 174207,\n",
              " 'count day make': 134337,\n",
              " 'day make day': 154145,\n",
              " 'make day count': 409230,\n",
              " 'day count spring': 152171,\n",
              " 'count spring memori': 134437,\n",
              " 'spring memori flower': 623487,\n",
              " 'memori flower vine': 423348,\n",
              " 'flower vine user': 225841,\n",
              " 'dont count day make': 174208,\n",
              " 'count day make day': 134338,\n",
              " 'day make day count': 154146,\n",
              " 'make day count spring': 409235,\n",
              " 'day count spring memori': 152172,\n",
              " 'count spring memori flower': 134438,\n",
              " 'spring memori flower vine': 623488,\n",
              " 'memori flower vine user': 423349,\n",
              " 'dont count day make day': 174209,\n",
              " 'count day make day count': 134339,\n",
              " 'day make day count spring': 154149,\n",
              " 'make day count spring memori': 409236,\n",
              " 'day count spring memori flower': 152173,\n",
              " 'count spring memori flower vine': 134439,\n",
              " 'spring memori flower vine user': 623489,\n",
              " 'everyon': 198726,\n",
              " 'white': 758153,\n",
              " 'crayon': 137267,\n",
              " 'perfect': 492281,\n",
              " 'bleed': 79167,\n",
              " 'break': 89276,\n",
              " 'everyon hate': 199008,\n",
              " 'hate white': 288207,\n",
              " 'white crayon': 758361,\n",
              " 'crayon look': 137281,\n",
              " 'look perfect': 394931,\n",
              " 'perfect bleed': 492310,\n",
              " 'bleed break': 79171,\n",
              " 'everyon hate white': 199015,\n",
              " 'hate white crayon': 288208,\n",
              " 'white crayon look': 758365,\n",
              " 'crayon look perfect': 137282,\n",
              " 'look perfect bleed': 394932,\n",
              " 'perfect bleed break': 492311,\n",
              " 'everyon hate white crayon': 199016,\n",
              " 'hate white crayon look': 288209,\n",
              " 'white crayon look perfect': 758366,\n",
              " 'crayon look perfect bleed': 137283,\n",
              " 'look perfect bleed break': 394933,\n",
              " 'everyon hate white crayon look': 199017,\n",
              " 'hate white crayon look perfect': 288210,\n",
              " 'white crayon look perfect bleed': 758367,\n",
              " 'crayon look perfect bleed break': 137284,\n",
              " 'im': 320372,\n",
              " 'defend': 159496,\n",
              " 'ray': 528670,\n",
              " 'rice': 544239,\n",
              " 'doubl': 178654,\n",
              " 'standard': 625754,\n",
              " 'im defend': 321530,\n",
              " 'defend ray': 159563,\n",
              " 'ray rice': 528686,\n",
              " 'rice doubl': 544263,\n",
              " 'doubl standard': 178750,\n",
              " 'standard bitch': 625768,\n",
              " 'bitch aint': 64267,\n",
              " 'im defend ray': 321531,\n",
              " 'defend ray rice': 159564,\n",
              " 'ray rice doubl': 528692,\n",
              " 'rice doubl standard': 544264,\n",
              " 'doubl standard bitch': 178751,\n",
              " 'standard bitch aint': 625769,\n",
              " 'im defend ray rice': 321532,\n",
              " 'defend ray rice doubl': 159565,\n",
              " 'ray rice doubl standard': 528693,\n",
              " 'rice doubl standard bitch': 544265,\n",
              " 'doubl standard bitch aint': 178752,\n",
              " 'im defend ray rice doubl': 321533,\n",
              " 'defend ray rice doubl standard': 159566,\n",
              " 'ray rice doubl standard bitch': 528694,\n",
              " 'rice doubl standard bitch aint': 544266,\n",
              " 'michaeljac': 426276,\n",
              " 'actor': 3174,\n",
              " 'theshield': 660632,\n",
              " 'commit': 127324,\n",
              " 'horrif': 310085,\n",
              " 'act': 2384,\n",
              " 'god': 255695,\n",
              " 'help': 294122,\n",
              " 'famili': 207931,\n",
              " 'terribl': 654416,\n",
              " 'legaci': 367859,\n",
              " 'michaeljac actor': 426277,\n",
              " 'actor theshield': 3273,\n",
              " 'theshield commit': 660633,\n",
              " 'commit horrif': 127358,\n",
              " 'horrif act': 310086,\n",
              " 'act god': 2488,\n",
              " 'god help': 256072,\n",
              " 'help famili': 294255,\n",
              " 'famili terribl': 208789,\n",
              " 'terribl legaci': 654441,\n",
              " 'michaeljac actor theshield': 426278,\n",
              " 'actor theshield commit': 3274,\n",
              " 'theshield commit horrif': 660634,\n",
              " 'commit horrif act': 127359,\n",
              " 'horrif act god': 310087,\n",
              " 'act god help': 2489,\n",
              " 'god help famili': 256073,\n",
              " 'help famili terribl': 294257,\n",
              " 'famili terribl legaci': 208790,\n",
              " 'michaeljac actor theshield commit': 426279,\n",
              " 'actor theshield commit horrif': 3275,\n",
              " 'theshield commit horrif act': 660635,\n",
              " 'commit horrif act god': 127360,\n",
              " 'horrif act god help': 310088,\n",
              " 'act god help famili': 2490,\n",
              " 'god help famili terribl': 256074,\n",
              " 'help famili terribl legaci': 294258,\n",
              " 'michaeljac actor theshield commit horrif': 426280,\n",
              " 'actor theshield commit horrif act': 3276,\n",
              " 'theshield commit horrif act god': 660636,\n",
              " 'commit horrif act god help': 127361,\n",
              " 'horrif act god help famili': 310089,\n",
              " 'act god help famili terribl': 2491,\n",
              " 'god help famili terribl legaci': 256075,\n",
              " 'kid': 351644,\n",
              " 'fuck kid': 238712,\n",
              " 'kid bitch': 351712,\n",
              " 'fuck kid bitch': 238713,\n",
              " 'lookin': 395435,\n",
              " 'federalboobieinspector': 215384,\n",
              " 'lookin hoe': 395501,\n",
              " 'hoe federalboobieinspector': 301646,\n",
              " 'lookin hoe federalboobieinspector': 395502,\n",
              " 'thank': 656218,\n",
              " 'abl': 511,\n",
              " 'choos': 115707,\n",
              " 'posit': 507303,\n",
              " 'thank abl': 656219,\n",
              " 'abl choos': 542,\n",
              " 'choos thank': 115885,\n",
              " 'thank posit': 657511,\n",
              " 'thank abl choos': 656220,\n",
              " 'abl choos thank': 543,\n",
              " 'choos thank posit': 115889,\n",
              " 'thank abl choos thank': 656221,\n",
              " 'abl choos thank posit': 544,\n",
              " 'thank abl choos thank posit': 656222,\n",
              " 'trash': 682979,\n",
              " 'bash': 46856,\n",
              " 'white trash': 758963,\n",
              " 'trash bash': 683101,\n",
              " 'white trash bash': 758967,\n",
              " 'cool': 132177,\n",
              " 'yaar': 777080,\n",
              " 'cool yaar': 132582,\n",
              " 'sick': 601093,\n",
              " 'preprogram': 511557,\n",
              " 'hillbot': 298226,\n",
              " 'rhetor': 544060,\n",
              " 'alreadi': 13453,\n",
              " 'uniti': 699441,\n",
              " 'patriot': 487112,\n",
              " 'feâ': 219195,\n",
              " 'user sick': 721228,\n",
              " 'sick preprogram': 601283,\n",
              " 'preprogram hillbot': 511558,\n",
              " 'hillbot rhetor': 298229,\n",
              " 'rhetor alreadi': 544061,\n",
              " 'alreadi uniti': 13852,\n",
              " 'uniti patriot': 699457,\n",
              " 'patriot love': 487121,\n",
              " 'love feâ': 399556,\n",
              " 'user sick preprogram': 721238,\n",
              " 'sick preprogram hillbot': 601284,\n",
              " 'preprogram hillbot rhetor': 511559,\n",
              " 'hillbot rhetor alreadi': 298230,\n",
              " 'rhetor alreadi uniti': 544062,\n",
              " 'alreadi uniti patriot': 13853,\n",
              " 'uniti patriot love': 699458,\n",
              " 'patriot love feâ': 487122,\n",
              " 'user sick preprogram hillbot': 721239,\n",
              " 'sick preprogram hillbot rhetor': 601285,\n",
              " 'preprogram hillbot rhetor alreadi': 511560,\n",
              " 'hillbot rhetor alreadi uniti': 298231,\n",
              " 'rhetor alreadi uniti patriot': 544063,\n",
              " 'alreadi uniti patriot love': 13854,\n",
              " 'uniti patriot love feâ': 699459,\n",
              " 'user sick preprogram hillbot rhetor': 721240,\n",
              " 'sick preprogram hillbot rhetor alreadi': 601286,\n",
              " 'preprogram hillbot rhetor alreadi uniti': 511561,\n",
              " 'hillbot rhetor alreadi uniti patriot': 298232,\n",
              " 'rhetor alreadi uniti patriot love': 544064,\n",
              " 'alreadi uniti patriot love feâ': 13855,\n",
              " 'ascanioenteain': 31617,\n",
              " 'redesign': 536045,\n",
              " 'aquila': 29691,\n",
              " 'plain': 499737,\n",
              " 'screenshot': 584830,\n",
              " 'indiegameâ': 329493,\n",
              " 'ascanioenteain redesign': 31618,\n",
              " 'redesign aquila': 536046,\n",
              " 'aquila plain': 29692,\n",
              " 'plain screenshot': 499760,\n",
              " 'screenshot indiegameâ': 584840,\n",
              " 'ascanioenteain redesign aquila': 31619,\n",
              " 'redesign aquila plain': 536047,\n",
              " 'aquila plain screenshot': 29693,\n",
              " 'plain screenshot indiegameâ': 499761,\n",
              " 'ascanioenteain redesign aquila plain': 31620,\n",
              " 'redesign aquila plain screenshot': 536048,\n",
              " 'aquila plain screenshot indiegameâ': 29694,\n",
              " 'ascanioenteain redesign aquila plain screenshot': 31621,\n",
              " 'redesign aquila plain screenshot indiegameâ': 536049,\n",
              " 'carl': 103598,\n",
              " 'bean': 49253,\n",
              " 'beauti': 50122,\n",
              " 'lgbt': 370975,\n",
              " 'instadaili': 331569,\n",
              " 'instagram': 331981,\n",
              " 'carl bean': 103599,\n",
              " 'bean love': 49285,\n",
              " 'love beauti': 398306,\n",
              " 'beauti hate': 50597,\n",
              " 'hate lgbt': 287569,\n",
              " 'lgbt instadaili': 371030,\n",
              " 'instadaili instagram': 331595,\n",
              " 'instagram user': 332244,\n",
              " 'carl bean love': 103600,\n",
              " 'bean love beauti': 49286,\n",
              " 'love beauti hate': 398314,\n",
              " 'beauti hate lgbt': 50598,\n",
              " 'hate lgbt instadaili': 287570,\n",
              " 'lgbt instadaili instagram': 371031,\n",
              " 'instadaili instagram user': 331599,\n",
              " 'carl bean love beauti': 103601,\n",
              " 'bean love beauti hate': 49287,\n",
              " 'love beauti hate lgbt': 398315,\n",
              " 'beauti hate lgbt instadaili': 50599,\n",
              " 'hate lgbt instadaili instagram': 287571,\n",
              " 'lgbt instadaili instagram user': 371032,\n",
              " 'carl bean love beauti hate': 103602,\n",
              " 'bean love beauti hate lgbt': 49288,\n",
              " 'love beauti hate lgbt instadaili': 398316,\n",
              " 'beauti hate lgbt instadaili instagram': 50600,\n",
              " 'hate lgbt instadaili instagram user': 287572,\n",
              " 'thebank': 658805,\n",
              " 'bacon': 42085,\n",
              " 'rt thebank': 568209,\n",
              " 'thebank bacon': 658806,\n",
              " 'bacon bitch': 42086,\n",
              " 'rt thebank bacon': 568210,\n",
              " 'thebank bacon bitch': 658807,\n",
              " 'rt thebank bacon bitch': 568211,\n",
              " 'ceain': 107176,\n",
              " 'awesom': 39458,\n",
              " 'inspir': 331180,\n",
              " 'fridâ': 234460,\n",
              " 'user thank': 722861,\n",
              " 'thank ceain': 656434,\n",
              " 'ceain awesom': 107181,\n",
              " 'awesom inspir': 39588,\n",
              " 'inspir day': 331233,\n",
              " 'day fridâ': 152967,\n",
              " 'user user thank': 727403,\n",
              " 'user thank ceain': 722893,\n",
              " 'thank ceain awesom': 656435,\n",
              " 'ceain awesom inspir': 107182,\n",
              " 'awesom inspir day': 39589,\n",
              " 'inspir day fridâ': 331234,\n",
              " 'user user thank ceain': 727413,\n",
              " 'user thank ceain awesom': 722894,\n",
              " 'thank ceain awesom inspir': 656436,\n",
              " 'ceain awesom inspir day': 107183,\n",
              " 'awesom inspir day fridâ': 39590,\n",
              " 'user user thank ceain awesom': 727414,\n",
              " 'user thank ceain awesom inspir': 722895,\n",
              " 'thank ceain awesom inspir day': 656437,\n",
              " 'ceain awesom inspir day fridâ': 107184,\n",
              " 'daili': 146840,\n",
              " 'dose': 178580,\n",
              " 'motiv': 438992,\n",
              " 'youplateit': 787151,\n",
              " 'staystrong': 628369,\n",
              " 'peh': 489303,\n",
              " 'pehlif': 489322,\n",
              " 'pehfood': 489319,\n",
              " 'hellopeh': 294046,\n",
              " 'sunday': 639473,\n",
              " 'daili dose': 146889,\n",
              " 'dose motiv': 178585,\n",
              " 'motiv youplateit': 439213,\n",
              " 'youplateit staystrong': 787152,\n",
              " 'staystrong peh': 628378,\n",
              " 'peh pehlif': 489311,\n",
              " 'pehlif pehfood': 489323,\n",
              " 'pehfood hellopeh': 489320,\n",
              " 'hellopeh sunday': 294047,\n",
              " 'daili dose motiv': 146892,\n",
              " 'dose motiv youplateit': 178586,\n",
              " 'motiv youplateit staystrong': 439214,\n",
              " 'youplateit staystrong peh': 787153,\n",
              " 'staystrong peh pehlif': 628379,\n",
              " 'peh pehlif pehfood': 489312,\n",
              " 'pehlif pehfood hellopeh': 489324,\n",
              " 'pehfood hellopeh sunday': 489321,\n",
              " 'daili dose motiv youplateit': 146893,\n",
              " 'dose motiv youplateit staystrong': 178587,\n",
              " 'motiv youplateit staystrong peh': 439215,\n",
              " 'youplateit staystrong peh pehlif': 787154,\n",
              " 'staystrong peh pehlif pehfood': 628380,\n",
              " 'peh pehlif pehfood hellopeh': 489313,\n",
              " 'pehlif pehfood hellopeh sunday': 489325,\n",
              " 'daili dose motiv youplateit staystrong': 146894,\n",
              " 'dose motiv youplateit staystrong peh': 178588,\n",
              " 'motiv youplateit staystrong peh pehlif': 439216,\n",
              " 'youplateit staystrong peh pehlif pehfood': 787155,\n",
              " 'staystrong peh pehlif pehfood hellopeh': 628381,\n",
              " 'peh pehlif pehfood hellopeh sunday': 489314,\n",
              " 'anthonycumia': 26639,\n",
              " 'cokelog': 122958,\n",
              " 'hey': 295945,\n",
              " 'antoni': 26990,\n",
              " 'speak': 620675,\n",
              " 'anthonycumia cokelog': 26640,\n",
              " 'cokelog hey': 122959,\n",
              " 'hey antoni': 295954,\n",
              " 'antoni speak': 26991,\n",
              " 'speak color': 620708,\n",
              " 'color good': 124173,\n",
              " 'anthonycumia cokelog hey': 26641,\n",
              " 'cokelog hey antoni': 122960,\n",
              " 'hey antoni speak': 295955,\n",
              " 'antoni speak color': 26992,\n",
              " 'speak color good': 620709,\n",
              " 'anthonycumia cokelog hey antoni': 26642,\n",
              " 'cokelog hey antoni speak': 122961,\n",
              " 'hey antoni speak color': 295956,\n",
              " 'antoni speak color good': 26993,\n",
              " 'anthonycumia cokelog hey antoni speak': 26643,\n",
              " 'cokelog hey antoni speak color': 122962,\n",
              " 'hey antoni speak color good': 295957,\n",
              " 'luck': 405121,\n",
              " 'cheryl': 112840,\n",
              " 'itwillbealrightonthenight': 337623,\n",
              " 'xx': 775974,\n",
              " 'good luck': 260566,\n",
              " 'luck cheryl': 405134,\n",
              " 'cheryl itwillbealrightonthenight': 112845,\n",
              " 'itwillbealrightonthenight xx': 337624,\n",
              " 'good luck cheryl': 260571,\n",
              " 'luck cheryl itwillbealrightonthenight': 405135,\n",
              " ...}"
            ]
          },
          "metadata": {},
          "execution_count": 43
        }
      ],
      "source": [
        "count.vocabulary_\n"
      ]
    },
    {
      "cell_type": "code",
      "execution_count": null,
      "metadata": {
        "id": "pt3GMg6eY32S"
      },
      "outputs": [],
      "source": [
        "from sklearn.feature_extraction.text import TfidfTransformer\n",
        "tfidf = TfidfTransformer()\n",
        "\n",
        "x_train_tfidf = tfidf.fit_transform(x_train_vectorizer)\n",
        "\n",
        "# x_train_tfidf.toarray()\n",
        "x_test_tfidf = tfidf.transform(x_test_vectorizer)\n"
      ]
    },
    {
      "cell_type": "code",
      "execution_count": null,
      "metadata": {
        "id": "pK1wvZc1Y32S"
      },
      "outputs": [],
      "source": [
        "from sklearn.naive_bayes import MultinomialNB\n",
        "from sklearn.metrics import classification_report\n",
        "from sklearn.metrics import confusion_matrix"
      ]
    },
    {
      "cell_type": "code",
      "execution_count": null,
      "metadata": {
        "colab": {
          "base_uri": "https://localhost:8080/"
        },
        "id": "zvVpm8RcY32S",
        "outputId": "5be5dac3-6fad-4b39-a774-10f1bee1e21f"
      },
      "outputs": [
        {
          "output_type": "stream",
          "name": "stdout",
          "text": [
            "[[7878  575]\n",
            " [ 458 5276]]\n",
            "              precision    recall  f1-score   support\n",
            "\n",
            "           0       0.95      0.93      0.94      8453\n",
            "           1       0.90      0.92      0.91      5734\n",
            "\n",
            "    accuracy                           0.93     14187\n",
            "   macro avg       0.92      0.93      0.92     14187\n",
            "weighted avg       0.93      0.93      0.93     14187\n",
            "\n"
          ]
        }
      ],
      "source": [
        "model_vectorizer= MultinomialNB().fit(x_train_vectorizer, y_train)\n",
        "prediction_vectorizer=model_vectorizer.predict(x_test_vectorizer)\n",
        "print(confusion_matrix(y_test,prediction_vectorizer))\n",
        "print (classification_report(y_test, prediction_vectorizer))"
      ]
    },
    {
      "cell_type": "code",
      "execution_count": null,
      "metadata": {
        "colab": {
          "base_uri": "https://localhost:8080/"
        },
        "id": "0mQszV7EY32S",
        "outputId": "5fe699c0-65d6-4d6d-e4ea-ae340a8a5057"
      },
      "outputs": [
        {
          "output_type": "stream",
          "name": "stdout",
          "text": [
            "              precision    recall  f1-score   support\n",
            "\n",
            "           0       0.91      0.97      0.94      8453\n",
            "           1       0.95      0.85      0.90      5734\n",
            "\n",
            "    accuracy                           0.92     14187\n",
            "   macro avg       0.93      0.91      0.92     14187\n",
            "weighted avg       0.92      0.92      0.92     14187\n",
            "\n",
            "[[8213  240]\n",
            " [ 860 4874]]\n"
          ]
        }
      ],
      "source": [
        "model_tfidf= MultinomialNB().fit(x_train_tfidf, y_train)\n",
        "prediction_tfidf=model_tfidf.predict(x_test_tfidf)\n",
        "print (classification_report(y_test, prediction_tfidf))\n",
        "print(confusion_matrix(y_test,prediction_tfidf))"
      ]
    },
    {
      "cell_type": "code",
      "execution_count": null,
      "metadata": {
        "colab": {
          "base_uri": "https://localhost:8080/"
        },
        "id": "cudFFaBUY32S",
        "outputId": "99717fe8-00f4-414f-aa03-ec186130692b"
      },
      "outputs": [
        {
          "output_type": "stream",
          "name": "stderr",
          "text": [
            "/usr/local/lib/python3.9/dist-packages/xgboost/sklearn.py:1395: UserWarning: `use_label_encoder` is deprecated in 1.7.0.\n",
            "  warnings.warn(\"`use_label_encoder` is deprecated in 1.7.0.\")\n"
          ]
        }
      ],
      "source": [
        "import xgboost as xgb\n",
        "xgb_model=xgb.XGBClassifier(\n",
        "        learning_rate=0.1,\n",
        "        max_depth=7,\n",
        "        n_estimators=80,\n",
        "        use_label_encoder=False,\n",
        "        eval_metric='auc' )"
      ]
    },
    {
      "cell_type": "code",
      "execution_count": null,
      "metadata": {
        "colab": {
          "base_uri": "https://localhost:8080/"
        },
        "id": "CHxv4FTkY32S",
        "outputId": "2d92e73e-64e9-41b8-f9b9-020c8bce1b27"
      },
      "outputs": [
        {
          "output_type": "stream",
          "name": "stdout",
          "text": [
            "[[8367   86]\n",
            " [ 923 4811]]\n",
            "              precision    recall  f1-score   support\n",
            "\n",
            "           0       0.90      0.99      0.94      8453\n",
            "           1       0.98      0.84      0.91      5734\n",
            "\n",
            "    accuracy                           0.93     14187\n",
            "   macro avg       0.94      0.91      0.92     14187\n",
            "weighted avg       0.93      0.93      0.93     14187\n",
            "\n"
          ]
        }
      ],
      "source": [
        "xgb_model_vectorizer = xgb_model.fit(x_train_vectorizer, y_train)\n",
        "xgb_predictions_vectorizer=xgb_model_vectorizer.predict(x_test_vectorizer)\n",
        "print(confusion_matrix(y_test,xgb_predictions_vectorizer))\n",
        "print (classification_report(y_test, xgb_predictions_vectorizer))"
      ]
    },
    {
      "cell_type": "code",
      "execution_count": null,
      "metadata": {
        "colab": {
          "base_uri": "https://localhost:8080/"
        },
        "id": "mb1iC1lHY32S",
        "outputId": "240fb8e6-b3e9-40f6-80c7-366168f1eaf0"
      },
      "outputs": [
        {
          "output_type": "stream",
          "name": "stdout",
          "text": [
            "[[8358   95]\n",
            " [ 939 4795]]\n",
            "              precision    recall  f1-score   support\n",
            "\n",
            "           0       0.90      0.99      0.94      8453\n",
            "           1       0.98      0.84      0.90      5734\n",
            "\n",
            "    accuracy                           0.93     14187\n",
            "   macro avg       0.94      0.91      0.92     14187\n",
            "weighted avg       0.93      0.93      0.93     14187\n",
            "\n"
          ]
        }
      ],
      "source": [
        "xgb_model = xgb_model.fit(x_train_tfidf, y_train)\n",
        "xgb_predictions=xgb_model.predict(x_test_tfidf)\n",
        "print(confusion_matrix(y_test,xgb_predictions))\n",
        "print (classification_report(y_test, xgb_predictions))"
      ]
    },
    {
      "cell_type": "code",
      "execution_count": null,
      "metadata": {
        "id": "XVsTzgZNY32T"
      },
      "outputs": [],
      "source": [
        "from keras.models import Model\n",
        "from keras.layers import LSTM, Activation, Dense, Dropout, Input, Embedding,SpatialDropout1D\n",
        "from keras.optimizers import RMSprop\n",
        "from keras.preprocessing.text import Tokenizer\n",
        "from keras.preprocessing import sequence\n",
        "from keras.utils import to_categorical\n",
        "from keras.callbacks import EarlyStopping\n",
        "from keras.models import Sequential\n",
        "from keras.utils import pad_sequences\n",
        "\n"
      ]
    },
    {
      "cell_type": "code",
      "execution_count": null,
      "metadata": {
        "id": "fSWXMTIbY32T"
      },
      "outputs": [],
      "source": [
        "max_words = 50000\n",
        "max_len = 300\n",
        "tokenizer = Tokenizer(num_words=max_words)\n",
        "tokenizer.fit_on_texts(x_train)\n",
        "sequences = tokenizer.texts_to_sequences(x_train)\n",
        "sequences_matrix = pad_sequences(sequences,maxlen=max_len)"
      ]
    },
    {
      "cell_type": "code",
      "execution_count": null,
      "metadata": {
        "colab": {
          "base_uri": "https://localhost:8080/"
        },
        "id": "7Q-kSMNPY32T",
        "outputId": "ec2405ce-deb6-4af1-8c18-c17f91b34da1"
      },
      "outputs": [
        {
          "output_type": "stream",
          "name": "stderr",
          "text": [
            "WARNING:tensorflow:Layer lstm will not use cuDNN kernels since it doesn't meet the criteria. It will use a generic GPU kernel as fallback when running on GPU.\n"
          ]
        },
        {
          "output_type": "stream",
          "name": "stdout",
          "text": [
            "Model: \"sequential\"\n",
            "_________________________________________________________________\n",
            " Layer (type)                Output Shape              Param #   \n",
            "=================================================================\n",
            " embedding (Embedding)       (None, 300, 100)          5000000   \n",
            "                                                                 \n",
            " spatial_dropout1d (SpatialD  (None, 300, 100)         0         \n",
            " ropout1D)                                                       \n",
            "                                                                 \n",
            " lstm (LSTM)                 (None, 100)               80400     \n",
            "                                                                 \n",
            " dense (Dense)               (None, 1)                 101       \n",
            "                                                                 \n",
            "=================================================================\n",
            "Total params: 5,080,501\n",
            "Trainable params: 5,080,501\n",
            "Non-trainable params: 0\n",
            "_________________________________________________________________\n"
          ]
        }
      ],
      "source": [
        "model = Sequential()\n",
        "model.add(Embedding(max_words, 100, input_length=max_len))\n",
        "model.add(SpatialDropout1D(0.2))\n",
        "model.add(LSTM(100, dropout=0.2, recurrent_dropout=0.2))\n",
        "model.add(Dense(1, activation='sigmoid'))\n",
        "model.summary()\n",
        "model.compile(loss='binary_crossentropy',optimizer=RMSprop(),metrics=['accuracy'])"
      ]
    },
    {
      "cell_type": "code",
      "execution_count": null,
      "metadata": {
        "id": "5T3Ox_VCY32T"
      },
      "outputs": [],
      "source": [
        "from keras.callbacks import EarlyStopping,ModelCheckpoint\n",
        "\n",
        "stop = EarlyStopping(\n",
        "    monitor='val_accuracy', \n",
        "    mode='max',\n",
        "    patience=5\n",
        ")\n",
        "\n",
        "checkpoint= ModelCheckpoint(\n",
        "    filepath='./',\n",
        "    save_weights_only=True,\n",
        "    monitor='val_accuracy',\n",
        "    mode='max',\n",
        "    save_best_only=True)"
      ]
    },
    {
      "cell_type": "code",
      "execution_count": null,
      "metadata": {
        "colab": {
          "base_uri": "https://localhost:8080/"
        },
        "id": "wHv2h7ChY32T",
        "outputId": "0c6cfae6-f7c7-48c8-bdf1-5362e0cf57b8"
      },
      "outputs": [
        {
          "output_type": "stream",
          "name": "stdout",
          "text": [
            "Epoch 1/10\n",
            "34/34 [==============================] - 59s 2s/step - loss: 0.5438 - accuracy: 0.7611 - val_loss: 0.3540 - val_accuracy: 0.9043\n",
            "Epoch 2/10\n",
            "34/34 [==============================] - 44s 1s/step - loss: 0.2614 - accuracy: 0.9188 - val_loss: 0.2107 - val_accuracy: 0.9286\n",
            "Epoch 3/10\n",
            "34/34 [==============================] - 45s 1s/step - loss: 0.1586 - accuracy: 0.9449 - val_loss: 0.1675 - val_accuracy: 0.9397\n",
            "Epoch 4/10\n",
            "34/34 [==============================] - 45s 1s/step - loss: 0.1173 - accuracy: 0.9595 - val_loss: 0.1598 - val_accuracy: 0.9433\n",
            "Epoch 5/10\n",
            "34/34 [==============================] - 46s 1s/step - loss: 0.0957 - accuracy: 0.9679 - val_loss: 0.1548 - val_accuracy: 0.9438\n",
            "Epoch 6/10\n",
            "34/34 [==============================] - 45s 1s/step - loss: 0.0815 - accuracy: 0.9724 - val_loss: 0.1613 - val_accuracy: 0.9444\n",
            "Epoch 7/10\n",
            "34/34 [==============================] - 45s 1s/step - loss: 0.0708 - accuracy: 0.9761 - val_loss: 0.1905 - val_accuracy: 0.9436\n",
            "Epoch 8/10\n",
            "34/34 [==============================] - 47s 1s/step - loss: 0.0621 - accuracy: 0.9799 - val_loss: 0.1921 - val_accuracy: 0.9422\n",
            "Epoch 9/10\n",
            "34/34 [==============================] - 44s 1s/step - loss: 0.0541 - accuracy: 0.9833 - val_loss: 0.1823 - val_accuracy: 0.9387\n",
            "Epoch 10/10\n",
            "34/34 [==============================] - 45s 1s/step - loss: 0.0477 - accuracy: 0.9848 - val_loss: 0.2051 - val_accuracy: 0.9375\n"
          ]
        }
      ],
      "source": [
        "history=model.fit(sequences_matrix,y_train,batch_size=1024,epochs=10,\n",
        "          validation_split=0.2,callbacks=[stop,checkpoint])"
      ]
    },
    {
      "cell_type": "code",
      "execution_count": null,
      "metadata": {
        "id": "zavMGTRfY32T"
      },
      "outputs": [],
      "source": [
        "test_sequences = tokenizer.texts_to_sequences(x_test)\n",
        "test_sequences_matrix = pad_sequences(test_sequences,maxlen=max_len)"
      ]
    },
    {
      "cell_type": "code",
      "execution_count": null,
      "metadata": {
        "colab": {
          "base_uri": "https://localhost:8080/"
        },
        "id": "BL6N4JdDY32U",
        "outputId": "42af0ddb-4ffa-467a-dfa4-18054b980a21"
      },
      "outputs": [
        {
          "name": "stdout",
          "output_type": "stream",
          "text": [
            "444/444 [==============================] - 40s 91ms/step - loss: 0.2339 - accuracy: 0.9311\n"
          ]
        }
      ],
      "source": [
        "accr = model.evaluate(test_sequences_matrix,y_test)\n"
      ]
    },
    {
      "cell_type": "code",
      "execution_count": null,
      "metadata": {
        "colab": {
          "base_uri": "https://localhost:8080/"
        },
        "id": "2ad_67gBY32U",
        "outputId": "9d8dde3f-eff2-484e-e373-8510788096b4"
      },
      "outputs": [
        {
          "name": "stdout",
          "output_type": "stream",
          "text": [
            "444/444 [==============================] - 41s 91ms/step\n"
          ]
        }
      ],
      "source": [
        "lstm_prediction=model.predict(test_sequences_matrix)\n"
      ]
    },
    {
      "cell_type": "code",
      "execution_count": null,
      "metadata": {
        "id": "WF87OJo8Y32U"
      },
      "outputs": [],
      "source": [
        "res=[]\n",
        "for prediction in lstm_prediction:\n",
        "    if prediction[0]<0.5:\n",
        "        res.append(0)\n",
        "    else:\n",
        "        res.append(1)"
      ]
    },
    {
      "cell_type": "code",
      "execution_count": null,
      "metadata": {
        "colab": {
          "base_uri": "https://localhost:8080/"
        },
        "id": "aVfzBcqOY32U",
        "outputId": "c375fd77-07ff-4604-b2cf-f5dbe07cf497"
      },
      "outputs": [
        {
          "name": "stdout",
          "output_type": "stream",
          "text": [
            "[[8000  453]\n",
            " [ 524 5210]]\n"
          ]
        }
      ],
      "source": [
        "print(confusion_matrix(y_test,res))\n"
      ]
    },
    {
      "cell_type": "code",
      "execution_count": null,
      "metadata": {
        "id": "Gof12cUoY32U"
      },
      "outputs": [],
      "source": [
        "import pickle\n",
        "with open('tokenizer.pickle', 'wb') as handle:\n",
        "    pickle.dump(tokenizer, handle, protocol=pickle.HIGHEST_PROTOCOL)"
      ]
    },
    {
      "cell_type": "code",
      "execution_count": null,
      "metadata": {
        "id": "NDqqL_XMY32U"
      },
      "outputs": [],
      "source": [
        "model.save(\"hate&abusive_model.h5\")"
      ]
    },
    {
      "cell_type": "code",
      "execution_count": null,
      "metadata": {
        "id": "z_6Nt5bHY32U"
      },
      "outputs": [],
      "source": [
        "import keras"
      ]
    },
    {
      "cell_type": "code",
      "execution_count": null,
      "metadata": {
        "colab": {
          "base_uri": "https://localhost:8080/"
        },
        "id": "YE-DqDh5Y32V",
        "outputId": "e7870f49-5348-489f-944e-036b14d7fa40"
      },
      "outputs": [
        {
          "name": "stderr",
          "output_type": "stream",
          "text": [
            "WARNING:tensorflow:Layer lstm will not use cuDNN kernels since it doesn't meet the criteria. It will use a generic GPU kernel as fallback when running on GPU.\n"
          ]
        }
      ],
      "source": [
        "load_model=keras.models.load_model(\"/content/hate&abusive_model.h5\")\n",
        "with open('tokenizer.pickle', 'rb') as handle:\n",
        "    load_tokenizer = pickle.load(handle)"
      ]
    },
    {
      "cell_type": "code",
      "execution_count": null,
      "metadata": {
        "colab": {
          "base_uri": "https://localhost:8080/"
        },
        "id": "7ZqvLYZ5Y32V",
        "outputId": "23f6a731-356f-4356-96e0-6daeed22d47c"
      },
      "outputs": [
        {
          "name": "stdout",
          "output_type": "stream",
          "text": [
            "i love my country\n",
            "i love my country\n",
            "['love countri']\n",
            "[[6, 408]]\n",
            "1/1 [==============================] - 0s 304ms/step\n",
            "pred [[0.08335996]]\n",
            "non toxic\n"
          ]
        }
      ],
      "source": [
        "test = 'i love my country'\n",
        "def clean_text(text):\n",
        "    print(text)\n",
        "    text = str(text).lower()\n",
        "    text = re.sub('\\[.*?\\]', '', text)\n",
        "    text = re.sub('https?://\\S+|www\\.\\S+', '', text)\n",
        "    text = re.sub('<.*?>+', '', text)\n",
        "    text = re.sub('[%s]' % re.escape(string.punctuation), '', text)\n",
        "    text = re.sub('\\n', '', text)\n",
        "    text = re.sub('\\w*\\d\\w*', '', text)\n",
        "    print(text)\n",
        "    text = [word for word in text.split(' ') if word not in stopword]\n",
        "    text=\" \".join(text)\n",
        "    text = [stemmer.stem(word) for word in text.split(' ')]\n",
        "    text=\" \".join(text)\n",
        "    return text\n",
        "test=[clean_text(test)]\n",
        "print(test)\n",
        "seq = load_tokenizer.texts_to_sequences(test)\n",
        "padded = pad_sequences(seq, maxlen=300)\n",
        "print(seq)\n",
        "pred = load_model.predict(padded)\n",
        "print(\"pred\", pred)\n",
        "if pred<0.5:\n",
        "    print(\"non toxic\")\n",
        "else:\n",
        "    print(\"toxic\")"
      ]
    },
    {
      "cell_type": "code",
      "execution_count": null,
      "metadata": {
        "id": "8fwMfRG_Y32V"
      },
      "outputs": [],
      "source": [
        "frame=[df_twitter,df_offensive]\n",
        "df2 = pd.concat(frame)\n"
      ]
    },
    {
      "cell_type": "code",
      "execution_count": null,
      "metadata": {
        "colab": {
          "base_uri": "https://localhost:8080/",
          "height": 206
        },
        "id": "OFx8J5tFY32V",
        "outputId": "7dbe9d34-8099-4484-ef37-7b416704862b"
      },
      "outputs": [
        {
          "data": {
            "text/html": [
              "\n",
              "  <div id=\"df-a52fdfc1-f28d-4ce2-8860-47beab72b1f7\">\n",
              "    <div class=\"colab-df-container\">\n",
              "      <div>\n",
              "<style scoped>\n",
              "    .dataframe tbody tr th:only-of-type {\n",
              "        vertical-align: middle;\n",
              "    }\n",
              "\n",
              "    .dataframe tbody tr th {\n",
              "        vertical-align: top;\n",
              "    }\n",
              "\n",
              "    .dataframe thead th {\n",
              "        text-align: right;\n",
              "    }\n",
              "</style>\n",
              "<table border=\"1\" class=\"dataframe\">\n",
              "  <thead>\n",
              "    <tr style=\"text-align: right;\">\n",
              "      <th></th>\n",
              "      <th>label</th>\n",
              "      <th>tweet</th>\n",
              "    </tr>\n",
              "  </thead>\n",
              "  <tbody>\n",
              "    <tr>\n",
              "      <th>0</th>\n",
              "      <td>0</td>\n",
              "      <td>@user when a father is dysfunctional and is s...</td>\n",
              "    </tr>\n",
              "    <tr>\n",
              "      <th>1</th>\n",
              "      <td>0</td>\n",
              "      <td>@user @user thanks for #lyft credit i can't us...</td>\n",
              "    </tr>\n",
              "    <tr>\n",
              "      <th>2</th>\n",
              "      <td>0</td>\n",
              "      <td>bihday your majesty</td>\n",
              "    </tr>\n",
              "    <tr>\n",
              "      <th>3</th>\n",
              "      <td>0</td>\n",
              "      <td>#model   i love u take with u all the time in ...</td>\n",
              "    </tr>\n",
              "    <tr>\n",
              "      <th>4</th>\n",
              "      <td>0</td>\n",
              "      <td>factsguide: society now    #motivation</td>\n",
              "    </tr>\n",
              "  </tbody>\n",
              "</table>\n",
              "</div>\n",
              "      <button class=\"colab-df-convert\" onclick=\"convertToInteractive('df-a52fdfc1-f28d-4ce2-8860-47beab72b1f7')\"\n",
              "              title=\"Convert this dataframe to an interactive table.\"\n",
              "              style=\"display:none;\">\n",
              "        \n",
              "  <svg xmlns=\"http://www.w3.org/2000/svg\" height=\"24px\"viewBox=\"0 0 24 24\"\n",
              "       width=\"24px\">\n",
              "    <path d=\"M0 0h24v24H0V0z\" fill=\"none\"/>\n",
              "    <path d=\"M18.56 5.44l.94 2.06.94-2.06 2.06-.94-2.06-.94-.94-2.06-.94 2.06-2.06.94zm-11 1L8.5 8.5l.94-2.06 2.06-.94-2.06-.94L8.5 2.5l-.94 2.06-2.06.94zm10 10l.94 2.06.94-2.06 2.06-.94-2.06-.94-.94-2.06-.94 2.06-2.06.94z\"/><path d=\"M17.41 7.96l-1.37-1.37c-.4-.4-.92-.59-1.43-.59-.52 0-1.04.2-1.43.59L10.3 9.45l-7.72 7.72c-.78.78-.78 2.05 0 2.83L4 21.41c.39.39.9.59 1.41.59.51 0 1.02-.2 1.41-.59l7.78-7.78 2.81-2.81c.8-.78.8-2.07 0-2.86zM5.41 20L4 18.59l7.72-7.72 1.47 1.35L5.41 20z\"/>\n",
              "  </svg>\n",
              "      </button>\n",
              "      \n",
              "  <style>\n",
              "    .colab-df-container {\n",
              "      display:flex;\n",
              "      flex-wrap:wrap;\n",
              "      gap: 12px;\n",
              "    }\n",
              "\n",
              "    .colab-df-convert {\n",
              "      background-color: #E8F0FE;\n",
              "      border: none;\n",
              "      border-radius: 50%;\n",
              "      cursor: pointer;\n",
              "      display: none;\n",
              "      fill: #1967D2;\n",
              "      height: 32px;\n",
              "      padding: 0 0 0 0;\n",
              "      width: 32px;\n",
              "    }\n",
              "\n",
              "    .colab-df-convert:hover {\n",
              "      background-color: #E2EBFA;\n",
              "      box-shadow: 0px 1px 2px rgba(60, 64, 67, 0.3), 0px 1px 3px 1px rgba(60, 64, 67, 0.15);\n",
              "      fill: #174EA6;\n",
              "    }\n",
              "\n",
              "    [theme=dark] .colab-df-convert {\n",
              "      background-color: #3B4455;\n",
              "      fill: #D2E3FC;\n",
              "    }\n",
              "\n",
              "    [theme=dark] .colab-df-convert:hover {\n",
              "      background-color: #434B5C;\n",
              "      box-shadow: 0px 1px 3px 1px rgba(0, 0, 0, 0.15);\n",
              "      filter: drop-shadow(0px 1px 2px rgba(0, 0, 0, 0.3));\n",
              "      fill: #FFFFFF;\n",
              "    }\n",
              "  </style>\n",
              "\n",
              "      <script>\n",
              "        const buttonEl =\n",
              "          document.querySelector('#df-a52fdfc1-f28d-4ce2-8860-47beab72b1f7 button.colab-df-convert');\n",
              "        buttonEl.style.display =\n",
              "          google.colab.kernel.accessAllowed ? 'block' : 'none';\n",
              "\n",
              "        async function convertToInteractive(key) {\n",
              "          const element = document.querySelector('#df-a52fdfc1-f28d-4ce2-8860-47beab72b1f7');\n",
              "          const dataTable =\n",
              "            await google.colab.kernel.invokeFunction('convertToInteractive',\n",
              "                                                     [key], {});\n",
              "          if (!dataTable) return;\n",
              "\n",
              "          const docLinkHtml = 'Like what you see? Visit the ' +\n",
              "            '<a target=\"_blank\" href=https://colab.research.google.com/notebooks/data_table.ipynb>data table notebook</a>'\n",
              "            + ' to learn more about interactive tables.';\n",
              "          element.innerHTML = '';\n",
              "          dataTable['output_type'] = 'display_data';\n",
              "          await google.colab.output.renderOutput(dataTable, element);\n",
              "          const docLink = document.createElement('div');\n",
              "          docLink.innerHTML = docLinkHtml;\n",
              "          element.appendChild(docLink);\n",
              "        }\n",
              "      </script>\n",
              "    </div>\n",
              "  </div>\n",
              "  "
            ],
            "text/plain": [
              "   label                                              tweet\n",
              "0      0   @user when a father is dysfunctional and is s...\n",
              "1      0  @user @user thanks for #lyft credit i can't us...\n",
              "2      0                                bihday your majesty\n",
              "3      0  #model   i love u take with u all the time in ...\n",
              "4      0             factsguide: society now    #motivation"
            ]
          },
          "execution_count": 76,
          "metadata": {},
          "output_type": "execute_result"
        }
      ],
      "source": [
        "df2.head()"
      ]
    },
    {
      "cell_type": "code",
      "execution_count": null,
      "metadata": {
        "id": "UXFIxa4NY32V"
      },
      "outputs": [],
      "source": [
        "REPLACE_BY_SPACE_RE = re.compile('[/(){}\\[\\]\\|@,;]')\n",
        "BAD_SYMBOLS_RE = re.compile('[^0-9a-z #+_]')\n",
        "STOPWORDS = set(stopwords.words('english'))\n",
        "\n",
        "def clean_text(text):\n",
        "\n",
        "    text = text.lower() \n",
        "    text = REPLACE_BY_SPACE_RE.sub(' ', text)\n",
        "    text = BAD_SYMBOLS_RE.sub('', text)  \n",
        "    text = text.replace('x', '')\n",
        "    text = ' '.join(word for word in text.split() if word not in STOPWORDS) \n",
        "    return text\n",
        "df2['tweet'] = df2['tweet'].apply(clean_text)\n"
      ]
    },
    {
      "cell_type": "code",
      "execution_count": null,
      "metadata": {
        "colab": {
          "base_uri": "https://localhost:8080/",
          "height": 206
        },
        "id": "SAPMjbN2Y32V",
        "outputId": "7def8f2e-cc1d-4d37-c830-f03692fa4c87"
      },
      "outputs": [
        {
          "data": {
            "text/html": [
              "\n",
              "  <div id=\"df-125a4620-c367-4dbb-b88c-12ebde5dd220\">\n",
              "    <div class=\"colab-df-container\">\n",
              "      <div>\n",
              "<style scoped>\n",
              "    .dataframe tbody tr th:only-of-type {\n",
              "        vertical-align: middle;\n",
              "    }\n",
              "\n",
              "    .dataframe tbody tr th {\n",
              "        vertical-align: top;\n",
              "    }\n",
              "\n",
              "    .dataframe thead th {\n",
              "        text-align: right;\n",
              "    }\n",
              "</style>\n",
              "<table border=\"1\" class=\"dataframe\">\n",
              "  <thead>\n",
              "    <tr style=\"text-align: right;\">\n",
              "      <th></th>\n",
              "      <th>label</th>\n",
              "      <th>tweet</th>\n",
              "    </tr>\n",
              "  </thead>\n",
              "  <tbody>\n",
              "    <tr>\n",
              "      <th>0</th>\n",
              "      <td>0</td>\n",
              "      <td>user father dysfunctional selfish drags kids d...</td>\n",
              "    </tr>\n",
              "    <tr>\n",
              "      <th>1</th>\n",
              "      <td>0</td>\n",
              "      <td>user user thanks #lyft credit cant use cause d...</td>\n",
              "    </tr>\n",
              "    <tr>\n",
              "      <th>2</th>\n",
              "      <td>0</td>\n",
              "      <td>bihday majesty</td>\n",
              "    </tr>\n",
              "    <tr>\n",
              "      <th>3</th>\n",
              "      <td>0</td>\n",
              "      <td>#model love u take u time ur</td>\n",
              "    </tr>\n",
              "    <tr>\n",
              "      <th>4</th>\n",
              "      <td>0</td>\n",
              "      <td>factsguide society #motivation</td>\n",
              "    </tr>\n",
              "  </tbody>\n",
              "</table>\n",
              "</div>\n",
              "      <button class=\"colab-df-convert\" onclick=\"convertToInteractive('df-125a4620-c367-4dbb-b88c-12ebde5dd220')\"\n",
              "              title=\"Convert this dataframe to an interactive table.\"\n",
              "              style=\"display:none;\">\n",
              "        \n",
              "  <svg xmlns=\"http://www.w3.org/2000/svg\" height=\"24px\"viewBox=\"0 0 24 24\"\n",
              "       width=\"24px\">\n",
              "    <path d=\"M0 0h24v24H0V0z\" fill=\"none\"/>\n",
              "    <path d=\"M18.56 5.44l.94 2.06.94-2.06 2.06-.94-2.06-.94-.94-2.06-.94 2.06-2.06.94zm-11 1L8.5 8.5l.94-2.06 2.06-.94-2.06-.94L8.5 2.5l-.94 2.06-2.06.94zm10 10l.94 2.06.94-2.06 2.06-.94-2.06-.94-.94-2.06-.94 2.06-2.06.94z\"/><path d=\"M17.41 7.96l-1.37-1.37c-.4-.4-.92-.59-1.43-.59-.52 0-1.04.2-1.43.59L10.3 9.45l-7.72 7.72c-.78.78-.78 2.05 0 2.83L4 21.41c.39.39.9.59 1.41.59.51 0 1.02-.2 1.41-.59l7.78-7.78 2.81-2.81c.8-.78.8-2.07 0-2.86zM5.41 20L4 18.59l7.72-7.72 1.47 1.35L5.41 20z\"/>\n",
              "  </svg>\n",
              "      </button>\n",
              "      \n",
              "  <style>\n",
              "    .colab-df-container {\n",
              "      display:flex;\n",
              "      flex-wrap:wrap;\n",
              "      gap: 12px;\n",
              "    }\n",
              "\n",
              "    .colab-df-convert {\n",
              "      background-color: #E8F0FE;\n",
              "      border: none;\n",
              "      border-radius: 50%;\n",
              "      cursor: pointer;\n",
              "      display: none;\n",
              "      fill: #1967D2;\n",
              "      height: 32px;\n",
              "      padding: 0 0 0 0;\n",
              "      width: 32px;\n",
              "    }\n",
              "\n",
              "    .colab-df-convert:hover {\n",
              "      background-color: #E2EBFA;\n",
              "      box-shadow: 0px 1px 2px rgba(60, 64, 67, 0.3), 0px 1px 3px 1px rgba(60, 64, 67, 0.15);\n",
              "      fill: #174EA6;\n",
              "    }\n",
              "\n",
              "    [theme=dark] .colab-df-convert {\n",
              "      background-color: #3B4455;\n",
              "      fill: #D2E3FC;\n",
              "    }\n",
              "\n",
              "    [theme=dark] .colab-df-convert:hover {\n",
              "      background-color: #434B5C;\n",
              "      box-shadow: 0px 1px 3px 1px rgba(0, 0, 0, 0.15);\n",
              "      filter: drop-shadow(0px 1px 2px rgba(0, 0, 0, 0.3));\n",
              "      fill: #FFFFFF;\n",
              "    }\n",
              "  </style>\n",
              "\n",
              "      <script>\n",
              "        const buttonEl =\n",
              "          document.querySelector('#df-125a4620-c367-4dbb-b88c-12ebde5dd220 button.colab-df-convert');\n",
              "        buttonEl.style.display =\n",
              "          google.colab.kernel.accessAllowed ? 'block' : 'none';\n",
              "\n",
              "        async function convertToInteractive(key) {\n",
              "          const element = document.querySelector('#df-125a4620-c367-4dbb-b88c-12ebde5dd220');\n",
              "          const dataTable =\n",
              "            await google.colab.kernel.invokeFunction('convertToInteractive',\n",
              "                                                     [key], {});\n",
              "          if (!dataTable) return;\n",
              "\n",
              "          const docLinkHtml = 'Like what you see? Visit the ' +\n",
              "            '<a target=\"_blank\" href=https://colab.research.google.com/notebooks/data_table.ipynb>data table notebook</a>'\n",
              "            + ' to learn more about interactive tables.';\n",
              "          element.innerHTML = '';\n",
              "          dataTable['output_type'] = 'display_data';\n",
              "          await google.colab.output.renderOutput(dataTable, element);\n",
              "          const docLink = document.createElement('div');\n",
              "          docLink.innerHTML = docLinkHtml;\n",
              "          element.appendChild(docLink);\n",
              "        }\n",
              "      </script>\n",
              "    </div>\n",
              "  </div>\n",
              "  "
            ],
            "text/plain": [
              "   label                                              tweet\n",
              "0      0  user father dysfunctional selfish drags kids d...\n",
              "1      0  user user thanks #lyft credit cant use cause d...\n",
              "2      0                                     bihday majesty\n",
              "3      0                       #model love u take u time ur\n",
              "4      0                     factsguide society #motivation"
            ]
          },
          "execution_count": 78,
          "metadata": {},
          "output_type": "execute_result"
        }
      ],
      "source": [
        "df2.head(5)"
      ]
    },
    {
      "cell_type": "code",
      "execution_count": null,
      "metadata": {
        "colab": {
          "base_uri": "https://localhost:8080/"
        },
        "id": "jkyYJNUhY32W",
        "outputId": "6705a487-e578-47a1-b1c8-cc48982f4a93"
      },
      "outputs": [
        {
          "name": "stdout",
          "output_type": "stream",
          "text": [
            "Found 67728 unique tokens.\n"
          ]
        }
      ],
      "source": [
        "MAX_NB_WORDS = 50000\n",
        "MAX_SEQUENCE_LENGTH = 250\n",
        "EMBEDDING_DIM = 100\n",
        "tokenizer2 = Tokenizer(num_words=MAX_NB_WORDS, filters='!\"#$%&()*+,-./:;<=>?@[\\]^_`{|}~', lower=True)\n",
        "tokenizer2.fit_on_texts(df2['tweet'].values)\n",
        "word_index = tokenizer2.word_index\n",
        "print('Found %s unique tokens.' % len(word_index))"
      ]
    },
    {
      "cell_type": "code",
      "execution_count": null,
      "metadata": {
        "colab": {
          "base_uri": "https://localhost:8080/"
        },
        "id": "UoHbSS55Y32W",
        "outputId": "bda2fbd3-dc4f-4fa7-9d67-63505d67cda0"
      },
      "outputs": [
        {
          "name": "stdout",
          "output_type": "stream",
          "text": [
            "Shape of data tensor: (56745, 250)\n"
          ]
        }
      ],
      "source": [
        "X = tokenizer2.texts_to_sequences(df2['tweet'].values)\n",
        "X = pad_sequences(X, maxlen=MAX_SEQUENCE_LENGTH)\n",
        "print('Shape of data tensor:', X.shape)"
      ]
    },
    {
      "cell_type": "code",
      "execution_count": null,
      "metadata": {
        "id": "ykmXtZ95Y32W"
      },
      "outputs": [],
      "source": [
        "Y=df['label']"
      ]
    },
    {
      "cell_type": "code",
      "execution_count": null,
      "metadata": {
        "colab": {
          "base_uri": "https://localhost:8080/"
        },
        "id": "IMRoCikrY32W",
        "outputId": "f4399b21-71b0-4e75-8ebe-3b12e4864a16"
      },
      "outputs": [
        {
          "name": "stdout",
          "output_type": "stream",
          "text": [
            "(45396, 250) (45396,)\n",
            "(11349, 250) (11349,)\n"
          ]
        }
      ],
      "source": [
        "X_train, X_test, Y_train, Y_test = train_test_split(X,Y, test_size = 0.20, random_state = 42)\n",
        "print(X_train.shape,Y_train.shape)\n",
        "print(X_test.shape,Y_test.shape)"
      ]
    },
    {
      "cell_type": "code",
      "execution_count": null,
      "metadata": {
        "colab": {
          "base_uri": "https://localhost:8080/"
        },
        "id": "6NHPqIW3Y32W",
        "outputId": "020e4076-31f3-41b7-c9ca-fb3975ed92bd"
      },
      "outputs": [
        {
          "name": "stderr",
          "output_type": "stream",
          "text": [
            "WARNING:tensorflow:Layer lstm_1 will not use cuDNN kernels since it doesn't meet the criteria. It will use a generic GPU kernel as fallback when running on GPU.\n"
          ]
        },
        {
          "name": "stdout",
          "output_type": "stream",
          "text": [
            "Epoch 1/10\n",
            "36/36 [==============================] - 48s 1s/step - loss: 0.4929 - accuracy: 0.7699 - val_loss: 0.3069 - val_accuracy: 0.9051\n",
            "Epoch 2/10\n",
            "36/36 [==============================] - 42s 1s/step - loss: 0.2157 - accuracy: 0.9293 - val_loss: 0.1915 - val_accuracy: 0.9343\n",
            "Epoch 3/10\n",
            "36/36 [==============================] - 42s 1s/step - loss: 0.1331 - accuracy: 0.9542 - val_loss: 0.1769 - val_accuracy: 0.9341\n",
            "Epoch 4/10\n",
            "36/36 [==============================] - 42s 1s/step - loss: 0.0992 - accuracy: 0.9656 - val_loss: 0.1560 - val_accuracy: 0.9453\n",
            "Epoch 5/10\n",
            "36/36 [==============================] - 42s 1s/step - loss: 0.0813 - accuracy: 0.9720 - val_loss: 0.1638 - val_accuracy: 0.9403\n",
            "Epoch 6/10\n",
            "36/36 [==============================] - 44s 1s/step - loss: 0.0678 - accuracy: 0.9771 - val_loss: 0.1706 - val_accuracy: 0.9409\n",
            "Epoch 7/10\n",
            "36/36 [==============================] - 43s 1s/step - loss: 0.0581 - accuracy: 0.9801 - val_loss: 0.1807 - val_accuracy: 0.9448\n",
            "Epoch 8/10\n",
            "36/36 [==============================] - 42s 1s/step - loss: 0.0501 - accuracy: 0.9841 - val_loss: 0.1928 - val_accuracy: 0.9433\n",
            "Epoch 9/10\n",
            "36/36 [==============================] - 42s 1s/step - loss: 0.0443 - accuracy: 0.9858 - val_loss: 0.2033 - val_accuracy: 0.9302\n"
          ]
        }
      ],
      "source": [
        "model2 = Sequential()\n",
        "model2.add(Embedding(MAX_NB_WORDS, EMBEDDING_DIM, input_length=X.shape[1]))\n",
        "model2.add(SpatialDropout1D(0.2))\n",
        "model2.add(LSTM(100, dropout=0.2, recurrent_dropout=0.2))\n",
        "model2.add(Dense(1, activation='sigmoid'))\n",
        "model2.compile(loss='binary_crossentropy',optimizer=RMSprop(),metrics=['accuracy'])\n",
        "\n",
        "epochs = 10\n",
        "batch_size = 1024\n",
        "\n",
        "history2 = model2.fit(X_train, Y_train, epochs=epochs,batch_size=batch_size,validation_split=0.2,callbacks=[stop,checkpoint])"
      ]
    },
    {
      "cell_type": "code",
      "execution_count": null,
      "metadata": {
        "colab": {
          "base_uri": "https://localhost:8080/"
        },
        "id": "GYBbDtL0Y32W",
        "outputId": "a48515f0-65b2-4aeb-d9d7-9c2a460455fe"
      },
      "outputs": [
        {
          "name": "stdout",
          "output_type": "stream",
          "text": [
            "355/355 [==============================] - 28s 80ms/step - loss: 0.2196 - accuracy: 0.9252\n"
          ]
        }
      ],
      "source": [
        "# test_sequences2 = tokenizer2.texts_to_sequences(X_test)\n",
        "# test_sequences_matrix2 = sequence.pad_sequences(test_sequences2,maxlen=MAX_SEQUENCE_LENGTH)\n",
        "accr = model2.evaluate(X_test,Y_test)\n"
      ]
    },
    {
      "cell_type": "code",
      "execution_count": null,
      "metadata": {
        "colab": {
          "base_uri": "https://localhost:8080/"
        },
        "id": "D4ar-sUvY32X",
        "outputId": "34c6d65b-0820-47c1-db30-087f5289afdc"
      },
      "outputs": [
        {
          "name": "stdout",
          "output_type": "stream",
          "text": [
            "355/355 [==============================] - 28s 78ms/step\n",
            "[[0.9965677 ]\n",
            " [0.45987785]\n",
            " [0.99687994]\n",
            " [0.9972556 ]\n",
            " [0.02820303]]\n"
          ]
        }
      ],
      "source": [
        "lstm_prediction2=model2.predict(X_test)\n",
        "print(lstm_prediction2[0:5])\n",
        "res2=[]\n",
        "for prediction in lstm_prediction2:\n",
        "    if prediction[0]<0.45:\n",
        "        res2.append(0)\n",
        "    else:\n",
        "        res2.append(1)"
      ]
    },
    {
      "cell_type": "code",
      "execution_count": null,
      "metadata": {
        "colab": {
          "base_uri": "https://localhost:8080/"
        },
        "id": "jEh2vSoAY32X",
        "outputId": "64080d36-c9ae-4bc7-96c4-2942b3896a8d"
      },
      "outputs": [
        {
          "data": {
            "text/plain": [
              "12238    1\n",
              "14377    0\n",
              "17207    1\n",
              "22168    1\n",
              "18801    0\n",
              "Name: label, dtype: int64"
            ]
          },
          "execution_count": 79,
          "metadata": {},
          "output_type": "execute_result"
        }
      ],
      "source": [
        "Y_test[0:5]"
      ]
    },
    {
      "cell_type": "code",
      "execution_count": null,
      "metadata": {
        "colab": {
          "base_uri": "https://localhost:8080/"
        },
        "id": "P__KOFodY32X",
        "outputId": "0d2991ea-439a-4e2a-97b5-fec5abb30d15"
      },
      "outputs": [
        {
          "name": "stdout",
          "output_type": "stream",
          "text": [
            "[[6056  680]\n",
            " [ 264 4349]]\n"
          ]
        }
      ],
      "source": [
        "print(confusion_matrix(Y_test,res2))\n"
      ]
    },
    {
      "cell_type": "code",
      "execution_count": null,
      "metadata": {
        "colab": {
          "base_uri": "https://localhost:8080/"
        },
        "id": "ENgYM7RCY32X",
        "outputId": "04a03b2f-ed9b-4391-b5e6-72ab1d5b9b7e"
      },
      "outputs": [
        {
          "name": "stdout",
          "output_type": "stream",
          "text": [
            "['kill coward loser']\n",
            "[[385, 3326, 1737]]\n",
            "1/1 [==============================] - 0s 78ms/step\n",
            "pred [[0.9755622]]\n",
            "Toxic\n"
          ]
        }
      ],
      "source": [
        "test = 'I will kill you coward loser'\n",
        "def clean_text(text):\n",
        "\n",
        "    text = text.lower() \n",
        "    text = REPLACE_BY_SPACE_RE.sub(' ', text)\n",
        "    text = BAD_SYMBOLS_RE.sub('', text)  \n",
        "    text = text.replace('x', '')\n",
        "    text = ' '.join(word for word in text.split() if word not in STOPWORDS) \n",
        "    return text\n",
        "test=[clean_text(test)]\n",
        "print(test)\n",
        "seq = tokenizer2.texts_to_sequences(test)\n",
        "padded = pad_sequences(seq, maxlen=250)\n",
        "print(seq)\n",
        "pred = model2.predict(padded)\n",
        "print(\"pred\", pred)\n",
        "if pred<0.45:\n",
        "    print(\"non Toxic\")\n",
        "else:\n",
        "    print(\"Toxic\")"
      ]
    },
    {
      "cell_type": "code",
      "execution_count": null,
      "metadata": {
        "id": "97lkxX6Jxyo1"
      },
      "outputs": [],
      "source": [
        "%matplotlib inline\n",
        "import re\n",
        "import matplotlib\n",
        "import numpy as np\n",
        "import matplotlib.pyplot as plt\n",
        "import pandas as pd\n",
        "from sklearn.model_selection import train_test_split\n",
        "from sklearn.feature_extraction.text import TfidfVectorizer\n",
        "from sklearn.naive_bayes import MultinomialNB\n",
        "from sklearn.metrics import accuracy_score\n",
        "from sklearn.multiclass import OneVsRestClassifier\n",
        "from nltk.corpus import stopwords\n",
        "stop_words = set(stopwords.words('english'))\n",
        "from sklearn.svm import LinearSVC\n",
        "from sklearn.linear_model import LogisticRegression\n",
        "from sklearn.pipeline import Pipeline\n",
        "import seaborn as sns"
      ]
    },
    {
      "cell_type": "code",
      "execution_count": null,
      "metadata": {
        "id": "n8vf0kJQx3CT"
      },
      "outputs": [],
      "source": [
        "df = pd.read_csv(\"/content/drive/MyDrive/train 2.csv\", encoding = \"ISO-8859-1\")"
      ]
    },
    {
      "cell_type": "code",
      "execution_count": null,
      "metadata": {
        "colab": {
          "base_uri": "https://localhost:8080/",
          "height": 238
        },
        "id": "399oCM291mSU",
        "outputId": "f6ea45ea-e04a-45f6-8090-5e7e4f106b81"
      },
      "outputs": [
        {
          "data": {
            "text/html": [
              "\n",
              "  <div id=\"df-20d86a60-e2b7-4679-b56e-c1abac1e6c18\">\n",
              "    <div class=\"colab-df-container\">\n",
              "      <div>\n",
              "<style scoped>\n",
              "    .dataframe tbody tr th:only-of-type {\n",
              "        vertical-align: middle;\n",
              "    }\n",
              "\n",
              "    .dataframe tbody tr th {\n",
              "        vertical-align: top;\n",
              "    }\n",
              "\n",
              "    .dataframe thead th {\n",
              "        text-align: right;\n",
              "    }\n",
              "</style>\n",
              "<table border=\"1\" class=\"dataframe\">\n",
              "  <thead>\n",
              "    <tr style=\"text-align: right;\">\n",
              "      <th></th>\n",
              "      <th>category</th>\n",
              "      <th>number_of_comments</th>\n",
              "    </tr>\n",
              "  </thead>\n",
              "  <tbody>\n",
              "    <tr>\n",
              "      <th>0</th>\n",
              "      <td>toxic</td>\n",
              "      <td>15294</td>\n",
              "    </tr>\n",
              "    <tr>\n",
              "      <th>1</th>\n",
              "      <td>severe_toxic</td>\n",
              "      <td>1595</td>\n",
              "    </tr>\n",
              "    <tr>\n",
              "      <th>2</th>\n",
              "      <td>obscene</td>\n",
              "      <td>8449</td>\n",
              "    </tr>\n",
              "    <tr>\n",
              "      <th>3</th>\n",
              "      <td>threat</td>\n",
              "      <td>478</td>\n",
              "    </tr>\n",
              "    <tr>\n",
              "      <th>4</th>\n",
              "      <td>insult</td>\n",
              "      <td>7877</td>\n",
              "    </tr>\n",
              "    <tr>\n",
              "      <th>5</th>\n",
              "      <td>identity_hate</td>\n",
              "      <td>1405</td>\n",
              "    </tr>\n",
              "  </tbody>\n",
              "</table>\n",
              "</div>\n",
              "      <button class=\"colab-df-convert\" onclick=\"convertToInteractive('df-20d86a60-e2b7-4679-b56e-c1abac1e6c18')\"\n",
              "              title=\"Convert this dataframe to an interactive table.\"\n",
              "              style=\"display:none;\">\n",
              "        \n",
              "  <svg xmlns=\"http://www.w3.org/2000/svg\" height=\"24px\"viewBox=\"0 0 24 24\"\n",
              "       width=\"24px\">\n",
              "    <path d=\"M0 0h24v24H0V0z\" fill=\"none\"/>\n",
              "    <path d=\"M18.56 5.44l.94 2.06.94-2.06 2.06-.94-2.06-.94-.94-2.06-.94 2.06-2.06.94zm-11 1L8.5 8.5l.94-2.06 2.06-.94-2.06-.94L8.5 2.5l-.94 2.06-2.06.94zm10 10l.94 2.06.94-2.06 2.06-.94-2.06-.94-.94-2.06-.94 2.06-2.06.94z\"/><path d=\"M17.41 7.96l-1.37-1.37c-.4-.4-.92-.59-1.43-.59-.52 0-1.04.2-1.43.59L10.3 9.45l-7.72 7.72c-.78.78-.78 2.05 0 2.83L4 21.41c.39.39.9.59 1.41.59.51 0 1.02-.2 1.41-.59l7.78-7.78 2.81-2.81c.8-.78.8-2.07 0-2.86zM5.41 20L4 18.59l7.72-7.72 1.47 1.35L5.41 20z\"/>\n",
              "  </svg>\n",
              "      </button>\n",
              "      \n",
              "  <style>\n",
              "    .colab-df-container {\n",
              "      display:flex;\n",
              "      flex-wrap:wrap;\n",
              "      gap: 12px;\n",
              "    }\n",
              "\n",
              "    .colab-df-convert {\n",
              "      background-color: #E8F0FE;\n",
              "      border: none;\n",
              "      border-radius: 50%;\n",
              "      cursor: pointer;\n",
              "      display: none;\n",
              "      fill: #1967D2;\n",
              "      height: 32px;\n",
              "      padding: 0 0 0 0;\n",
              "      width: 32px;\n",
              "    }\n",
              "\n",
              "    .colab-df-convert:hover {\n",
              "      background-color: #E2EBFA;\n",
              "      box-shadow: 0px 1px 2px rgba(60, 64, 67, 0.3), 0px 1px 3px 1px rgba(60, 64, 67, 0.15);\n",
              "      fill: #174EA6;\n",
              "    }\n",
              "\n",
              "    [theme=dark] .colab-df-convert {\n",
              "      background-color: #3B4455;\n",
              "      fill: #D2E3FC;\n",
              "    }\n",
              "\n",
              "    [theme=dark] .colab-df-convert:hover {\n",
              "      background-color: #434B5C;\n",
              "      box-shadow: 0px 1px 3px 1px rgba(0, 0, 0, 0.15);\n",
              "      filter: drop-shadow(0px 1px 2px rgba(0, 0, 0, 0.3));\n",
              "      fill: #FFFFFF;\n",
              "    }\n",
              "  </style>\n",
              "\n",
              "      <script>\n",
              "        const buttonEl =\n",
              "          document.querySelector('#df-20d86a60-e2b7-4679-b56e-c1abac1e6c18 button.colab-df-convert');\n",
              "        buttonEl.style.display =\n",
              "          google.colab.kernel.accessAllowed ? 'block' : 'none';\n",
              "\n",
              "        async function convertToInteractive(key) {\n",
              "          const element = document.querySelector('#df-20d86a60-e2b7-4679-b56e-c1abac1e6c18');\n",
              "          const dataTable =\n",
              "            await google.colab.kernel.invokeFunction('convertToInteractive',\n",
              "                                                     [key], {});\n",
              "          if (!dataTable) return;\n",
              "\n",
              "          const docLinkHtml = 'Like what you see? Visit the ' +\n",
              "            '<a target=\"_blank\" href=https://colab.research.google.com/notebooks/data_table.ipynb>data table notebook</a>'\n",
              "            + ' to learn more about interactive tables.';\n",
              "          element.innerHTML = '';\n",
              "          dataTable['output_type'] = 'display_data';\n",
              "          await google.colab.output.renderOutput(dataTable, element);\n",
              "          const docLink = document.createElement('div');\n",
              "          docLink.innerHTML = docLinkHtml;\n",
              "          element.appendChild(docLink);\n",
              "        }\n",
              "      </script>\n",
              "    </div>\n",
              "  </div>\n",
              "  "
            ],
            "text/plain": [
              "        category  number_of_comments\n",
              "0          toxic               15294\n",
              "1   severe_toxic                1595\n",
              "2        obscene                8449\n",
              "3         threat                 478\n",
              "4         insult                7877\n",
              "5  identity_hate                1405"
            ]
          },
          "execution_count": 87,
          "metadata": {},
          "output_type": "execute_result"
        }
      ],
      "source": [
        "df_toxic = df.drop(['id', 'comment_text'], axis=1)\n",
        "counts = []\n",
        "categories = list(df_toxic.columns.values)\n",
        "for i in categories:\n",
        "    counts.append((i, df_toxic[i].sum()))\n",
        "df_stats = pd.DataFrame(counts, columns=['category', 'number_of_comments'])\n",
        "df_stats"
      ]
    },
    {
      "cell_type": "code",
      "execution_count": null,
      "metadata": {
        "colab": {
          "base_uri": "https://localhost:8080/",
          "height": 425
        },
        "id": "-PmEQaQv1r9m",
        "outputId": "3867e1fc-1305-4d64-e7ce-18d3e2569707"
      },
      "outputs": [
        {
          "data": {
            "text/plain": [
              "Text(0.5, 0, 'category')"
            ]
          },
          "execution_count": 88,
          "metadata": {},
          "output_type": "execute_result"
        },
        {
          "data": {
            "image/png": "[encoded data removed]",
            "text/plain": [
              "<Figure size 576x360 with 1 Axes>"
            ]
          },
          "metadata": {},
          "output_type": "display_data"
        }
      ],
      "source": [
        "df_stats.plot(x='category', y='number_of_comments', kind='bar', legend=False, grid=True, figsize=(8, 5))\n",
        "plt.title(\"Number of comments per category\")\n",
        "plt.ylabel('# of Occurrences', fontsize=12)\n",
        "plt.xlabel('category', fontsize=12)"
      ]
    },
    {
      "cell_type": "markdown",
      "metadata": {
        "id": "jpoNBf3819Sl"
      },
      "source": [
        "Multilabel Text\n",
        "\n",
        "How many rows have multiple labels?\n"
      ]
    },
    {
      "cell_type": "code",
      "execution_count": null,
      "metadata": {
        "colab": {
          "base_uri": "https://localhost:8080/",
          "height": 425
        },
        "id": "A7xXKRZl2TKO",
        "outputId": "8b0df671-5d5d-4e5e-dbca-ec12307edd68"
      },
      "outputs": [
        {
          "name": "stderr",
          "output_type": "stream",
          "text": [
            "/usr/local/lib/python3.8/dist-packages/seaborn/_decorators.py:36: FutureWarning: Pass the following variables as keyword args: x, y. From version 0.12, the only valid positional argument will be `data`, and passing other arguments without an explicit keyword will result in an error or misinterpretation.\n",
            "  warnings.warn(\n"
          ]
        },
        {
          "data": {
            "text/plain": [
              "Text(0.5, 0, '# of categories')"
            ]
          },
          "execution_count": 89,
          "metadata": {},
          "output_type": "execute_result"
        },
        {
          "data": {
            "image/png": "[encoded data removed]",
            "text/plain": [
              "<Figure size 576x360 with 1 Axes>"
            ]
          },
          "metadata": {},
          "output_type": "display_data"
        }
      ],
      "source": [
        "rowsums = df.iloc[:,2:].sum(axis=1)\n",
        "x=rowsums.value_counts()\n",
        "\n",
        "#plot\n",
        "plt.figure(figsize=(8,5))\n",
        "ax = sns.barplot(x.index, x.values)\n",
        "plt.title(\"Multiple categories per comment\")\n",
        "plt.ylabel('# of Occurrences', fontsize=12)\n",
        "plt.xlabel('# of categories', fontsize=12)"
      ]
    },
    {
      "cell_type": "markdown",
      "metadata": {
        "id": "mSN1-EZn2sXu"
      },
      "source": [
        "Vast majority of the comment texts are not labeled.\n",
        "\n",
        "The distribution of the number of words in comment texts."
      ]
    },
    {
      "cell_type": "code",
      "execution_count": null,
      "metadata": {
        "colab": {
          "base_uri": "https://localhost:8080/",
          "height": 283
        },
        "id": "iD5WY2Q22w0H",
        "outputId": "7c956bec-ccbd-47d9-d2b6-49e163eac7c8"
      },
      "outputs": [
        {
          "data": {
            "text/plain": [
              "<matplotlib.axes._subplots.AxesSubplot at 0x7fa25d445dc0>"
            ]
          },
          "execution_count": 90,
          "metadata": {},
          "output_type": "execute_result"
        },
        {
          "data": {
            "image/png": "[encoded data removed]",
            "text/plain": [
              "<Figure size 432x288 with 1 Axes>"
            ]
          },
          "metadata": {},
          "output_type": "display_data"
        }
      ],
      "source": [
        "lens = df.comment_text.str.len()\n",
        "lens.hist(bins = np.arange(0,5000,50))"
      ]
    },
    {
      "cell_type": "markdown",
      "metadata": {
        "id": "Oj6Z1Dsp2-7V"
      },
      "source": [
        "X-Axis:- Comment length\n",
        "\n",
        "Y-Axis:- Number of the comments of that particular length\n",
        "\n"
      ]
    },
    {
      "cell_type": "code",
      "execution_count": null,
      "metadata": {
        "colab": {
          "base_uri": "https://localhost:8080/"
        },
        "id": "0h4H1n7u3Y9-",
        "outputId": "d66e7a50-3a25-4764-d180-2f35c2adf01d"
      },
      "outputs": [
        {
          "name": "stdout",
          "output_type": "stream",
          "text": [
            "Percentage of comments that are not labelled:\n",
            "0.8983211235124177\n"
          ]
        }
      ],
      "source": [
        "print('Percentage of comments that are not labelled:')\n",
        "print(len(df[(df['toxic']==0) & (df['severe_toxic']==0) & (df['obscene']==0) & (df['threat']== 0) & (df['insult']==0) & (df['identity_hate']==0)]) / len(df))"
      ]
    },
    {
      "cell_type": "code",
      "execution_count": null,
      "metadata": {
        "colab": {
          "base_uri": "https://localhost:8080/"
        },
        "id": "jRZfj_n43gOx",
        "outputId": "0ec7307c-6d60-468b-8333-19897f50cd7f"
      },
      "outputs": [
        {
          "name": "stdout",
          "output_type": "stream",
          "text": [
            "Number of missing comments in comment text:\n"
          ]
        },
        {
          "data": {
            "text/plain": [
              "0"
            ]
          },
          "execution_count": 92,
          "metadata": {},
          "output_type": "execute_result"
        }
      ],
      "source": [
        "print('Number of missing comments in comment text:')\n",
        "df['comment_text'].isnull().sum()"
      ]
    },
    {
      "cell_type": "code",
      "execution_count": null,
      "metadata": {
        "colab": {
          "base_uri": "https://localhost:8080/",
          "height": 53
        },
        "id": "GIMx3p143llp",
        "outputId": "18cf1fad-7cb4-407c-a70a-508e8dbd33f8"
      },
      "outputs": [
        {
          "data": {
            "application/vnd.google.colaboratory.intrinsic+json": {
              "type": "string"
            },
            "text/plain": [
              "\"Explanation\\nWhy the edits made under my username Hardcore Metallica Fan were reverted? They weren't vandalisms, just closure on some GAs after I voted at New York Dolls FAC. And please don't remove the template from the talk page since I'm retired now.89.205.38.27\""
            ]
          },
          "execution_count": 93,
          "metadata": {},
          "output_type": "execute_result"
        }
      ],
      "source": [
        "df['comment_text'][0]"
      ]
    },
    {
      "cell_type": "code",
      "execution_count": null,
      "metadata": {
        "id": "F9vvKcP13ut8"
      },
      "outputs": [],
      "source": [
        "categories = ['toxic', 'severe_toxic', 'obscene', 'threat', 'insult', 'identity_hate']"
      ]
    },
    {
      "cell_type": "markdown",
      "metadata": {
        "id": "aajonxtz32XG"
      },
      "source": [
        "**function to clean the text**"
      ]
    },
    {
      "cell_type": "code",
      "execution_count": null,
      "metadata": {
        "id": "2XeE8uoD4AxV"
      },
      "outputs": [],
      "source": [
        "def clean_text(text):\n",
        "    text = text.lower()\n",
        "    text = re.sub(r\"what's\", \"what is \", text)\n",
        "    text = re.sub(r\"\\'s\", \" \", text)\n",
        "    text = re.sub(r\"\\'ve\", \" have \", text)\n",
        "    text = re.sub(r\"can't\", \"can not \", text)\n",
        "    text = re.sub(r\"n't\", \" not \", text)\n",
        "    text = re.sub(r\"i'm\", \"i am \", text)\n",
        "    text = re.sub(r\"\\'re\", \" are \", text)\n",
        "    text = re.sub(r\"\\'d\", \" would \", text)\n",
        "    text = re.sub(r\"\\'ll\", \" will \", text)\n",
        "    text = re.sub(r\"\\'scuse\", \" excuse \", text)\n",
        "    text = re.sub('\\W', ' ', text)\n",
        "    text = re.sub('\\s+', ' ', text)\n",
        "    text = text.strip(' ')\n",
        "    return text"
      ]
    },
    {
      "cell_type": "markdown",
      "metadata": {
        "id": "lVsi7DP34qAU"
      },
      "source": [
        "**Clean up comment_text column**"
      ]
    },
    {
      "cell_type": "code",
      "execution_count": null,
      "metadata": {
        "id": "jdzlHcI94uBp"
      },
      "outputs": [],
      "source": [
        "df['comment_text'] = df['comment_text'].map(lambda com : clean_text(com))"
      ]
    },
    {
      "cell_type": "code",
      "execution_count": null,
      "metadata": {
        "colab": {
          "base_uri": "https://localhost:8080/",
          "height": 53
        },
        "id": "LxFfB5KH5FHo",
        "outputId": "1cbb0f5a-0bdc-4206-953a-6a32ef51f2ae"
      },
      "outputs": [
        {
          "data": {
            "application/vnd.google.colaboratory.intrinsic+json": {
              "type": "string"
            },
            "text/plain": [
              "'explanation why the edits made under my username hardcore metallica fan were reverted they were not vandalisms just closure on some gas after i voted at new york dolls fac and please do not remove the template from the talk page since i am retired now 89 205 38 27'"
            ]
          },
          "execution_count": 97,
          "metadata": {},
          "output_type": "execute_result"
        }
      ],
      "source": [
        "df['comment_text'][0]"
      ]
    },
    {
      "cell_type": "markdown",
      "metadata": {
        "id": "GllMM8r85kPk"
      },
      "source": [
        "**Split to train and test sets**"
      ]
    },
    {
      "cell_type": "code",
      "execution_count": null,
      "metadata": {
        "id": "iOakpCsm5n0c"
      },
      "outputs": [],
      "source": [
        "train, test = train_test_split(df, random_state=42, test_size=0.33, shuffle=True)"
      ]
    },
    {
      "cell_type": "code",
      "execution_count": null,
      "metadata": {
        "colab": {
          "base_uri": "https://localhost:8080/"
        },
        "id": "OHqJ5AZg5tmJ",
        "outputId": "df4a1957-c949-4d79-e1fd-d8883e0be4e0"
      },
      "outputs": [
        {
          "name": "stdout",
          "output_type": "stream",
          "text": [
            "(106912,)\n",
            "(52659,)\n"
          ]
        }
      ],
      "source": [
        "X_train = train.comment_text\n",
        "X_test = test.comment_text\n",
        "print(X_train.shape)\n",
        "print(X_test.shape)"
      ]
    },
    {
      "cell_type": "markdown",
      "metadata": {
        "id": "wRBZiXii5_eZ"
      },
      "source": [
        "**Pipeline**"
      ]
    },
    {
      "cell_type": "code",
      "execution_count": null,
      "metadata": {
        "id": "kxO0So7f6Dub"
      },
      "outputs": [],
      "source": [
        "# Define a pipeline combining a text feature extractor with multi lable classifier\n",
        "NB_pipeline = Pipeline([\n",
        "                ('tfidf', TfidfVectorizer(stop_words=stop_words)),\n",
        "                ('clf', OneVsRestClassifier(MultinomialNB(\n",
        "                    fit_prior=True, class_prior=None))),\n",
        "            ])"
      ]
    },
    {
      "cell_type": "markdown",
      "metadata": {
        "id": "C4wActwF6Ovn"
      },
      "source": [
        "**Naive Bayes**"
      ]
    },
    {
      "cell_type": "code",
      "execution_count": null,
      "metadata": {
        "colab": {
          "base_uri": "https://localhost:8080/"
        },
        "id": "84_yYjQE6fOE",
        "outputId": "98b31da6-27fb-4244-f972-81b7ef718758"
      },
      "outputs": [
        {
          "name": "stdout",
          "output_type": "stream",
          "text": [
            "... Processing toxic\n",
            "Test accuracy is 0.9192350785240889\n",
            "... Processing severe_toxic\n",
            "Test accuracy is 0.9900112041626312\n",
            "... Processing obscene\n",
            "Test accuracy is 0.9515752293055318\n",
            "... Processing threat\n",
            "Test accuracy is 0.9971135038644866\n",
            "... Processing insult\n",
            "Test accuracy is 0.9517271501547694\n",
            "... Processing identity_hate\n",
            "Test accuracy is 0.9910556600011394\n"
          ]
        }
      ],
      "source": [
        "for category in categories:\n",
        "    print('... Processing {}'.format(category))\n",
        "    # train the model using X_dtm & y\n",
        "    NB_pipeline.fit(X_train, train[category])\n",
        "    # compute the testing accuracy\n",
        "    prediction = NB_pipeline.predict(X_test)\n",
        "    print('Test accuracy is {}'.format(accuracy_score(test[category], prediction)))"
      ]
    },
    {
      "cell_type": "markdown",
      "metadata": {
        "id": "tskBBVDv6yHw"
      },
      "source": [
        "**LinearSVC**"
      ]
    },
    {
      "cell_type": "code",
      "execution_count": null,
      "metadata": {
        "colab": {
          "base_uri": "https://localhost:8080/"
        },
        "id": "bwgiCCag61Ed",
        "outputId": "28fb21eb-4215-4132-9abc-94ee2feb287a"
      },
      "outputs": [
        {
          "name": "stdout",
          "output_type": "stream",
          "text": [
            "... Processing toxic\n",
            "Test accuracy is 0.9600068364382157\n",
            "... Processing severe_toxic\n",
            "Test accuracy is 0.9906948479842003\n",
            "... Processing obscene\n",
            "Test accuracy is 0.9788830019559809\n",
            "... Processing threat\n",
            "Test accuracy is 0.9974363356691164\n",
            "... Processing insult\n",
            "Test accuracy is 0.971135038644866\n",
            "... Processing identity_hate\n",
            "Test accuracy is 0.9919861752027194\n"
          ]
        }
      ],
      "source": [
        "SVC_pipeline = Pipeline([\n",
        "                ('tfidf', TfidfVectorizer(stop_words=stop_words)),\n",
        "                ('clf', OneVsRestClassifier(LinearSVC(), n_jobs=1)),\n",
        "            ])\n",
        "for category in categories:\n",
        "    print('... Processing {}'.format(category))\n",
        "    # train the model using X_dtm & y\n",
        "    SVC_pipeline.fit(X_train, train[category])\n",
        "    # compute the testing accuracy\n",
        "    prediction = SVC_pipeline.predict(X_test)\n",
        "    print('Test accuracy is {}'.format(accuracy_score(test[category], prediction)))"
      ]
    },
    {
      "cell_type": "markdown",
      "metadata": {
        "id": "_dGcZa3G7YZd"
      },
      "source": [
        "**Logistic Regression**"
      ]
    },
    {
      "cell_type": "code",
      "execution_count": null,
      "metadata": {
        "colab": {
          "base_uri": "https://localhost:8080/"
        },
        "id": "MH1PU5Ot7bii",
        "outputId": "0ac1219e-0870-4633-e42b-ebe38fa02d85"
      },
      "outputs": [
        {
          "name": "stdout",
          "output_type": "stream",
          "text": [
            "... Processing toxic\n",
            "Test accuracy is 0.9548415275641391\n",
            "... Processing severe_toxic\n",
            "Test accuracy is 0.9910746501072941\n",
            "... Processing obscene\n",
            "Test accuracy is 0.9760724662450863\n",
            "... Processing threat\n",
            "Test accuracy is 0.9973603752444976\n",
            "... Processing insult\n",
            "Test accuracy is 0.9687422852693747\n",
            "... Processing identity_hate\n",
            "Test accuracy is 0.991758293928863\n"
          ]
        }
      ],
      "source": [
        "LogReg_pipeline = Pipeline([\n",
        "                ('tfidf', TfidfVectorizer(stop_words=stop_words)),\n",
        "                ('clf', OneVsRestClassifier(LogisticRegression(solver='sag'), n_jobs=1)),\n",
        "            ])\n",
        "for category in categories:\n",
        "    print('... Processing {}'.format(category))\n",
        "    # train the model using X_dtm & y\n",
        "    LogReg_pipeline.fit(X_train, train[category])\n",
        "    # compute the testing accuracy\n",
        "    prediction = LogReg_pipeline.predict(X_test)\n",
        "    print('Test accuracy is {}'.format(accuracy_score(test[category], prediction)))"
      ]
    },
    {
      "cell_type": "code",
      "execution_count": null,
      "metadata": {
        "colab": {
          "base_uri": "https://localhost:8080/"
        },
        "id": "un5WEgVbjaJM",
        "outputId": "532fad2a-1686-4b2c-f7bc-4d5e94c9d833"
      },
      "outputs": [
        {
          "name": "stdout",
          "output_type": "stream",
          "text": [
            "Looking in indexes: https://pypi.org/simple, https://us-python.pkg.dev/colab-wheels/public/simple/\n",
            "Collecting gradio\n",
            "  Downloading gradio-3.18.0-py3-none-any.whl (14.2 MB)\n",
            "\u001b[2K     \u001b[90m━━━━━━━━━━━━━━━━━━━━━━━━━━━━━━━━━━━━━━━━\u001b[0m \u001b[32m14.2/14.2 MB\u001b[0m \u001b[31m45.3 MB/s\u001b[0m eta \u001b[36m0:00:00\u001b[0m\n",
            "\u001b[?25hRequirement already satisfied: jinja2 in /usr/local/lib/python3.8/dist-packages (2.11.3)\n",
            "Collecting pycryptodome\n",
            "  Downloading pycryptodome-3.17-cp35-abi3-manylinux_2_17_x86_64.manylinux2014_x86_64.whl (2.1 MB)\n",
            "\u001b[2K     \u001b[90m━━━━━━━━━━━━━━━━━━━━━━━━━━━━━━━━━━━━━━━━\u001b[0m \u001b[32m2.1/2.1 MB\u001b[0m \u001b[31m49.1 MB/s\u001b[0m eta \u001b[36m0:00:00\u001b[0m\n",
            "\u001b[?25hRequirement already satisfied: altair>=4.2.0 in /usr/local/lib/python3.8/dist-packages (from gradio) (4.2.2)\n",
            "Collecting uvicorn\n",
            "  Downloading uvicorn-0.20.0-py3-none-any.whl (56 kB)\n",
            "\u001b[2K     \u001b[90m━━━━━━━━━━━━━━━━━━━━━━━━━━━━━━━━━━━━━━━━\u001b[0m \u001b[32m56.9/56.9 KB\u001b[0m \u001b[31m2.0 MB/s\u001b[0m eta \u001b[36m0:00:00\u001b[0m\n",
            "\u001b[?25hRequirement already satisfied: pyyaml in /usr/local/lib/python3.8/dist-packages (from gradio) (6.0)\n",
            "Requirement already satisfied: aiohttp in /usr/local/lib/python3.8/dist-packages (from gradio) (3.8.3)\n",
            "Collecting aiofiles\n",
            "  Downloading aiofiles-23.1.0-py3-none-any.whl (14 kB)\n",
            "Requirement already satisfied: requests in /usr/local/lib/python3.8/dist-packages (from gradio) (2.25.1)\n",
            "Requirement already satisfied: matplotlib in /usr/local/lib/python3.8/dist-packages (from gradio) (3.2.2)\n",
            "Collecting pydub\n",
            "  Downloading pydub-0.25.1-py2.py3-none-any.whl (32 kB)\n",
            "Requirement already satisfied: numpy in /usr/local/lib/python3.8/dist-packages (from gradio) (1.21.6)\n",
            "Requirement already satisfied: markupsafe in /usr/local/lib/python3.8/dist-packages (from gradio) (2.0.1)\n",
            "Requirement already satisfied: pydantic in /usr/local/lib/python3.8/dist-packages (from gradio) (1.10.4)\n",
            "Collecting markdown-it-py[linkify,plugins]>=2.0.0\n",
            "  Downloading markdown_it_py-2.1.0-py3-none-any.whl (84 kB)\n",
            "\u001b[2K     \u001b[90m━━━━━━━━━━━━━━━━━━━━━━━━━━━━━━━━━━━━━━━━\u001b[0m \u001b[32m84.5/84.5 KB\u001b[0m \u001b[31m4.1 MB/s\u001b[0m eta \u001b[36m0:00:00\u001b[0m\n",
            "\u001b[?25hRequirement already satisfied: fsspec in /usr/local/lib/python3.8/dist-packages (from gradio) (2023.1.0)\n",
            "Collecting websockets>=10.0\n",
            "  Downloading websockets-10.4-cp38-cp38-manylinux_2_5_x86_64.manylinux1_x86_64.manylinux_2_17_x86_64.manylinux2014_x86_64.whl (106 kB)\n",
            "\u001b[2K     \u001b[90m━━━━━━━━━━━━━━━━━━━━━━━━━━━━━━━━━━━━━━━\u001b[0m \u001b[32m107.0/107.0 KB\u001b[0m \u001b[31m4.3 MB/s\u001b[0m eta \u001b[36m0:00:00\u001b[0m\n",
            "\u001b[?25hCollecting ffmpy\n",
            "  Downloading ffmpy-0.3.0.tar.gz (4.8 kB)\n",
            "  Preparing metadata (setup.py) ... \u001b[?25l\u001b[?25hdone\n",
            "Requirement already satisfied: typing-extensions in /usr/local/lib/python3.8/dist-packages (from gradio) (4.4.0)\n",
            "Collecting httpx\n",
            "  Downloading httpx-0.23.3-py3-none-any.whl (71 kB)\n",
            "\u001b[2K     \u001b[90m━━━━━━━━━━━━━━━━━━━━━━━━━━━━━━━━━━━━━━━━\u001b[0m \u001b[32m71.5/71.5 KB\u001b[0m \u001b[31m4.7 MB/s\u001b[0m eta \u001b[36m0:00:00\u001b[0m\n",
            "\u001b[?25hRequirement already satisfied: pandas in /usr/local/lib/python3.8/dist-packages (from gradio) (1.3.5)\n",
            "Collecting fastapi\n",
            "  Downloading fastapi-0.91.0-py3-none-any.whl (56 kB)\n",
            "\u001b[2K     \u001b[90m━━━━━━━━━━━━━━━━━━━━━━━━━━━━━━━━━━━━━━━━\u001b[0m \u001b[32m56.2/56.2 KB\u001b[0m \u001b[31m4.0 MB/s\u001b[0m eta \u001b[36m0:00:00\u001b[0m\n",
            "\u001b[?25hCollecting python-multipart\n",
            "  Downloading python-multipart-0.0.5.tar.gz (32 kB)\n",
            "  Preparing metadata (setup.py) ... \u001b[?25l\u001b[?25hdone\n",
            "Collecting orjson\n",
            "  Downloading orjson-3.8.6-cp38-cp38-manylinux_2_28_x86_64.whl (140 kB)\n",
            "\u001b[2K     \u001b[90m━━━━━━━━━━━━━━━━━━━━━━━━━━━━━━━━━━━━━━━\u001b[0m \u001b[32m140.7/140.7 KB\u001b[0m \u001b[31m3.1 MB/s\u001b[0m eta \u001b[36m0:00:00\u001b[0m\n",
            "\u001b[?25hRequirement already satisfied: pillow in /usr/local/lib/python3.8/dist-packages (from gradio) (7.1.2)\n",
            "Requirement already satisfied: jsonschema>=3.0 in /usr/local/lib/python3.8/dist-packages (from altair>=4.2.0->gradio) (4.3.3)\n",
            "Requirement already satisfied: entrypoints in /usr/local/lib/python3.8/dist-packages (from altair>=4.2.0->gradio) (0.4)\n",
            "Requirement already satisfied: toolz in /usr/local/lib/python3.8/dist-packages (from altair>=4.2.0->gradio) (0.12.0)\n",
            "Collecting mdurl~=0.1\n",
            "  Downloading mdurl-0.1.2-py3-none-any.whl (10.0 kB)\n",
            "Collecting mdit-py-plugins\n",
            "  Downloading mdit_py_plugins-0.3.3-py3-none-any.whl (50 kB)\n",
            "\u001b[2K     \u001b[90m━━━━━━━━━━━━━━━━━━━━━━━━━━━━━━━━━━━━━━━━\u001b[0m \u001b[32m50.5/50.5 KB\u001b[0m \u001b[31m6.3 MB/s\u001b[0m eta \u001b[36m0:00:00\u001b[0m\n",
            "\u001b[?25hCollecting linkify-it-py~=1.0\n",
            "  Downloading linkify_it_py-1.0.3-py3-none-any.whl (19 kB)\n",
            "Requirement already satisfied: python-dateutil>=2.7.3 in /usr/local/lib/python3.8/dist-packages (from pandas->gradio) (2.8.2)\n",
            "Requirement already satisfied: pytz>=2017.3 in /usr/local/lib/python3.8/dist-packages (from pandas->gradio) (2022.7.1)\n",
            "Requirement already satisfied: yarl<2.0,>=1.0 in /usr/local/lib/python3.8/dist-packages (from aiohttp->gradio) (1.8.2)\n",
            "Requirement already satisfied: frozenlist>=1.1.1 in /usr/local/lib/python3.8/dist-packages (from aiohttp->gradio) (1.3.3)\n",
            "Requirement already satisfied: aiosignal>=1.1.2 in /usr/local/lib/python3.8/dist-packages (from aiohttp->gradio) (1.3.1)\n",
            "Requirement already satisfied: charset-normalizer<3.0,>=2.0 in /usr/local/lib/python3.8/dist-packages (from aiohttp->gradio) (2.1.1)\n",
            "Requirement already satisfied: multidict<7.0,>=4.5 in /usr/local/lib/python3.8/dist-packages (from aiohttp->gradio) (6.0.4)\n",
            "Requirement already satisfied: attrs>=17.3.0 in /usr/local/lib/python3.8/dist-packages (from aiohttp->gradio) (22.2.0)\n",
            "Requirement already satisfied: async-timeout<5.0,>=4.0.0a3 in /usr/local/lib/python3.8/dist-packages (from aiohttp->gradio) (4.0.2)\n",
            "Collecting starlette<0.25.0,>=0.24.0\n",
            "  Downloading starlette-0.24.0-py3-none-any.whl (65 kB)\n",
            "\u001b[2K     \u001b[90m━━━━━━━━━━━━━━━━━━━━━━━━━━━━━━━━━━━━━━━━\u001b[0m \u001b[32m65.8/65.8 KB\u001b[0m \u001b[31m6.3 MB/s\u001b[0m eta \u001b[36m0:00:00\u001b[0m\n",
            "\u001b[?25hRequirement already satisfied: certifi in /usr/local/lib/python3.8/dist-packages (from httpx->gradio) (2022.12.7)\n",
            "Collecting rfc3986[idna2008]<2,>=1.3\n",
            "  Downloading rfc3986-1.5.0-py2.py3-none-any.whl (31 kB)\n",
            "Collecting sniffio\n",
            "  Downloading sniffio-1.3.0-py3-none-any.whl (10 kB)\n",
            "Collecting httpcore<0.17.0,>=0.15.0\n",
            "  Downloading httpcore-0.16.3-py3-none-any.whl (69 kB)\n",
            "\u001b[2K     \u001b[90m━━━━━━━━━━━━━━━━━━━━━━━━━━━━━━━━━━━━━━━━\u001b[0m \u001b[32m69.6/69.6 KB\u001b[0m \u001b[31m8.4 MB/s\u001b[0m eta \u001b[36m0:00:00\u001b[0m\n",
            "\u001b[?25hRequirement already satisfied: kiwisolver>=1.0.1 in /usr/local/lib/python3.8/dist-packages (from matplotlib->gradio) (1.4.4)\n",
            "Requirement already satisfied: cycler>=0.10 in /usr/local/lib/python3.8/dist-packages (from matplotlib->gradio) (0.11.0)\n",
            "Requirement already satisfied: pyparsing!=2.0.4,!=2.1.2,!=2.1.6,>=2.0.1 in /usr/local/lib/python3.8/dist-packages (from matplotlib->gradio) (3.0.9)\n",
            "Requirement already satisfied: six>=1.4.0 in /usr/local/lib/python3.8/dist-packages (from python-multipart->gradio) (1.15.0)\n",
            "Requirement already satisfied: chardet<5,>=3.0.2 in /usr/local/lib/python3.8/dist-packages (from requests->gradio) (4.0.0)\n",
            "Requirement already satisfied: urllib3<1.27,>=1.21.1 in /usr/local/lib/python3.8/dist-packages (from requests->gradio) (1.24.3)\n",
            "Requirement already satisfied: idna<3,>=2.5 in /usr/local/lib/python3.8/dist-packages (from requests->gradio) (2.10)\n",
            "Collecting h11>=0.8\n",
            "  Downloading h11-0.14.0-py3-none-any.whl (58 kB)\n",
            "\u001b[2K     \u001b[90m━━━━━━━━━━━━━━━━━━━━━━━━━━━━━━━━━━━━━━━━\u001b[0m \u001b[32m58.3/58.3 KB\u001b[0m \u001b[31m7.3 MB/s\u001b[0m eta \u001b[36m0:00:00\u001b[0m\n",
            "\u001b[?25hRequirement already satisfied: click>=7.0 in /usr/local/lib/python3.8/dist-packages (from uvicorn->gradio) (7.1.2)\n",
            "Collecting anyio<5.0,>=3.0\n",
            "  Downloading anyio-3.6.2-py3-none-any.whl (80 kB)\n",
            "\u001b[2K     \u001b[90m━━━━━━━━━━━━━━━━━━━━━━━━━━━━━━━━━━━━━━━━\u001b[0m \u001b[32m80.6/80.6 KB\u001b[0m \u001b[31m11.1 MB/s\u001b[0m eta \u001b[36m0:00:00\u001b[0m\n",
            "\u001b[?25hRequirement already satisfied: pyrsistent!=0.17.0,!=0.17.1,!=0.17.2,>=0.14.0 in /usr/local/lib/python3.8/dist-packages (from jsonschema>=3.0->altair>=4.2.0->gradio) (0.19.3)\n",
            "Requirement already satisfied: importlib-resources>=1.4.0 in /usr/local/lib/python3.8/dist-packages (from jsonschema>=3.0->altair>=4.2.0->gradio) (5.10.2)\n",
            "Collecting uc-micro-py\n",
            "  Downloading uc_micro_py-1.0.1-py3-none-any.whl (6.2 kB)\n",
            "Requirement already satisfied: zipp>=3.1.0 in /usr/local/lib/python3.8/dist-packages (from importlib-resources>=1.4.0->jsonschema>=3.0->altair>=4.2.0->gradio) (3.12.1)\n",
            "Building wheels for collected packages: ffmpy, python-multipart\n",
            "  Building wheel for ffmpy (setup.py) ... \u001b[?25l\u001b[?25hdone\n",
            "  Created wheel for ffmpy: filename=ffmpy-0.3.0-py3-none-any.whl size=4711 sha256=13cc81e7ec1e4235c3ba15bf552e242567c47e19ece1114487aac36fe784733a\n",
            "  Stored in directory: /root/.cache/pip/wheels/ff/5b/59/913b443e7369dc04b61f607a746b6f7d83fb65e2e19fcc958d\n",
            "  Building wheel for python-multipart (setup.py) ... \u001b[?25l\u001b[?25hdone\n",
            "  Created wheel for python-multipart: filename=python_multipart-0.0.5-py3-none-any.whl size=31678 sha256=bede44ab666f0c6269aac272d9d5b0f19833a25d13f6f1e5f8abb5b95699cb48\n",
            "  Stored in directory: /root/.cache/pip/wheels/9e/fc/1c/cf980e6413d3ee8e70cd8f39e2366b0f487e3e221aeb452eb0\n",
            "Successfully built ffmpy python-multipart\n",
            "Installing collected packages: rfc3986, pydub, ffmpy, websockets, uc-micro-py, sniffio, python-multipart, pycryptodome, orjson, mdurl, h11, aiofiles, uvicorn, markdown-it-py, linkify-it-py, anyio, starlette, mdit-py-plugins, httpcore, httpx, fastapi, gradio\n",
            "Successfully installed aiofiles-23.1.0 anyio-3.6.2 fastapi-0.91.0 ffmpy-0.3.0 gradio-3.18.0 h11-0.14.0 httpcore-0.16.3 httpx-0.23.3 linkify-it-py-1.0.3 markdown-it-py-2.1.0 mdit-py-plugins-0.3.3 mdurl-0.1.2 orjson-3.8.6 pycryptodome-3.17 pydub-0.25.1 python-multipart-0.0.5 rfc3986-1.5.0 sniffio-1.3.0 starlette-0.24.0 uc-micro-py-1.0.1 uvicorn-0.20.0 websockets-10.4\n"
          ]
        }
      ],
      "source": [
        "!pip install gradio jinja2"
      ]
    },
    {
      "cell_type": "code",
      "execution_count": null,
      "metadata": {
        "id": "-_2r7qOHjxJI"
      },
      "outputs": [],
      "source": [
        "import tensorflow as tf\n",
        "import gradio as gr"
      ]
    },
    {
      "cell_type": "code",
      "execution_count": null,
      "metadata": {
        "colab": {
          "base_uri": "https://localhost:8080/",
          "height": 200
        },
        "id": "tXG5Z6TYkA3v",
        "outputId": "2c5a05f7-d016-4e80-bded-e80d8509fd82"
      },
      "outputs": [
        {
          "ename": "NameError",
          "evalue": "ignored",
          "output_type": "error",
          "traceback": [
            "\u001b[0;31m---------------------------------------------------------------------------\u001b[0m",
            "\u001b[0;31mNameError\u001b[0m                                 Traceback (most recent call last)",
            "\u001b[0;32m<ipython-input-3-f5d8ac15336b>\u001b[0m in \u001b[0;36m<module>\u001b[0;34m\u001b[0m\n\u001b[0;32m----> 1\u001b[0;31m interface = gr.Interface(fn=score_comment, \n\u001b[0m\u001b[1;32m      2\u001b[0m                          \u001b[0minputs\u001b[0m\u001b[0;34m=\u001b[0m\u001b[0mgr\u001b[0m\u001b[0;34m.\u001b[0m\u001b[0minputs\u001b[0m\u001b[0;34m.\u001b[0m\u001b[0mTextbox\u001b[0m\u001b[0;34m(\u001b[0m\u001b[0mlines\u001b[0m\u001b[0;34m=\u001b[0m\u001b[0;36m2\u001b[0m\u001b[0;34m,\u001b[0m \u001b[0mplaceholder\u001b[0m\u001b[0;34m=\u001b[0m\u001b[0;34m'Comment to score'\u001b[0m\u001b[0;34m)\u001b[0m\u001b[0;34m,\u001b[0m\u001b[0;34m\u001b[0m\u001b[0;34m\u001b[0m\u001b[0m\n\u001b[1;32m      3\u001b[0m                         outputs='text')\n",
            "\u001b[0;31mNameError\u001b[0m: name 'score_comment' is not defined"
          ]
        }
      ],
      "source": [
        "interface = gr.Interface(fn=score_comment, \n",
        "                         inputs=gr.inputs.Textbox(lines=2, placeholder='Comment to score'),\n",
        "                        outputs='text')"
      ]
    },
    {
      "cell_type": "code",
      "execution_count": null,
      "metadata": {
        "colab": {
          "base_uri": "https://localhost:8080/",
          "height": 165
        },
        "id": "nyvFSLTmkafg",
        "outputId": "83be9791-b65d-4bfa-b414-a79dcd3bea30"
      },
      "outputs": [
        {
          "ename": "NameError",
          "evalue": "ignored",
          "output_type": "error",
          "traceback": [
            "\u001b[0;31m---------------------------------------------------------------------------\u001b[0m",
            "\u001b[0;31mNameError\u001b[0m                                 Traceback (most recent call last)",
            "\u001b[0;32m<ipython-input-4-7b23d807076d>\u001b[0m in \u001b[0;36m<module>\u001b[0;34m\u001b[0m\n\u001b[0;32m----> 1\u001b[0;31m \u001b[0minterface\u001b[0m\u001b[0;34m.\u001b[0m\u001b[0mlaunch\u001b[0m\u001b[0;34m(\u001b[0m\u001b[0mshare\u001b[0m\u001b[0;34m=\u001b[0m\u001b[0;32mTrue\u001b[0m\u001b[0;34m)\u001b[0m\u001b[0;34m\u001b[0m\u001b[0;34m\u001b[0m\u001b[0m\n\u001b[0m",
            "\u001b[0;31mNameError\u001b[0m: name 'interface' is not defined"
          ]
        }
      ],
      "source": [
        "interface.launch(share=True)"
      ]
    }
  ],
  "metadata": {
    "accelerator": "GPU",
    "colab": {
      "provenance": []
    },
    "gpuClass": "standard",
    "kernelspec": {
      "display_name": "Python 3",
      "language": "python",
      "name": "python3"
    },
    "language_info": {
      "codemirror_mode": {
        "name": "ipython",
        "version": 3
      },
      "file_extension": ".py",
      "mimetype": "text/x-python",
      "name": "python",
      "nbconvert_exporter": "python",
      "pygments_lexer": "ipython3",
      "version": "3.7.9"
    }
  },
  "nbformat": 4,
  "nbformat_minor": 0
}